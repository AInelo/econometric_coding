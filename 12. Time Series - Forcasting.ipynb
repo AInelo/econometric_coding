{
 "cells": [
  {
   "cell_type": "markdown",
   "id": "faff85ae-6651-4b7a-81a3-e0fcdf2d7044",
   "metadata": {},
   "source": [
    "# <font face=\"gotham\" color=\"purple\"> ARMA And ARIMA </font>"
   ]
  },
  {
   "cell_type": "markdown",
   "id": "74d9995f-8d23-4bc7-bbf4-9df74599b64f",
   "metadata": {},
   "source": [
    "We have introduced $\\text{AR}$ and $\\text{MA}$ models in previous chapters, here we will continue to introduce other two common models: $\\text{ARMA}$ and $\\text{ARMIA}$."
   ]
  },
  {
   "cell_type": "markdown",
   "id": "8b6c72a5-b010-48c8-9477-ef94e6a1b6f4",
   "metadata": {},
   "source": [
    "An $\\text{ARMA}(1,1)$ process is a combination of $\\text{AR}$ and $\\text{MA}$\n",
    "$$\n",
    "Y_{t}=\\phi_0+\\phi_{1} Y_{t-1}+\\theta_{0} u_{t}+\\theta_{1} u_{t-1}\n",
    "$$"
   ]
  },
  {
   "cell_type": "markdown",
   "id": "4318d63b-15a1-4abc-aca4-a55cec405ec7",
   "metadata": {},
   "source": [
    "In general, $\\text{ARMA}(p,q)$ process has the form\n",
    "$$\n",
    "Y_t = \\phi_0 + \\sum_{i=1}^pY_{t-i}+\\sum_{i=1}^q\\theta_i u_{t-i}\n",
    "$$"
   ]
  },
  {
   "cell_type": "markdown",
   "id": "216d1b67-0c58-4c3e-868b-61e8a58c2eb7",
   "metadata": {},
   "source": [
    "And $\\text{ARIMA}$ model is essentially the same as $\\text{ARMA}$, if we have to difference a series $d$ times to render it stationary then apply the $\\text{ARIMA}$ model, we say that the original time series is $\\text{ARIMA}(p,d,q)$. \n",
    "\n",
    "With the same token, $\\text{ARIMA}(p,0,q)$ process is the same as $\\text{ARMA}(p,q)$."
   ]
  },
  {
   "cell_type": "markdown",
   "id": "54bccf8c-8928-4931-b2c6-6de9452477bf",
   "metadata": {},
   "source": [
    "# <font face=\"gotham\" color=\"purple\"> The Box-Jenkins Methodology </font>"
   ]
  },
  {
   "cell_type": "markdown",
   "id": "61113dbc-f136-4671-ac99-541d7c5ac909",
   "metadata": {},
   "source": [
    "With so many options at hands, what model to apply to a time series? This is where **Box-Jenkins Methodology** kick in, which provides a systematic method of identifying, estimating, checking with $\\text{ARIMA}$ models. "
   ]
  },
  {
   "cell_type": "markdown",
   "id": "0c5ea3b1-ea36-4711-8c26-d0f287e73c7e",
   "metadata": {},
   "source": [
    "## <font face=\"gotham\" color=\"purple\"> ACF VS PACF </font>"
   ]
  },
  {
   "cell_type": "markdown",
   "id": "1449284d-c9ad-48db-89c6-4fd650463629",
   "metadata": {},
   "source": [
    "Before discussion of $\\text{ARIMA}$ identification, we should understand the difference of **autocorrelation function** and **partial autocorrelation function**, which both are important tools for identifying lags of $\\text{ARIMA}$."
   ]
  },
  {
   "cell_type": "markdown",
   "id": "e541493a-d7bf-4ced-b1c8-60c5bc9c48a9",
   "metadata": {},
   "source": []
  }
 ],
 "metadata": {
  "kernelspec": {
   "display_name": "Python 3",
   "language": "python",
   "name": "python3"
  },
  "language_info": {
   "codemirror_mode": {
    "name": "ipython",
    "version": 3
   },
   "file_extension": ".py",
   "mimetype": "text/x-python",
   "name": "python",
   "nbconvert_exporter": "python",
   "pygments_lexer": "ipython3",
   "version": "3.8.8"
  }
 },
 "nbformat": 4,
 "nbformat_minor": 5
}
