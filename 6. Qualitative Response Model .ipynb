{
 "cells": [
  {
   "cell_type": "code",
   "execution_count": 2,
   "id": "b2ebc3f6-505f-4c2c-9463-5d34b01c6a86",
   "metadata": {},
   "outputs": [],
   "source": [
    "import numpy as np\n",
    "import matplotlib.pyplot as plt\n",
    "import pandas as pd\n",
    "import scipy as sp\n",
    "import scipy.stats\n",
    "import statsmodels.api as sm"
   ]
  },
  {
   "cell_type": "markdown",
   "id": "3ffce874-3d61-4dad-a179-aa1f2fb7db18",
   "metadata": {},
   "source": [
    "# <font face=\"gotham\" color=\"purple\">What Is Qualitative Response Model?</font>"
   ]
  },
  {
   "cell_type": "markdown",
   "id": "76c0fa22-cd7e-4727-9fb2-df9ece1cf899",
   "metadata": {},
   "source": [
    "So far we have only discussed the model that takes $Y$ as a quantitative variable by default, however there are situations we want $Y$ to be qualitative variable, for example, $Y = 1$ represents a family owns house, $Y=0$ means not owning a flat, independent variables can be quantitative variables such as their income, ages, education and etc.\n",
    "\n",
    "Specifically, if the response variables only takes two values, such as $1$ or $0$, we call them **binary variable**, the regression model with binary variable as dependent variable is called **binary response regression model**, similarly there is also **trichotomous response regression model** or more generally **polychotomous response regression model**, but names do not matter, they are all **qualitative response model** as in the question of this section.\n",
    "\n",
    "For easy demonstration, we will mostly deal with _binary response model_, there are four approaches to develop this type of model: **linear probability model**, **logit model**, **probit model** and **tobit model**. \n",
    "\n",
    "We will go through all of them in this chapter."
   ]
  },
  {
   "cell_type": "markdown",
   "id": "e6df86b8-ba84-4bea-b091-d680f122b7f7",
   "metadata": {},
   "source": [
    "# <font face=\"gotham\" color=\"purple\">The Linear Probability Model (LPM)</font>"
   ]
  },
  {
   "cell_type": "markdown",
   "id": "db69ebdf-e008-48bd-98fd-4811f73285a4",
   "metadata": {},
   "source": [
    "Consider a simple regression model\n",
    "$$\n",
    "Y_{i}=\\beta_{1}+\\beta_{2} X_{i}+u_{i}\n",
    "$$\n",
    "where $X$ represents family income, $Y=1$ represents if the family owns a flat and $0$ the opposite. There are only two outcomes, either own a flat or not, so $Y_i$ follows **Bernoulli Distribution**.\n",
    "\n",
    "It would be fast to recognize the $u_i$ can't be normally distributed, since\n",
    "$$\n",
    "u_{i}=Y_{i}-\\beta_{1}-\\beta_{2} X_{i}\n",
    "$$\n",
    "If we denote the probability $Y_i=1$ as $P_i$ and $Y_i=0$ as $1-P_i$, then\n",
    "$$\n",
    "\\begin{array}{lcc} \n",
    "& u_{i} & \\text { Probability } \\\\\n",
    "\\text { When } Y_{i}=1 & 1-\\beta_{1}-\\beta_{2} X_{i} & P_{i} \\\\\n",
    "\\text { When } Y_{i}=0 & -\\beta_{1}-\\beta_{2} X_{i} & \\left(1-P_{i}\\right)\n",
    "\\end{array}\n",
    "$$\n",
    "it shows that $u_i$ also follows Bernoulli distribution."
   ]
  },
  {
   "cell_type": "markdown",
   "id": "10aecef9-9e8b-4d9c-a3ff-3e055cd5293a",
   "metadata": {},
   "source": [
    "Recall the fact from statistics course, that the variance of Bernoulli distribution is $P_i(1-P_i)$, what's more\n",
    "$$\n",
    "E\\left(Y_{i} \\mid X_{i}\\right)=\\beta_{1}+\\beta_{2} X_{i}=0\\left(1-P_{i}\\right)+1\\left(P_{i}\\right)=P_{i}\n",
    "$$\n",
    "The $P_i$ is a function of $X_i$, hence $u_i$ is heteroskedastic. "
   ]
  },
  {
   "cell_type": "markdown",
   "id": "5f55d5c0-9b6a-4472-b4af-37024a001aa7",
   "metadata": {},
   "source": [
    "## <font face=\"gotham\" color=\"purple\">Home Owners' Example</font>"
   ]
  },
  {
   "cell_type": "markdown",
   "id": "69322a7b-7474-49f7-a3d1-c537a52d969c",
   "metadata": {},
   "source": [
    "Here is an excerpt data from a real estate survey in Manchester, UK. The family income is measured in thousand pounds."
   ]
  },
  {
   "cell_type": "code",
   "execution_count": 84,
   "id": "445a0ab0-9f82-4655-a3b2-ed9ac4bc6372",
   "metadata": {},
   "outputs": [
    {
     "data": {
      "text/html": [
       "<div>\n",
       "<style scoped>\n",
       "    .dataframe tbody tr th:only-of-type {\n",
       "        vertical-align: middle;\n",
       "    }\n",
       "\n",
       "    .dataframe tbody tr th {\n",
       "        vertical-align: top;\n",
       "    }\n",
       "\n",
       "    .dataframe thead th {\n",
       "        text-align: right;\n",
       "    }\n",
       "</style>\n",
       "<table border=\"1\" class=\"dataframe\">\n",
       "  <thead>\n",
       "    <tr style=\"text-align: right;\">\n",
       "      <th></th>\n",
       "      <th>Annual_Family_Income</th>\n",
       "      <th>Own_House</th>\n",
       "    </tr>\n",
       "  </thead>\n",
       "  <tbody>\n",
       "    <tr>\n",
       "      <th>0</th>\n",
       "      <td>56</td>\n",
       "      <td>1</td>\n",
       "    </tr>\n",
       "    <tr>\n",
       "      <th>1</th>\n",
       "      <td>78</td>\n",
       "      <td>1</td>\n",
       "    </tr>\n",
       "    <tr>\n",
       "      <th>2</th>\n",
       "      <td>67</td>\n",
       "      <td>0</td>\n",
       "    </tr>\n",
       "    <tr>\n",
       "      <th>3</th>\n",
       "      <td>34</td>\n",
       "      <td>1</td>\n",
       "    </tr>\n",
       "    <tr>\n",
       "      <th>4</th>\n",
       "      <td>23</td>\n",
       "      <td>0</td>\n",
       "    </tr>\n",
       "  </tbody>\n",
       "</table>\n",
       "</div>"
      ],
      "text/plain": [
       "   Annual_Family_Income  Own_House\n",
       "0                    56          1\n",
       "1                    78          1\n",
       "2                    67          0\n",
       "3                    34          1\n",
       "4                    23          0"
      ]
     },
     "execution_count": 84,
     "metadata": {},
     "output_type": "execute_result"
    }
   ],
   "source": [
    "df = pd.read_excel('Basic_Econometrics_practice_data.xlsx', sheet_name = 'HouseOwn_Quali_Resp'); df.head()"
   ]
  },
  {
   "cell_type": "markdown",
   "id": "6cab4839-412a-4411-9277-5958d6913135",
   "metadata": {},
   "source": [
    "Perform a quick OLS estimation (ignoring the heteroskedasticity for now) and plot the regression line."
   ]
  },
  {
   "cell_type": "code",
   "execution_count": 85,
   "id": "01a2c606-1513-421e-b342-0ca9bc1d5014",
   "metadata": {},
   "outputs": [
    {
     "name": "stdout",
     "output_type": "stream",
     "text": [
      "                            OLS Regression Results                            \n",
      "==============================================================================\n",
      "Dep. Variable:              Own_House   R-squared:                       0.583\n",
      "Model:                            OLS   Adj. R-squared:                  0.571\n",
      "Method:                 Least Squares   F-statistic:                     50.32\n",
      "Date:                Thu, 02 Sep 2021   Prob (F-statistic):           2.47e-08\n",
      "Time:                        14:34:24   Log-Likelihood:                -10.752\n",
      "No. Observations:                  38   AIC:                             25.50\n",
      "Df Residuals:                      36   BIC:                             28.78\n",
      "Df Model:                           1                                         \n",
      "Covariance Type:            nonrobust                                         \n",
      "========================================================================================\n",
      "                           coef    std err          t      P>|t|      [0.025      0.975]\n",
      "----------------------------------------------------------------------------------------\n",
      "const                   -0.1981      0.119     -1.671      0.103      -0.439       0.042\n",
      "Annual_Family_Income     0.0162      0.002      7.094      0.000       0.012       0.021\n",
      "==============================================================================\n",
      "Omnibus:                        0.225   Durbin-Watson:                   2.640\n",
      "Prob(Omnibus):                  0.894   Jarque-Bera (JB):                0.112\n",
      "Skew:                          -0.123   Prob(JB):                        0.945\n",
      "Kurtosis:                       2.900   Cond. No.                         115.\n",
      "==============================================================================\n",
      "\n",
      "Notes:\n",
      "[1] Standard Errors assume that the covariance matrix of the errors is correctly specified.\n"
     ]
    }
   ],
   "source": [
    "X = df['Annual_Family_Income']\n",
    "Y = df['Own_House']\n",
    "\n",
    "X = sm.add_constant(X) # adding a constant\n",
    "\n",
    "model = sm.OLS(Y, X).fit() \n",
    "\n",
    "print_model = model.summary()\n",
    "print(print_model)"
   ]
  },
  {
   "cell_type": "code",
   "execution_count": 86,
   "id": "b87da3ff-b9ac-49a2-a65d-680f9244b211",
   "metadata": {},
   "outputs": [
    {
     "data": {
      "image/png": "[encoded data removed]",
      "text/plain": [
       "<Figure size 864x504 with 1 Axes>"
      ]
     },
     "metadata": {
      "needs_background": "light"
     },
     "output_type": "display_data"
    }
   ],
   "source": [
    "fig, ax = plt.subplots(figsize = (12, 7))\n",
    "ax.scatter(df['Annual_Family_Income'], df['Own_House'])\n",
    "ax.plot(df['Annual_Family_Income'], model.fittedvalues, color = 'tomato')\n",
    "ax.grid()\n",
    "ax.set_xlabel('Income')\n",
    "ax.set_ylabel('Owning a flat = 1, Not Owning = 0')\n",
    "plt.show()"
   ]
  },
  {
   "cell_type": "markdown",
   "id": "581c58bb-6043-4cc6-8158-cffbc5e94d2a",
   "metadata": {},
   "source": [
    "Let's interpret the results, the constant term is $-0.1981$, but probability can never be negative, hence we ignore constant term, or simply treat it as $0$. The slope term $0.0162$ indicates that in average with every $1000$ pounds increment in family income, the probability of owning a house will increase $1.6\\%$.\n",
    "\n",
    "However, you could doubt its reliability that assuming income and probability is linear relation, actually it's more rational to assume there is some threshold to afford a house, if the house cost $500000$ pounds, earning $20000$ shouldn't be any obvious improvement than earning $10000$. Similarly, family with income of $200000$ wouldn't be much different than family with income of $190000$. We will talk about how to model this assumption in next section. So far we will stick with LPM.\n",
    "\n",
    "What if a family has $39000$ pounds of annual income? Our model predicts the probability they own a house is $-0.1981 + 39\\times0.0162=.43$. But how about family income of $11000$ pounds? The models says $-0.1981 + 11\\times0.0162=-0.0199$, it predicts a negative probability and apparent it has no sense. Similarly, if a family has $99000$ pounds income, the model predicts a probability $-0.1981 + 99\\times0.0162=1.4057$ which is more than $1$.\n",
    "\n",
    "If the vertical axis represents probabilities, i.e. $0 \\leq E\\left(Y_{i} \\mid X_{i}\\right) \\leq 1 $, it would be a natural defects of LPM to predict out of this range."
   ]
  },
  {
   "cell_type": "markdown",
   "id": "d320a657-2c4c-4a48-afcc-c3183b149d06",
   "metadata": {},
   "source": [
    "However, we still haven't address the heteroskedasticity issue of LPM, which means the estimated results above are actually all _invalid_! For fast remedy, you can invoke the White's robust standard error."
   ]
  },
  {
   "cell_type": "code",
   "execution_count": 87,
   "id": "3838467c-88c9-4aa5-9373-d2fe5df51dff",
   "metadata": {},
   "outputs": [
    {
     "data": {
      "text/plain": [
       "const                   0.086859\n",
       "Annual_Family_Income    0.001809\n",
       "dtype: float64"
      ]
     },
     "execution_count": 87,
     "metadata": {},
     "output_type": "execute_result"
    }
   ],
   "source": [
    "model.HC0_se"
   ]
  },
  {
   "cell_type": "markdown",
   "id": "2fe93e84-b8b4-4386-a647-0e05c3dbe5e3",
   "metadata": {},
   "source": [
    "To handle the issue more seriously, we use WLS to obtain more efficient estimates. Because variance of disturbance term is \n",
    "$$\n",
    "\\operatorname{var}\\left(u_{i}\\right)=P_{i}\\left(1-P_{i}\\right)=\\sqrt{E\\left(Y_{i} \\mid X_{i}\\right)\\left[1-E\\left(Y_{i} \\mid X_{i}\\right)\\right]}\n",
    "$$\n",
    "So we estimate the disturbance term by using fitted values, note that these are different than residuals!\n",
    "$$\n",
    "w_i=\\hat{Y}_{i}\\left(1-\\hat{Y}_{i}\\right)\n",
    "$$"
   ]
  },
  {
   "cell_type": "markdown",
   "id": "a1b66e3a-d9b8-4621-aab9-e8ce727a7c23",
   "metadata": {},
   "source": [
    "Add fitted value into the data frame."
   ]
  },
  {
   "cell_type": "code",
   "execution_count": 71,
   "id": "3439f127-c5be-4803-bf14-ef703b3f016b",
   "metadata": {},
   "outputs": [
    {
     "data": {
      "text/html": [
       "<div>\n",
       "<style scoped>\n",
       "    .dataframe tbody tr th:only-of-type {\n",
       "        vertical-align: middle;\n",
       "    }\n",
       "\n",
       "    .dataframe tbody tr th {\n",
       "        vertical-align: top;\n",
       "    }\n",
       "\n",
       "    .dataframe thead th {\n",
       "        text-align: right;\n",
       "    }\n",
       "</style>\n",
       "<table border=\"1\" class=\"dataframe\">\n",
       "  <thead>\n",
       "    <tr style=\"text-align: right;\">\n",
       "      <th></th>\n",
       "      <th>Annual_Family_Income</th>\n",
       "      <th>Own_House</th>\n",
       "      <th>fitted_value</th>\n",
       "    </tr>\n",
       "  </thead>\n",
       "  <tbody>\n",
       "    <tr>\n",
       "      <th>0</th>\n",
       "      <td>56</td>\n",
       "      <td>1</td>\n",
       "      <td>0.710644</td>\n",
       "    </tr>\n",
       "    <tr>\n",
       "      <th>1</th>\n",
       "      <td>78</td>\n",
       "      <td>1</td>\n",
       "      <td>1.067667</td>\n",
       "    </tr>\n",
       "    <tr>\n",
       "      <th>2</th>\n",
       "      <td>67</td>\n",
       "      <td>0</td>\n",
       "      <td>0.889155</td>\n",
       "    </tr>\n",
       "    <tr>\n",
       "      <th>3</th>\n",
       "      <td>34</td>\n",
       "      <td>1</td>\n",
       "      <td>0.353621</td>\n",
       "    </tr>\n",
       "    <tr>\n",
       "      <th>4</th>\n",
       "      <td>23</td>\n",
       "      <td>0</td>\n",
       "      <td>0.175110</td>\n",
       "    </tr>\n",
       "  </tbody>\n",
       "</table>\n",
       "</div>"
      ],
      "text/plain": [
       "   Annual_Family_Income  Own_House  fitted_value\n",
       "0                    56          1      0.710644\n",
       "1                    78          1      1.067667\n",
       "2                    67          0      0.889155\n",
       "3                    34          1      0.353621\n",
       "4                    23          0      0.175110"
      ]
     },
     "execution_count": 71,
     "metadata": {},
     "output_type": "execute_result"
    }
   ],
   "source": [
    "df['fitted_value'] = model.fittedvalues\n",
    "df.head()"
   ]
  },
  {
   "cell_type": "markdown",
   "id": "b8870934-7137-448d-8dca-ace56baa791a",
   "metadata": {},
   "source": [
    "Exclude all values out of probabilistic range, then calculate the weight."
   ]
  },
  {
   "cell_type": "code",
   "execution_count": 74,
   "id": "aee0b6a1-9e96-4a0d-b428-d9efad62c840",
   "metadata": {},
   "outputs": [],
   "source": [
    "df = df[df['fitted_value']>0]\n",
    "df = df[df['fitted_value']<1]\n",
    "df['weight'] = np.sqrt(df['fitted_value']*(1-df['fitted_value']))"
   ]
  },
  {
   "cell_type": "code",
   "execution_count": 76,
   "id": "fe0c0bd3-43b1-42a1-aec7-4a662344954b",
   "metadata": {
    "tags": []
   },
   "outputs": [
    {
     "data": {
      "text/html": [
       "<div>\n",
       "<style scoped>\n",
       "    .dataframe tbody tr th:only-of-type {\n",
       "        vertical-align: middle;\n",
       "    }\n",
       "\n",
       "    .dataframe tbody tr th {\n",
       "        vertical-align: top;\n",
       "    }\n",
       "\n",
       "    .dataframe thead th {\n",
       "        text-align: right;\n",
       "    }\n",
       "</style>\n",
       "<table border=\"1\" class=\"dataframe\">\n",
       "  <thead>\n",
       "    <tr style=\"text-align: right;\">\n",
       "      <th></th>\n",
       "      <th>Annual_Family_Income</th>\n",
       "      <th>Own_House</th>\n",
       "      <th>fitted_value</th>\n",
       "      <th>weight</th>\n",
       "    </tr>\n",
       "  </thead>\n",
       "  <tbody>\n",
       "    <tr>\n",
       "      <th>0</th>\n",
       "      <td>56</td>\n",
       "      <td>1</td>\n",
       "      <td>0.710644</td>\n",
       "      <td>0.453463</td>\n",
       "    </tr>\n",
       "    <tr>\n",
       "      <th>2</th>\n",
       "      <td>67</td>\n",
       "      <td>0</td>\n",
       "      <td>0.889155</td>\n",
       "      <td>0.313940</td>\n",
       "    </tr>\n",
       "    <tr>\n",
       "      <th>3</th>\n",
       "      <td>34</td>\n",
       "      <td>1</td>\n",
       "      <td>0.353621</td>\n",
       "      <td>0.478093</td>\n",
       "    </tr>\n",
       "    <tr>\n",
       "      <th>4</th>\n",
       "      <td>23</td>\n",
       "      <td>0</td>\n",
       "      <td>0.175110</td>\n",
       "      <td>0.380061</td>\n",
       "    </tr>\n",
       "    <tr>\n",
       "      <th>5</th>\n",
       "      <td>19</td>\n",
       "      <td>0</td>\n",
       "      <td>0.110197</td>\n",
       "      <td>0.313135</td>\n",
       "    </tr>\n",
       "  </tbody>\n",
       "</table>\n",
       "</div>"
      ],
      "text/plain": [
       "   Annual_Family_Income  Own_House  fitted_value    weight\n",
       "0                    56          1      0.710644  0.453463\n",
       "2                    67          0      0.889155  0.313940\n",
       "3                    34          1      0.353621  0.478093\n",
       "4                    23          0      0.175110  0.380061\n",
       "5                    19          0      0.110197  0.313135"
      ]
     },
     "execution_count": 76,
     "metadata": {},
     "output_type": "execute_result"
    }
   ],
   "source": [
    "df.head()"
   ]
  },
  {
   "cell_type": "markdown",
   "id": "e3c62153-8caa-4096-96bf-d3c217c423d9",
   "metadata": {},
   "source": [
    "Divide weight onto every terms in the model\n",
    "$$\n",
    "\\frac{Y_{i}}{\\sqrt{w_{i}}}=\\frac{\\beta_{1}}{\\sqrt{w_{i}}}+\\beta_{2} \\frac{X_{i}}{\\sqrt{w_{i}}}+\\frac{u_{i}}{\\sqrt{w_{i}}}\n",
    "$$"
   ]
  },
  {
   "cell_type": "code",
   "execution_count": 77,
   "id": "42993b97-86bf-414b-ba27-23b3e0c2511c",
   "metadata": {},
   "outputs": [],
   "source": [
    "df['Annual_Family_Income_WLS'] = df['Annual_Family_Income']/df['weight']\n",
    "df['Own_House_WLS'] = df['Own_House']/df['weight']"
   ]
  },
  {
   "cell_type": "markdown",
   "id": "692b307d-132f-477b-a98b-42df52903626",
   "metadata": {},
   "source": [
    "Here's the more reliable result."
   ]
  },
  {
   "cell_type": "code",
   "execution_count": 78,
   "id": "2e401f00-aff8-496d-b279-b668be53f8f4",
   "metadata": {},
   "outputs": [
    {
     "name": "stdout",
     "output_type": "stream",
     "text": [
      "                            OLS Regression Results                            \n",
      "==============================================================================\n",
      "Dep. Variable:          Own_House_WLS   R-squared:                       0.765\n",
      "Model:                            OLS   Adj. R-squared:                  0.757\n",
      "Method:                 Least Squares   F-statistic:                     94.47\n",
      "Date:                Thu, 02 Sep 2021   Prob (F-statistic):           1.25e-10\n",
      "Time:                        14:17:57   Log-Likelihood:                -40.040\n",
      "No. Observations:                  31   AIC:                             84.08\n",
      "Df Residuals:                      29   BIC:                             86.95\n",
      "Df Model:                           1                                         \n",
      "Covariance Type:            nonrobust                                         \n",
      "============================================================================================\n",
      "                               coef    std err          t      P>|t|      [0.025      0.975]\n",
      "--------------------------------------------------------------------------------------------\n",
      "const                       -0.3322      0.245     -1.358      0.185      -0.833       0.168\n",
      "Annual_Family_Income_WLS     0.0146      0.002      9.720      0.000       0.012       0.018\n",
      "==============================================================================\n",
      "Omnibus:                        5.495   Durbin-Watson:                   2.649\n",
      "Prob(Omnibus):                  0.064   Jarque-Bera (JB):                3.808\n",
      "Skew:                          -0.720   Prob(JB):                        0.149\n",
      "Kurtosis:                       3.934   Cond. No.                         244.\n",
      "==============================================================================\n",
      "\n",
      "Notes:\n",
      "[1] Standard Errors assume that the covariance matrix of the errors is correctly specified.\n"
     ]
    }
   ],
   "source": [
    "X = df['Annual_Family_Income_WLS']\n",
    "Y = df['Own_House_WLS']\n",
    "\n",
    "X = sm.add_constant(X) # adding a constant\n",
    "\n",
    "model = sm.OLS(Y, X).fit() \n",
    "\n",
    "print_model = model.summary()\n",
    "print(print_model)"
   ]
  },
  {
   "cell_type": "markdown",
   "id": "ec653d5c-4c76-4cb0-8ac6-59000227bdfc",
   "metadata": {},
   "source": [
    "The slope estimates of WLS is similar but higher significance due to smaller standard error and $R^2$ also much higher than previous model."
   ]
  },
  {
   "cell_type": "markdown",
   "id": "2575796b-11f4-4596-bb76-fbda483b45cc",
   "metadata": {},
   "source": [
    "Though we have fixed heteroskedasticity to some extent, the model is not attractive both in breaking probabilistic range and its linear shape. Next sections we will talk about alternatives to LPM that fulfill both probabilistic range and nonlinear shape. "
   ]
  }
 ],
 "metadata": {
  "kernelspec": {
   "display_name": "Python 3",
   "language": "python",
   "name": "python3"
  },
  "language_info": {
   "codemirror_mode": {
    "name": "ipython",
    "version": 3
   },
   "file_extension": ".py",
   "mimetype": "text/x-python",
   "name": "python",
   "nbconvert_exporter": "python",
   "pygments_lexer": "ipython3",
   "version": "3.8.8"
  }
 },
 "nbformat": 4,
 "nbformat_minor": 5
}
