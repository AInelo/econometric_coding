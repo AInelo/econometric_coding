{
 "cells": [
  {
   "cell_type": "markdown",
   "id": "b8bc7241-3c4a-4731-9c5c-fa2438a97ee4",
   "metadata": {},
   "source": [
    "# <font face=\"gotham\" color=\"purple\"> What is Autocorrelation? </font>"
   ]
  },
  {
   "cell_type": "markdown",
   "id": "3358f1df-afd6-4e71-860f-7c448db3cb4b",
   "metadata": {},
   "source": [
    "Recall that the classical linear regression model has an assumption\n",
    "$$\n",
    "E\\left(u_{i} u_{j}\\right)=0 \\quad i \\neq j\n",
    "$$\n",
    "i.e. disturbance terms are independent of each other. However, in many real situations, this assumption will not hold, especially in time series data. Many economic or financial time series data has a 'momentum', for instance, if we see a boost in consumer confidence in this month, it is more likely to see it a boost too in next month unless something unexpected happens. \n",
    "\n",
    "However if this assumption is violated, we have **autocorrelation** issue\n",
    "$$\n",
    "E\\left(u_{i} u_{j}\\right)\\neq 0 \\quad i \\neq j\n",
    "$$\n",
    "There are many reasons why autocorrelation exists, but for now we don't care about the exact reason."
   ]
  },
  {
   "cell_type": "markdown",
   "id": "c67f3ca8-bde5-494e-93a6-9c0f5b1801e0",
   "metadata": {},
   "source": [
    "# <font face=\"gotham\" color=\"purple\"> Autoregressive Model </font>"
   ]
  },
  {
   "cell_type": "markdown",
   "id": "4d1c15bf-31b9-41d3-a171-5e4544fc0a10",
   "metadata": {},
   "source": [
    "This is the first encounter of AR(1) model, which is defined\n",
    "$$\n",
    "u_{t}=\\rho u_{t-1}+\\varepsilon_{t} \\quad-1<\\rho<1\n",
    "$$\n",
    "where $\\varepsilon_{t}$ satisfies standard features of OLS disturbance term, and $\\rho$ is coefficient of autocorrelation at lag $1$\n",
    "$$\n",
    "\\begin{aligned}\n",
    "E\\left(\\varepsilon_{t}\\right) &=0 \\\\\n",
    "\\operatorname{Var}\\left(\\varepsilon_{t}\\right) &=\\sigma_{\\varepsilon}^{2} \\\\\n",
    "\\operatorname{Cov}\\left(\\varepsilon_{t}, \\varepsilon_{t+s}\\right) &=0 \\quad s \\neq 0\n",
    "\\end{aligned}\n",
    "$$\n",
    "If $|\\rho|<1$ we say that AR(1) process is **stationary**, "
   ]
  },
  {
   "cell_type": "markdown",
   "id": "a28451d8-e858-456d-bc6a-15ca281ee29c",
   "metadata": {},
   "source": [
    "If "
   ]
  },
  {
   "cell_type": "code",
   "execution_count": 4,
   "id": "ef0c4e68-6d51-4af7-99f5-4ab027e463a6",
   "metadata": {},
   "outputs": [
    {
     "data": {
      "text/plain": [
       "1867918.5894122995"
      ]
     },
     "execution_count": 4,
     "metadata": {},
     "output_type": "execute_result"
    }
   ],
   "source": [
    "100000*1.05**60"
   ]
  },
  {
   "cell_type": "code",
   "execution_count": null,
   "id": "e960a0f2-bd1b-4c96-9729-898df97c6345",
   "metadata": {},
   "outputs": [],
   "source": []
  }
 ],
 "metadata": {
  "kernelspec": {
   "display_name": "Python 3",
   "language": "python",
   "name": "python3"
  },
  "language_info": {
   "codemirror_mode": {
    "name": "ipython",
    "version": 3
   },
   "file_extension": ".py",
   "mimetype": "text/x-python",
   "name": "python",
   "nbconvert_exporter": "python",
   "pygments_lexer": "ipython3",
   "version": "3.8.8"
  }
 },
 "nbformat": 4,
 "nbformat_minor": 5
}
