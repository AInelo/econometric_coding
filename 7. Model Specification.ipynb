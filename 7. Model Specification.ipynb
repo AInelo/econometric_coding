{
 "cells": [
  {
   "cell_type": "code",
   "execution_count": 3,
   "id": "5aca2f6b-af4d-4e32-975e-fb93a637afff",
   "metadata": {},
   "outputs": [],
   "source": [
    "import numpy as np\n",
    "import matplotlib.pyplot as plt\n",
    "import pandas as pd\n",
    "import scipy as sp\n",
    "import scipy.stats\n",
    "import statsmodels.api as sm"
   ]
  },
  {
   "cell_type": "markdown",
   "id": "3fbac626-d91f-407f-bd96-7c48a48c516f",
   "metadata": {},
   "source": [
    "# <font face=\"gotham\" color=\"purple\"> Model Specification </font>"
   ]
  },
  {
   "cell_type": "markdown",
   "id": "c7c1736e-fe01-477c-ae7e-ee9aad9a2177",
   "metadata": {},
   "source": [
    "So far we have assumed correct **model specification**, if not correctly specified, we are encountering **model specification errors**. Here's the ideal criteria for specifying a model\n",
    "1. Be able to make logical prediction.\n",
    "2. Be consistent with theory.\n",
    "3. Independent variables are uncorrelated with disturbance terms.\n",
    "4. Parameter constancy.\n",
    "5. Residuals should be white noise.\n"
   ]
  },
  {
   "cell_type": "markdown",
   "id": "aa6d4c29-23b1-4a80-bd42-e415e56a3e6a",
   "metadata": {},
   "source": [
    "However, in practice, model specification errors are almost unavoidable, here are the list of how we might encounter specification errors.\n",
    "\n",
    "1. Omission of a relevant variable(s).\n",
    "2. Inclusion of an unnecessary variable(s).\n",
    "3. Adoption of the wrong functional form.\n",
    "4. Errors of measurement in data collection process.\n",
    "5. Incorrect specification of the stochastic error term.\n",
    "6. Assumption that the error term is normally distributed."
   ]
  },
  {
   "cell_type": "markdown",
   "id": "b8325720-6b6a-4500-a28a-51847e582f3b",
   "metadata": {},
   "source": [
    "This chapter is exceedingly difficult in multiple independent variable case without linear algebra, we will simply scratch the surface of the topic. "
   ]
  },
  {
   "cell_type": "markdown",
   "id": "d8de37c0-3647-4903-ab8f-e38b6974831d",
   "metadata": {},
   "source": [
    "# <font face=\"gotham\" color=\"purple\"> Omission of A Relevant Variable </font>"
   ]
  },
  {
   "cell_type": "markdown",
   "id": "a2dfb3e2-1bc9-4f7f-a774-549955cc16be",
   "metadata": {},
   "source": [
    "Suppose the true relationship is\n",
    "$$\n",
    "Y_i = 3 + 4X_2 + 5X_3 + u_i\n",
    "$$"
   ]
  },
  {
   "cell_type": "markdown",
   "id": "bc705db9-e9ce-4ecc-942d-b1221bdd1452",
   "metadata": {},
   "source": [
    "However we estimate only $X_3$, i.e. the model with omission of $X_2$\n",
    "$$\n",
    "\\hat{Y} = b_1+b_3X_3\n",
    "$$"
   ]
  },
  {
   "cell_type": "markdown",
   "id": "716e9e14-a4f2-4638-a3df-f007e911556f",
   "metadata": {},
   "source": [
    "We will do $100000$ rounds of Monte Carlo simulation (might take some time, dial it down if necessary). "
   ]
  },
  {
   "cell_type": "code",
   "execution_count": 155,
   "id": "1fc0abd4-ae83-4348-afc5-21a0ad6e29d6",
   "metadata": {},
   "outputs": [],
   "source": [
    "n = 100\n",
    "beta1, beta2, beta3 = 3, 4, 5\n",
    "X2 = np.random.rand(n)\n",
    "X3 = np.random.rand(n)\n",
    "beta3_hat_list = []\n",
    "for i in range(100000):\n",
    "    \n",
    "    u = np.random.randn(n)\n",
    "    Y = beta1 + beta2*X2 + beta3*X3 + u\n",
    "    df = pd.DataFrame(np.concatenate((Y[:, np.newaxis], X2[:, np.newaxis], X3[:, np.newaxis]), axis = 1), columns = ['Y', 'X2', 'X3'])\n",
    "\n",
    "    X = df['X3']\n",
    "    Y = df['Y']\n",
    "\n",
    "    X = sm.add_constant(X) # adding a constant\n",
    "\n",
    "    model = sm.OLS(Y, X).fit()\n",
    "    beta3_hat_list.append(model.params[1])"
   ]
  },
  {
   "cell_type": "markdown",
   "id": "7a71e466-df63-4358-8fd3-f2583481115c",
   "metadata": {},
   "source": [
    "Print the full reports of last round of simulation."
   ]
  },
  {
   "cell_type": "code",
   "execution_count": 156,
   "id": "f84e2d87-b8e2-4cb1-ba61-bab7a5e03a63",
   "metadata": {},
   "outputs": [],
   "source": [
    "model = sm.OLS(Y, X).fit() \n",
    "print_model = model.summary()"
   ]
  },
  {
   "cell_type": "code",
   "execution_count": 157,
   "id": "b28ba3d6-2412-41e1-9ea7-117417d4be94",
   "metadata": {},
   "outputs": [
    {
     "data": {
      "image/png": "[encoded data removed]",
      "text/plain": [
       "<Figure size 864x504 with 1 Axes>"
      ]
     },
     "metadata": {
      "needs_background": "light"
     },
     "output_type": "display_data"
    }
   ],
   "source": [
    "fig, ax = plt.subplots(figsize = (12, 7))\n",
    "ax.hist(beta3_hat_list, bins = 150)\n",
    "ax.axvline(x = np.mean(beta3_hat_list), color = 'tomato', label = 'mean of $b_3$')\n",
    "ax.set_xlabel('$b_3$')\n",
    "ax.set_title('Sampling Distribution of $b_3$')\n",
    "ax.legend()\n",
    "plt.show()"
   ]
  },
  {
   "cell_type": "code",
   "execution_count": 97,
   "id": "cbad7b5f-d207-4b38-9448-003928e27c57",
   "metadata": {},
   "outputs": [
    {
     "name": "stdout",
     "output_type": "stream",
     "text": [
      "The mean of b3 is 5.998913199703797.\n"
     ]
    }
   ],
   "source": [
    "print('The mean of b3 is {}.'.format(np.mean(beta3_hat_list)))"
   ]
  },
  {
   "cell_type": "markdown",
   "id": "08bc587a-9a2a-4b46-9853-4c5e9478e81f",
   "metadata": {},
   "source": [
    "With $100000$ rounds of simulation, we could easily notice the sample distribution is biased, and mean of $b_3$ is far from true value $5$. We will demonstrate why this is the case without linear algebra."
   ]
  },
  {
   "cell_type": "markdown",
   "id": "4833e7b7-4787-41c1-b535-86a362f54686",
   "metadata": {},
   "source": [
    "We have shown in the second chapter, that estimator $b_3$ in a two-independent variable case is\n",
    "$$\n",
    "b_{3}=\\frac{\\operatorname{Cov}\\left(X_{3}, Y\\right) \\operatorname{Var}\\left(X_{2}\\right)-\\operatorname{Cov}\\left(X_{2}, Y\\right) \\operatorname{Cov}\\left(X_{3}, X_{2}\\right)}{\\operatorname{Var}\\left(X_{3}\\right) \\operatorname{Var}\\left(X_{2}\\right)-\\left[\\operatorname{Cov}\\left(X_{3}, X_{2}\\right)\\right]^{2}}\n",
    "$$"
   ]
  },
  {
   "cell_type": "markdown",
   "id": "1b489b69-d358-4b96-8e2f-bbbcc068d208",
   "metadata": {},
   "source": [
    "However, without being aware the omission of $\\beta_2$, we end up using estimator\n",
    "$$\n",
    "b_{3}=\\frac{\\operatorname{Cov}\\left(X_{3}, Y\\right)}{\\operatorname{Var}\\left(X_{3}\\right)}\n",
    "$$\n",
    "Substitute $Y$ by its true relationship can share some insight\n",
    "$$\n",
    "\\begin{aligned}\n",
    "b_{3} &=\\frac{\\operatorname{Cov}\\left(X_{3}, Y\\right)}{\\operatorname{Var}\\left(X_{3}\\right)}=\\frac{\\operatorname{Cov}\\left(X_{3},\\left[\\beta_{1}+\\beta_{2} X_{2}+\\beta_{3} X_{3}+u\\right]\\right)}{\\operatorname{Var}\\left(X_{3}\\right)} \\\\\n",
    "&=\\frac{1}{\\operatorname{Var}\\left(X_{3}\\right)}\\left[\\operatorname{Cov}\\left(X_{3}, \\beta_{1}\\right)+\\operatorname{Cov}\\left(X_{3}, \\beta_{2} X_{2}\\right)+\\operatorname{Cov}\\left(X_{3}, \\beta_{3} X_{3}\\right)+\\operatorname{Cov}\\left(X_{3}, u\\right)\\right] \\\\\n",
    "&=\\frac{1}{\\operatorname{Var}\\left(X_{3}\\right)}\\left[0+\\beta_{2} \\operatorname{Cov}\\left(X_{2}, X_3\\right)+\\beta_{3} \\operatorname{Var}\\left(X_{3} \\right)+\\operatorname{Cov}\\left(X_{3}, u\\right)\\right] \\\\\n",
    "&=\\beta_{3}+\\beta_{2} \\frac{\\operatorname{Cov}\\left(X_{2}, X_{3}\\right)}{\\operatorname{Var}\\left(X_{3}\\right)}+\\frac{\\operatorname{Cov}\\left(X_{3}, u\\right)}{\\operatorname{Var}\\left(X_{3}\\right)}\n",
    "\\end{aligned}\n",
    "$$"
   ]
  },
  {
   "cell_type": "markdown",
   "id": "33e6de26-1155-40c0-80f7-35651d80cf3b",
   "metadata": {},
   "source": [
    "This is the relationship of $b_3$ and $\\beta_3$ when $b_2$ is omitted in the model. Whether upward biased or downward biased, it depends on the sign of $\\beta_2$ and covariance of $X_2$ and $X_3$. And it's safe to assume $\\operatorname{Cov}(X_3, u )=0$."
   ]
  },
  {
   "cell_type": "markdown",
   "id": "9437230f-02f3-4e53-809f-a95b82019704",
   "metadata": {},
   "source": [
    "As you can see now the biased term is \n",
    "$$\n",
    "\\beta_{2} \\frac{\\operatorname{Cov}\\left(X_{2}, X_{3}\\right)}{\\operatorname{Var}\\left(X_{3}\\right)}\n",
    "$$\n",
    "Therefore $b_3$ can be unbiased after all on condition that $\\operatorname{Cov}(X_2, X_3)=0$, however this is extremely unlikely. \n",
    "\n",
    "In general, omission of relevant variables also cause invalid hypotheses test, however we'll skip it entirely."
   ]
  },
  {
   "cell_type": "markdown",
   "id": "c046b303-4a86-4139-be83-3ea52533ee04",
   "metadata": {},
   "source": [
    "# <font face=\"gotham\" color=\"purple\">  Inclusion Of An Unnecessary Variable </font>"
   ]
  },
  {
   "cell_type": "markdown",
   "id": "3482e7c0-7d97-4050-a6df-fb7318d79b7a",
   "metadata": {},
   "source": [
    "Now again suppose the true relationship is\n",
    "$$\n",
    "Y_i = 3 + 4X_2  + u_i\n",
    "$$"
   ]
  },
  {
   "cell_type": "markdown",
   "id": "312fabf4-1a75-4686-b595-249f754b735b",
   "metadata": {},
   "source": [
    "However we include an unnecessary variable $X_3$, i.e.\n",
    "$$\n",
    "\\hat{Y} = b_1+b_2X_2 + b_3X_3\n",
    "$$"
   ]
  },
  {
   "cell_type": "code",
   "execution_count": 149,
   "id": "5c438595-c432-4d1d-bf9b-c9dca403ec7e",
   "metadata": {},
   "outputs": [],
   "source": [
    "n = 100\n",
    "beta1, beta2 = 3, 4\n",
    "X2 = np.random.rand(n)\n",
    "X3 = np.random.rand(n)\n",
    "beta2_hat_list = []\n",
    "for i in range(100000):\n",
    "    \n",
    "    u = np.random.randn(n)\n",
    "    Y = beta1 + beta2*X2 + u\n",
    "    df = pd.DataFrame(np.concatenate((Y[:, np.newaxis], X2[:, np.newaxis], X3[:, np.newaxis]), axis = 1), columns = ['Y', 'X2', 'X3'])\n",
    "\n",
    "    X = df[['X2', 'X3']]\n",
    "    Y = df['Y']\n",
    "\n",
    "    X = sm.add_constant(X) # adding a constant\n",
    "\n",
    "    model = sm.OLS(Y, X).fit()\n",
    "    beta2_hat_list.append(model.params[1])"
   ]
  },
  {
   "cell_type": "markdown",
   "id": "cbf468f3-698f-4de0-8699-ada4b8dc2ba7",
   "metadata": {},
   "source": [
    "Print the full reports of last round of simulation."
   ]
  },
  {
   "cell_type": "code",
   "execution_count": 150,
   "id": "3d45f7c9-f8cc-4a34-97dc-e4f444888e72",
   "metadata": {},
   "outputs": [
    {
     "name": "stdout",
     "output_type": "stream",
     "text": [
      "                            OLS Regression Results                            \n",
      "==============================================================================\n",
      "Dep. Variable:                      Y   R-squared:                       0.642\n",
      "Model:                            OLS   Adj. R-squared:                  0.635\n",
      "Method:                 Least Squares   F-statistic:                     87.05\n",
      "Date:                Thu, 16 Sep 2021   Prob (F-statistic):           2.25e-22\n",
      "Time:                        11:26:42   Log-Likelihood:                -146.33\n",
      "No. Observations:                 100   AIC:                             298.7\n",
      "Df Residuals:                      97   BIC:                             306.5\n",
      "Df Model:                           2                                         \n",
      "Covariance Type:            nonrobust                                         \n",
      "==============================================================================\n",
      "                 coef    std err          t      P>|t|      [0.025      0.975]\n",
      "------------------------------------------------------------------------------\n",
      "const          2.6164      0.271      9.646      0.000       2.078       3.155\n",
      "X2             4.3287      0.328     13.187      0.000       3.677       4.980\n",
      "X3             0.1170      0.377      0.311      0.757      -0.631       0.865\n",
      "==============================================================================\n",
      "Omnibus:                        0.315   Durbin-Watson:                   1.933\n",
      "Prob(Omnibus):                  0.854   Jarque-Bera (JB):                0.457\n",
      "Skew:                           0.113   Prob(JB):                        0.796\n",
      "Kurtosis:                       2.758   Cond. No.                         5.20\n",
      "==============================================================================\n",
      "\n",
      "Notes:\n",
      "[1] Standard Errors assume that the covariance matrix of the errors is correctly specified.\n"
     ]
    }
   ],
   "source": [
    "print_model = model.summary()\n",
    "print(print_model)"
   ]
  },
  {
   "cell_type": "code",
   "execution_count": 151,
   "id": "cf5f5146-47d3-427c-9f1f-e6667ecd9b56",
   "metadata": {},
   "outputs": [
    {
     "data": {
      "image/png": "[encoded data removed]",
      "text/plain": [
       "<Figure size 864x504 with 1 Axes>"
      ]
     },
     "metadata": {
      "needs_background": "light"
     },
     "output_type": "display_data"
    }
   ],
   "source": [
    "fig, ax = plt.subplots(figsize = (12, 7))\n",
    "ax.hist(beta2_hat_list, bins = 150)\n",
    "ax.axvline(x = np.mean(beta2_hat_list), color = 'tomato', label = 'mean of $b_2$')\n",
    "ax.set_xlabel('$b_2$')\n",
    "ax.set_title('Sampling Distribution of $b_2$')\n",
    "ax.legend()\n",
    "plt.show()"
   ]
  },
  {
   "cell_type": "markdown",
   "id": "69382d5a-1c33-4107-99d4-e07eb127a160",
   "metadata": {},
   "source": [
    "It turns out that the $b_2$ is not biased after all! However, let's compare with $b_2$'s sampling distribution which is from correct specification."
   ]
  },
  {
   "cell_type": "code",
   "execution_count": 133,
   "id": "efe4a15b-e85b-499f-8baa-6472137037cc",
   "metadata": {},
   "outputs": [],
   "source": [
    "beta2_hat_list_correct = []\n",
    "for i in range(100000):\n",
    "    \n",
    "    u = np.random.randn(n)\n",
    "    Y = beta1 + beta2*X2 + u\n",
    "    df = pd.DataFrame(np.concatenate((Y[:, np.newaxis], X2[:, np.newaxis]), axis = 1), columns = ['Y', 'X2'])\n",
    "\n",
    "    X = df['X2']\n",
    "    Y = df['Y']\n",
    "\n",
    "    X = sm.add_constant(X) # adding a constant\n",
    "\n",
    "    model = sm.OLS(Y, X).fit()\n",
    "    beta2_hat_list_correct.append(model.params[1])"
   ]
  },
  {
   "cell_type": "code",
   "execution_count": 146,
   "id": "83e80796-d9cc-4acc-9136-f466aa7dd229",
   "metadata": {},
   "outputs": [
    {
     "data": {
      "image/png": "[encoded data removed]",
      "text/plain": [
       "<Figure size 864x504 with 1 Axes>"
      ]
     },
     "metadata": {
      "needs_background": "light"
     },
     "output_type": "display_data"
    }
   ],
   "source": [
    "fig, ax = plt.subplots(figsize = (12, 7))\n",
    "ax.hist(beta2_hat_list, bins = 150, alpha = .5, label = '$b_2$ With An Unnecessary Variable')\n",
    "ax.hist(beta2_hat_list_correct, bins = 150, alpha = .3, color = 'tomato', label = '$b_2$ With Correct Model')\n",
    "ax.set_xlabel('$b_2$')\n",
    "ax.set_title('Sampling Distribution of $b_2$')\n",
    "ax.legend()\n",
    "plt.show()"
   ]
  },
  {
   "cell_type": "markdown",
   "id": "abaa1ef7-cbb2-451f-ad78-3a1d15b4c655",
   "metadata": {},
   "source": [
    "If you take a closer look at the distribution, they are actually different, the $b_2$ estimated by correct model has a more concentrated distribution, i.e. the middle area is higher, in contrast the $b_2$ estimated by incorrectly specified model has fatter tails. We can check their standard deviation."
   ]
  },
  {
   "cell_type": "code",
   "execution_count": 135,
   "id": "1749a2e0-2d28-43cf-aa2e-4c33cc1e4125",
   "metadata": {},
   "outputs": [
    {
     "data": {
      "text/plain": [
       "0.3638018676170749"
      ]
     },
     "execution_count": 135,
     "metadata": {},
     "output_type": "execute_result"
    }
   ],
   "source": [
    "np.std(beta2_hat_list)"
   ]
  },
  {
   "cell_type": "code",
   "execution_count": 136,
   "id": "03317d9c-8d83-4237-82e8-1c2c9e1b15db",
   "metadata": {},
   "outputs": [
    {
     "data": {
      "text/plain": [
       "0.35998511144681705"
      ]
     },
     "execution_count": 136,
     "metadata": {},
     "output_type": "execute_result"
    }
   ],
   "source": [
    "np.std(beta2_hat_list_correct)"
   ]
  },
  {
   "cell_type": "markdown",
   "id": "f8de9ce1-929f-4b28-98e4-864db433de07",
   "metadata": {},
   "source": [
    "To remind you why this is the case, here we reproduce the formula of standard deviation of $b_2$ in two independent variable regression\n",
    "$$\n",
    "\\sigma_{b_{2}}^{2}=\\frac{\\sigma_{u}^{2}}{n \\operatorname{Var}\\left(X_{2}\\right)} \\frac{1}{1-r_{X_{2} X_{3}}^{2}}\n",
    "$$\n",
    "$\\sigma_{b_{2}}^{2}$ is enlarged by a the correlation $r^2_{X_2X_3}$, which is why the blue color distribution has fatter tails."
   ]
  },
  {
   "cell_type": "markdown",
   "id": "efe4ae12-7ca8-41cb-adb0-99ec5f96fa38",
   "metadata": {},
   "source": [
    "<div style=\"background-color:Bisque; color:DarkBlue; padding:30px;\">\n",
    "<i><b> Asymmetry of Specification Errors</b><br>\n",
    "The asymmetry of two types of specification errors: adding irrelevant variables still grant us unbiased and consistent estimate though standard errors are inflated, however excluding a relevant variable would cause bias and inconsistency. <br><br>\n",
    "    \n",
    "Does it suggest that we should err on the side of adding irrelevant variables? In the field of econometrics, not really. The _best practice_ is to include only explanatory variables that, on theoretical grounds, directly influence the dependent variable and that are not accounted for by other\n",
    "included variables.\n",
    "</div>"
   ]
  },
  {
   "cell_type": "markdown",
   "id": "9dcff64e-6d2d-4952-98a4-75d28131326f",
   "metadata": {},
   "source": [
    "# <font face=\"gotham\" color=\"purple\"> Tests of Specification Errors </font>"
   ]
  },
  {
   "cell_type": "markdown",
   "id": "3a2b4be5-9f33-466f-8800-e8d86f09f4dd",
   "metadata": {},
   "source": [
    "Truth to be told, we will never be sure how the observed data were generated, but we can make educated guess about specification errors with the help of statistical tests. "
   ]
  },
  {
   "cell_type": "code",
   "execution_count": null,
   "id": "4ac9bd10-644d-4d81-85dc-b07df3c5ddef",
   "metadata": {},
   "outputs": [],
   "source": []
  }
 ],
 "metadata": {
  "kernelspec": {
   "display_name": "Python 3",
   "language": "python",
   "name": "python3"
  },
  "language_info": {
   "codemirror_mode": {
    "name": "ipython",
    "version": 3
   },
   "file_extension": ".py",
   "mimetype": "text/x-python",
   "name": "python",
   "nbconvert_exporter": "python",
   "pygments_lexer": "ipython3",
   "version": "3.8.8"
  }
 },
 "nbformat": 4,
 "nbformat_minor": 5
}
