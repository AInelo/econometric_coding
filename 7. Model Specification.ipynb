{
 "cells": [
  {
   "cell_type": "code",
   "execution_count": 3,
   "id": "5aca2f6b-af4d-4e32-975e-fb93a637afff",
   "metadata": {},
   "outputs": [],
   "source": [
    "import numpy as np\n",
    "import matplotlib.pyplot as plt\n",
    "import pandas as pd\n",
    "import scipy as sp\n",
    "import scipy.stats\n",
    "import statsmodels.api as sm"
   ]
  },
  {
   "cell_type": "markdown",
   "id": "3fbac626-d91f-407f-bd96-7c48a48c516f",
   "metadata": {},
   "source": [
    "# <font face=\"gotham\" color=\"purple\"> Model Specification </font>"
   ]
  },
  {
   "cell_type": "markdown",
   "id": "c7c1736e-fe01-477c-ae7e-ee9aad9a2177",
   "metadata": {},
   "source": [
    "So far we have assumed correct **model specification**, if not correctly specified, we are encountering **model specification errors**. Here's the ideal criteria for specifying a model\n",
    "1. Be able to make logical prediction.\n",
    "2. Be consistent with theory.\n",
    "3. Independent variables are uncorrelated with disturbance terms.\n",
    "4. Parameter constancy.\n",
    "5. Residuals should be white noise.\n"
   ]
  },
  {
   "cell_type": "markdown",
   "id": "aa6d4c29-23b1-4a80-bd42-e415e56a3e6a",
   "metadata": {},
   "source": [
    "However, in practice, model specification errors are almost unavoidable, here are the list of how we might encounter specification errors.\n",
    "\n",
    "1. Omission of a relevant variable(s).\n",
    "2. Inclusion of an unnecessary variable(s).\n",
    "3. Adoption of the wrong functional form.\n",
    "4. Errors of measurement in data collection process.\n",
    "5. Incorrect specification of the stochastic error term.\n",
    "6. Assumption that the error term is normally distributed."
   ]
  },
  {
   "cell_type": "markdown",
   "id": "b8325720-6b6a-4500-a28a-51847e582f3b",
   "metadata": {},
   "source": [
    "This chapter is exceedingly difficult in multiple independent variable case without linear algebra, we will simply scratch the surface of the topic. "
   ]
  },
  {
   "cell_type": "markdown",
   "id": "d8de37c0-3647-4903-ab8f-e38b6974831d",
   "metadata": {},
   "source": [
    "# <font face=\"gotham\" color=\"purple\"> Omission of A Relevant Variable </font>"
   ]
  },
  {
   "cell_type": "markdown",
   "id": "a2dfb3e2-1bc9-4f7f-a774-549955cc16be",
   "metadata": {},
   "source": [
    "Suppose the true relationship is\n",
    "$$\n",
    "Y_i = 3 + 4X_2 + 5X_3 + u_i\n",
    "$$"
   ]
  },
  {
   "cell_type": "markdown",
   "id": "bc705db9-e9ce-4ecc-942d-b1221bdd1452",
   "metadata": {},
   "source": [
    "However we estimate only $X_3$, i.e. the model with omission of $X_2$\n",
    "$$\n",
    "\\hat{Y} = b_1+b_3X_3\n",
    "$$"
   ]
  },
  {
   "cell_type": "markdown",
   "id": "716e9e14-a4f2-4638-a3df-f007e911556f",
   "metadata": {},
   "source": [
    "We will do $100000$ rounds of Monte Carlo simulation (might take some time, dial it down if necessary). "
   ]
  },
  {
   "cell_type": "code",
   "execution_count": 95,
   "id": "1fc0abd4-ae83-4348-afc5-21a0ad6e29d6",
   "metadata": {},
   "outputs": [],
   "source": [
    "n = 100\n",
    "beta1, beta2, beta3 = 3, 4, 5\n",
    "X2 = np.random.rand(n)\n",
    "X3 = np.random.rand(n)\n",
    "beta3_hat_list = []\n",
    "for i in range(100000):\n",
    "    \n",
    "    u = np.random.randn(n)\n",
    "    Y = beta1 + beta2*X2 + beta3*X3 + u\n",
    "    df = pd.DataFrame(np.concatenate((Y[:, np.newaxis], X2[:, np.newaxis], X3[:, np.newaxis]), axis = 1), columns = ['Y', 'X2', 'X3'])\n",
    "\n",
    "    X = df['X3']\n",
    "    Y = df['Y']\n",
    "\n",
    "    X = sm.add_constant(X) # adding a constant\n",
    "\n",
    "    model = sm.OLS(Y, X).fit()\n",
    "    beta3_hat_list.append(model.params[1])"
   ]
  },
  {
   "cell_type": "code",
   "execution_count": 101,
   "id": "b28ba3d6-2412-41e1-9ea7-117417d4be94",
   "metadata": {},
   "outputs": [
    {
     "data": {
      "image/png": "[encoded data removed]",
      "text/plain": [
       "<Figure size 864x504 with 1 Axes>"
      ]
     },
     "metadata": {
      "needs_background": "light"
     },
     "output_type": "display_data"
    }
   ],
   "source": [
    "fig, ax = plt.subplots(figsize = (12, 7))\n",
    "ax.hist(beta3_hat_list, bins = 150)\n",
    "ax.axvline(x = np.mean(beta3_hat_list), color = 'tomato', label = 'mean of $b_3$')\n",
    "ax.set_xlabel('$b_3$')\n",
    "ax.set_title('Sampling Distribution of $b_3$')\n",
    "ax.legend()\n",
    "plt.show()"
   ]
  },
  {
   "cell_type": "code",
   "execution_count": 97,
   "id": "cbad7b5f-d207-4b38-9448-003928e27c57",
   "metadata": {},
   "outputs": [
    {
     "name": "stdout",
     "output_type": "stream",
     "text": [
      "The mean of b3 is 5.998913199703797.\n"
     ]
    }
   ],
   "source": [
    "print('The mean of b3 is {}.'.format(np.mean(beta3_hat_list)))"
   ]
  },
  {
   "cell_type": "markdown",
   "id": "08bc587a-9a2a-4b46-9853-4c5e9478e81f",
   "metadata": {},
   "source": [
    "With $100000$ rounds of simulation, we could easily notice the sample distribution is biased, and mean of $b_3$ is far from true value $5$. We will demonstrate why this is the case without linear algebra."
   ]
  },
  {
   "cell_type": "markdown",
   "id": "4833e7b7-4787-41c1-b535-86a362f54686",
   "metadata": {},
   "source": [
    "We have shown in the second chapter, that estimator $b_3$ in a two-independent variable case is\n",
    "$$\n",
    "b_{3}=\\frac{\\operatorname{Cov}\\left(X_{3}, Y\\right) \\operatorname{Var}\\left(X_{2}\\right)-\\operatorname{Cov}\\left(X_{2}, Y\\right) \\operatorname{Cov}\\left(X_{3}, X_{2}\\right)}{\\operatorname{Var}\\left(X_{3}\\right) \\operatorname{Var}\\left(X_{2}\\right)-\\left[\\operatorname{Cov}\\left(X_{3}, X_{2}\\right)\\right]^{2}}\n",
    "$$"
   ]
  },
  {
   "cell_type": "markdown",
   "id": "1b489b69-d358-4b96-8e2f-bbbcc068d208",
   "metadata": {},
   "source": [
    "However, without being aware the omission of "
   ]
  }
 ],
 "metadata": {
  "kernelspec": {
   "display_name": "Python 3",
   "language": "python",
   "name": "python3"
  },
  "language_info": {
   "codemirror_mode": {
    "name": "ipython",
    "version": 3
   },
   "file_extension": ".py",
   "mimetype": "text/x-python",
   "name": "python",
   "nbconvert_exporter": "python",
   "pygments_lexer": "ipython3",
   "version": "3.8.8"
  }
 },
 "nbformat": 4,
 "nbformat_minor": 5
}
