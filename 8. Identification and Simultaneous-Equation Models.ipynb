{
 "cells": [
  {
   "cell_type": "code",
   "execution_count": 3,
   "id": "94972ed8-2865-4594-a83e-3d063c009aba",
   "metadata": {},
   "outputs": [],
   "source": [
    "import sympy as sy"
   ]
  },
  {
   "cell_type": "markdown",
   "id": "896e1abc-97a6-43d5-b5a6-7fe361e70826",
   "metadata": {},
   "source": [
    "# <font face=\"gotham\" color=\"purple\"> Terminologies Of Identification </font>"
   ]
  },
  {
   "cell_type": "markdown",
   "id": "3ab2a93b-e85c-4d20-82ef-c1b42d63c705",
   "metadata": {},
   "source": [
    "Before discussing simultaneous-equation models, we should clarify some terminologies that are commonly seen in macroeconomic literature. \n",
    "\n",
    "The **identification** was originally a statistical term which describes a model with multiple sets of parameters, but generates the same distribution, therefore the parameters can't be identified by investigating the generated observations.\n",
    "\n",
    "In econometric research, identification concerns more about identifying the causality, especially in multiple equation models. For easy demonstration, below is a time series model of three equations. The subscript $t$ represents the time period.\n",
    "\n",
    "This is all called **structural model**, because they may portray the structure of economy or behaviors of an economic agent."
   ]
  },
  {
   "cell_type": "markdown",
   "id": "58042fff-4ced-450e-a8cd-618ef397d03c",
   "metadata": {},
   "source": [
    "\\begin{align}\n",
    "Y_{1t} &= \\quad\\qquad+\\beta_{12}Y_{2t}+\\beta_{13}Y_{3t} + \\gamma_{11} X_{1t}+ \\gamma_{12} X_{2t} +\\gamma_{13} X_{3t}+u_{1t}\\\\\n",
    "Y_{2t} &= \\beta_{11}Y_{1t}\\quad\\quad\\qquad+\\beta_{13}Y_{3t} + \\gamma_{21} X_{1t}+ \\gamma_{22} X_{2t} +\\gamma_{23} X_{3t}+u_{2t}\\\\\n",
    "Y_{2t} &= \\beta_{11}Y_{1t}+\\beta_{12}Y_{2t} +\\quad\\qquad+ \\gamma_{31} X_{1t}+ \\gamma_{32} X_{2t} +\\gamma_{33} X_{3t}+u_{2t}\\\\\n",
    "\\end{align}"
   ]
  },
  {
   "cell_type": "markdown",
   "id": "3b3939de-b48e-412e-a9cb-322711ed5017",
   "metadata": {},
   "source": [
    "$Y_1$, $Y_2$ and $Y_3$ are **endogenous** variables, i.e. values are determined within the model; $X_1$, $X_2$ and $X_3$  are the **predetermined** variables, which are treated as non-stochastic; $u_1$, $u_2$ and $u_3$ are disturbance terms. Note that we have ceased using terms such as _dependent_ or _independent_ variables as in single equation model any more.\n",
    "\n",
    "The _predetermined_ variables are divided into two categories: **exogenous** (such as $X_{1t}, X_{1, t-1}$) and **lagged endogenous** (such as $Y_{1, t-1}$), which are not determined by the model in the current time period. But in practice, the researchers themselves should classify variables based on theoretical grounds or experience."
   ]
  },
  {
   "cell_type": "markdown",
   "id": "0aeaaf8f-a85a-4191-9af7-0dc72dec8080",
   "metadata": {},
   "source": [
    "A common macroeconomic practice is to convert the structural form equations into the **reduced form equations**, which express endogenous variables solely in terms of the predetermined variables and disturbance terms."
   ]
  },
  {
   "cell_type": "markdown",
   "id": "0c21c211-1f79-4203-961e-ad1e04eba596",
   "metadata": {},
   "source": [
    "It would be considerably concise to define corresponding matrices as following\n",
    "$$\n",
    "\\boldsymbol{Y}_t = \n",
    "\\begin{bmatrix}\n",
    "Y_{1t} \\\\\n",
    "Y_{2t}\\\\\n",
    "Y_{3t}\n",
    "\\end{bmatrix}\n",
    "$$\n",
    "\n",
    "$$\n",
    "\\boldsymbol{X}_t = \n",
    "\\begin{bmatrix}\n",
    "X_{1t} \\\\\n",
    "X_{2t}\\\\\n",
    "X_{3t}\n",
    "\\end{bmatrix}\n",
    "$$\n",
    "\n",
    "$$\n",
    "\\boldsymbol{\\beta} = \n",
    "\\begin{bmatrix}\n",
    "0 & \\beta_{12}  & \\beta_{13}\\\\\n",
    "\\beta_{11} & 0 &\\beta_{13} \\\\\n",
    "\\beta_{11} & \\beta_{12} &0\n",
    "\\end{bmatrix}\n",
    "$$\n",
    "\n",
    "$$\n",
    "\\boldsymbol{\\Gamma} = \n",
    "\\begin{bmatrix}\n",
    "\\gamma_{11} & \\gamma_{12}  & \\gamma_{13}\\\\\n",
    "\\gamma_{21} & \\gamma_{22} &\\gamma_{23} \\\\\n",
    "\\gamma_{31} & \\gamma_{32} &\\gamma_{33}\n",
    "\\end{bmatrix}\n",
    "$$\n",
    "\n",
    "$$\n",
    "\\boldsymbol{u}_t = \n",
    "\\begin{bmatrix}\n",
    "u_{1}\\\\\n",
    "u_{2} \\\\\n",
    "u_{3}\n",
    "\\end{bmatrix}\n",
    "$$"
   ]
  },
  {
   "cell_type": "markdown",
   "id": "6491031b-c7ca-4902-8461-7b55d84f07d1",
   "metadata": {},
   "source": [
    "Then structural model in matrix form is\n",
    "$$\n",
    "\\boldsymbol{Y}_t = \\boldsymbol{\\beta}\\boldsymbol{Y}_t + \\boldsymbol{\\Gamma}\\boldsymbol{X}_t + \\boldsymbol{u}_t \n",
    "$$\n",
    "Rewrite as reduced-form\n",
    "$$\n",
    "\\boldsymbol{Y}_t = (\\boldsymbol{I}-\\boldsymbol{\\beta})^{-1}\\boldsymbol{\\Gamma}\\boldsymbol{X}_t+(\\boldsymbol{I}-\\boldsymbol{\\beta})^{-1}\\boldsymbol{u}_t\n",
    "$$"
   ]
  },
  {
   "cell_type": "markdown",
   "id": "253380a6-253f-4257-b561-6d64434eba9a",
   "metadata": {},
   "source": [
    "# <font face=\"gotham\" color=\"purple\"> Keynesian Cross Model </font>"
   ]
  },
  {
   "cell_type": "markdown",
   "id": "68bddd2b-b2a9-422d-97d6-d5c7da9a6214",
   "metadata": {},
   "source": [
    "Here is structural model, it describes the consumption of the economy\n",
    "$$\n",
    "\\begin{array}{ll}\n",
    "\\text { Consumption function: } & C_{t}=\\beta_{0}+\\beta_{1} Y_{t}+u_{t} \\quad 0<\\beta_{1}<1 \\\\\n",
    "\\text { Income identity: } & Y_{t}=C_{t}+I_{t}\n",
    "\\end{array}\n",
    "$$"
   ]
  },
  {
   "cell_type": "markdown",
   "id": "8f57341f-9e3e-4f27-a3df-9012d2ce241d",
   "metadata": {},
   "source": [
    "Join both equations and write as reduced form\n",
    "$$\n",
    "Y_t  = \\frac{\\beta_0}{1-\\beta_1}+\\frac{I_t}{1-\\beta_1}+\\frac{u_t}{1-\\beta_1}\n",
    "$$"
   ]
  },
  {
   "cell_type": "markdown",
   "id": "a8dad74a-caaa-4cdb-990d-3af565531161",
   "metadata": {},
   "source": [
    "Or write as\n",
    "$$\n",
    "Y_{t}=\\Pi_{0}+\\Pi_{1} I_{t}+w_{t}\\\\\n",
    "\\begin{aligned}\n",
    "\\Pi_{0} &=\\frac{\\beta_{0}}{1-\\beta_{1}} \\\\\n",
    "\\Pi_{1} &=\\frac{1}{1-\\beta_{1}} \\\\\n",
    "w_{t} &=\\frac{u_{t}}{1-\\beta_{1}}\n",
    "\\end{aligned}\n",
    "$$\n",
    "Substitute back to consumption function\n",
    "$$\n",
    "\\begin{gathered}\n",
    "C_{t}=\\Pi_{2}+\\Pi_{3} I_{t}+w_{t} \\\\\n",
    "\\Pi_{2}=\\frac{\\beta_{0}}{1-\\beta_{1}}\\\\\n",
    "\\Pi_{3}=\\frac{\\beta_{1}}{1-\\beta_{1}} \\\\\n",
    "w_{t}=\\frac{u_{t}}{1-\\beta_{1}}\n",
    "\\end{gathered}\n",
    "$$"
   ]
  },
  {
   "cell_type": "markdown",
   "id": "fa8a1388-9137-415c-b4d8-263f4cf5a3f6",
   "metadata": {},
   "source": [
    "Once we have the reduced-form, we can estimate reduced-form coefficients by OLS without suffering from inconsistency."
   ]
  },
  {
   "cell_type": "markdown",
   "id": "0f8319e2-0a4d-4927-81c4-585cc3b95561",
   "metadata": {},
   "source": [
    "# <font face=\"gotham\" color=\"purple\"> Underidentification </font>"
   ]
  },
  {
   "cell_type": "markdown",
   "id": "e96b3cca-94fc-4577-835e-9836fa0e0b1c",
   "metadata": {},
   "source": [
    "This is the basic demand and supply model\n",
    "\\begin{align}\n",
    "\\text{Demand function:}& \\quad Q_{t}^{d}=\\alpha_{0}+\\alpha_{1} P_{t}+u_{1 t} \\quad \\alpha_{1}<0\\\\\n",
    "\\text{Supply function:}& \\quad Q_{t}^{s}=\\beta_{0}+\\beta_{1} P_{t}+u_{2 t} \\quad \\beta_{1}>0\\\\\n",
    "\\text{Equilibrium condition:}& \\quad \\mathrm{Q}_{t}^{d}=\\mathrm{Q}_{t}^{s}\n",
    "\\end{align}\n",
    "If $u_{1t}$ changes, it means the demand will change due to factor other than $P_t$, which causes the demand curve shifting; so is $u_{2t}$, which causes supply curve shifting.\n",
    "\n",
    "However, notice that curve shifting will cause both $P$ and $Q$ change too, this means that $u_{1t}$ and $P_t$  are not independently distributed, so are $u_{2t}$ and $P_t$. This means we can't use OLS to estimate each equations independently.\n",
    "\n",
    "Equate the demand and supply\n",
    "$$\\alpha_{0}+\\alpha_{1} P_{t}+u_{1 t}=\\beta_{0}+\\beta_{1} P_{t}+u_{2 t}$$\n",
    "Solve for equilibrium $P_t$\n",
    "$$\n",
    "\\begin{gathered}\n",
    "P_{t}=\\Pi_{0}+v_{t} \\\\\n",
    "\\Pi_{0}=\\frac{\\beta_{0}-\\alpha_{0}}{\\alpha_{1}-\\beta_{1}} \\\\\n",
    "v_{t}=\\frac{u_{2 t}-u_{1 t}}{\\alpha_{1}-\\beta_{1}}\n",
    "\\end{gathered}\n",
    "$$\n",
    "Substitute back to demand function to solve for equilibrium quantity\n",
    "$$\n",
    "\\begin{gathered}\n",
    "Q_{t}=\\Pi_{1}+w_{t} \\\\\n",
    "\\Pi_{1}=\\frac{\\alpha_{1} \\beta_{0}-\\alpha_{0} \\beta_{1}}{\\alpha_{1}-\\beta_{1}} \\\\\n",
    "w_{t}=\\frac{\\alpha_{1} u_{2 t}-\\beta_{1} u_{1 t}}{\\alpha_{1}-\\beta_{1}}\n",
    "\\end{gathered}\n",
    "$$"
   ]
  },
  {
   "cell_type": "markdown",
   "id": "39fdf2db-7e33-4e00-a677-0f819897a212",
   "metadata": {},
   "source": [
    "We obtain the reduced-form equations in terms of structural coefficients and disturbance term. We can estimate the reduced-form coefficients $\\Pi_{0}$  and $\\Pi_{1}$ by OLS. \n",
    "\n",
    "Let's say $\\Pi_{0}=3$  and $\\Pi_{1}=4$, but how do we pin down structural coefficients $\\alpha_0$, $\\alpha_1$, $\\beta_0$ and $\\beta_1$. \n",
    "$$\n",
    "\\Pi_{0}=\\frac{\\beta_{0}-\\alpha_{0}}{\\alpha_{1}-\\beta_{1}}\\\\\n",
    "\\Pi_{1}=\\frac{\\alpha_{1} \\beta_{0}-\\alpha_{0} \\beta_{1}}{\\alpha_{1}-\\beta_{1}} \n",
    "$$\n",
    "Two equations, but four unknowns, there are infinite amount of combination of them to satisfy the restriction, this is the exact question of identification - how to identify the structural coefficient even if we have reduced-form coefficients?\n",
    "\n",
    "The answer to this case: _we can't_.\n",
    "\n",
    "Because there is not enough information to solve the system, we call this **underidentification**."
   ]
  },
  {
   "cell_type": "markdown",
   "id": "631d5434-5880-4095-b84a-0f98eb66ffa8",
   "metadata": {},
   "source": [
    "Since the problem of underidentification is due to lack of information, how about we give it more information and test if it can be identified. \n",
    "\\begin{align}\n",
    "\\text{Demand function:}& \\quad Q^d_{t}=\\alpha_{0}+\\alpha_{1} P_{t}+\\alpha_{2} I_{t}+u_{1 t} \\quad &\\alpha_{1}<0, \\alpha_{2}>0\\\\\n",
    "\\text{Supply function:}&\\quad Q^s_{t}=\\beta_{0}+\\beta_{1} P_{t}+u_{2 t} \\quad &\\beta_{1}>0\n",
    "\\end{align}\n",
    "where $I$ is the income of the family."
   ]
  },
  {
   "cell_type": "markdown",
   "id": "96c3ddc9-e9b6-42e9-bcdb-c526677ae58a",
   "metadata": {},
   "source": [
    "Equate both function\n",
    "$$\n",
    "\\alpha_{0}+\\alpha_{1} P_{t}+\\alpha_{2} I_{t}+u_{1 t}=\\beta_{0}+\\beta_{1} P_{t}+u_{2 t}\n",
    "$$\n",
    "And solve for the equilibrium $P_t$\n",
    "$$\n",
    "P_{t}=\\Pi_{0}+\\Pi_{1} I_{t}+v_{t}\\\\\n",
    "\\begin{aligned}\n",
    "\\Pi_{0} &=\\frac{\\beta_{0}-\\alpha_{0}}{\\alpha_{1}-\\beta_{1}} \\\\\n",
    "\\Pi_{1} &=-\\frac{\\alpha_{2}}{\\alpha_{1}-\\beta_{1}} \\\\\n",
    "v_{t} &=\\frac{u_{2 t}-u_{1 t}}{\\alpha_{1}-\\beta_{1}}\n",
    "\\end{aligned}\n",
    "$$\n",
    "Substitute back to demand function to solve for $Q_t$\n",
    "$$\n",
    "\\begin{aligned}\n",
    "&Q_{t}=\\Pi_{2}+\\Pi_{3} I_{t}+w_{t} \\\\\n",
    "&\\Pi_{2}=\\frac{\\alpha_{1} \\beta_{0}-\\alpha_{0} \\beta_{1}}{\\alpha_{1}-\\beta_{1}} \\\\\n",
    "&\\Pi_{3}=-\\frac{\\alpha_{2} \\beta_{1}}{\\alpha_{1}-\\beta_{1}} \\\\\n",
    "&w_{t}=\\frac{\\alpha_{1} u_{2 t}-\\beta_{1} u_{1 t}}{\\alpha_{1}-\\beta_{1}}\n",
    "\\end{aligned}\n",
    "$$"
   ]
  },
  {
   "cell_type": "markdown",
   "id": "b2e4f11a-74c7-4f82-bfee-8a391cc60b16",
   "metadata": {},
   "source": [
    "Let's assume $\\Pi_0 = 2$, $\\Pi_1 = 3$,  $\\Pi_2 = 4$ and  $\\Pi_3 = 5$, we have a system of four equations and five unknowns\n",
    "\\begin{align}\n",
    "2& =\\frac{\\beta_{0}-\\alpha_{0}}{\\alpha_{1}-\\beta_{1}} \\\\\n",
    "3& =-\\frac{\\alpha_{2}}{\\alpha_{1}-\\beta_{1}} \\\\\n",
    "4&=\\frac{\\alpha_{1} \\beta_{0}-\\alpha_{0} \\beta_{1}}{\\alpha_{1}-\\beta_{1}} \\\\\n",
    "5&=-\\frac{\\alpha_{2} \\beta_{1}}{\\alpha_{1}-\\beta_{1}} \n",
    "\\end{align}\n",
    "One free variable, the system is still underidentified!"
   ]
  },
  {
   "cell_type": "markdown",
   "id": "038c1ccb-a234-4851-8842-6be9cd8fcf94",
   "metadata": {},
   "source": [
    "# <font face=\"gotham\" color=\"purple\"> Exact Identification </font>"
   ]
  },
  {
   "cell_type": "markdown",
   "id": "f7359f8e-a320-472a-a94f-ed5a0741f41e",
   "metadata": {},
   "source": [
    "We keep adding variables in the model, we will see if it can be identified\n",
    "\n",
    "\\begin{align}\n",
    "\\text{Demand function:}& \\quad Q_{t}=\\alpha_{0}+\\alpha_{1} P_{t}+\\alpha_{2} I_{t}+u_{1 t}\\\\\n",
    "\\text{Supply function:}& \\quad Q_{t}=\\beta_{0}+\\beta_{1} P_{t}+\\beta_{2} P_{t-1}+u_{2 t}\n",
    "\\end{align}"
   ]
  },
  {
   "cell_type": "code",
   "execution_count": null,
   "id": "6b4dcfea-39e1-4b5c-ae7d-7866328dfe02",
   "metadata": {},
   "outputs": [],
   "source": []
  },
  {
   "cell_type": "code",
   "execution_count": null,
   "id": "72d538fb-a6cd-429c-b242-d342d0e63dac",
   "metadata": {},
   "outputs": [],
   "source": []
  },
  {
   "cell_type": "code",
   "execution_count": null,
   "id": "249f2352-ee06-48f2-8eb5-0f0e2752b096",
   "metadata": {},
   "outputs": [],
   "source": []
  },
  {
   "cell_type": "code",
   "execution_count": null,
   "id": "0d578c31-66cd-4d4b-a54b-84145a3e42ad",
   "metadata": {},
   "outputs": [],
   "source": []
  },
  {
   "cell_type": "code",
   "execution_count": 2,
   "id": "9e456323-f578-435d-9e5d-75a7cd466b6b",
   "metadata": {},
   "outputs": [],
   "source": [
    "from sympy.solvers.solveset import linsolve"
   ]
  },
  {
   "cell_type": "code",
   "execution_count": 7,
   "id": "d26dcf49-dfbc-4fa0-aa68-021a5a1031ff",
   "metadata": {},
   "outputs": [],
   "source": [
    "a0, a1, a2, b0, b1 = sy.symbols('a0, a1, a2, b0, b1')"
   ]
  },
  {
   "cell_type": "code",
   "execution_count": 9,
   "id": "9a38607c-ba79-4f71-901e-8cdab5cb20f9",
   "metadata": {},
   "outputs": [
    {
     "ename": "NonlinearError",
     "evalue": "",
     "output_type": "error",
     "traceback": [
      "\u001b[1;31m---------------------------------------------------------------------------\u001b[0m",
      "\u001b[1;31mPolyNonlinearError\u001b[0m                        Traceback (most recent call last)",
      "\u001b[1;32mE:\\Anaconda\\lib\\site-packages\\sympy\\polys\\matrices\\linsolve.py\u001b[0m in \u001b[0;36m_linear_eq_to_dict\u001b[1;34m(eqs, syms)\u001b[0m\n\u001b[0;32m    146\u001b[0m     \u001b[1;32mtry\u001b[0m\u001b[1;33m:\u001b[0m\u001b[1;33m\u001b[0m\u001b[1;33m\u001b[0m\u001b[0m\n\u001b[1;32m--> 147\u001b[1;33m         \u001b[1;32mreturn\u001b[0m \u001b[0m_linear_eq_to_dict_inner\u001b[0m\u001b[1;33m(\u001b[0m\u001b[0meqs\u001b[0m\u001b[1;33m,\u001b[0m \u001b[0msyms\u001b[0m\u001b[1;33m)\u001b[0m\u001b[1;33m\u001b[0m\u001b[1;33m\u001b[0m\u001b[0m\n\u001b[0m\u001b[0;32m    148\u001b[0m     \u001b[1;32mexcept\u001b[0m \u001b[0mPolyNonlinearError\u001b[0m\u001b[1;33m:\u001b[0m\u001b[1;33m\u001b[0m\u001b[1;33m\u001b[0m\u001b[0m\n",
      "\u001b[1;32mE:\\Anaconda\\lib\\site-packages\\sympy\\polys\\matrices\\linsolve.py\u001b[0m in \u001b[0;36m_linear_eq_to_dict_inner\u001b[1;34m(eqs, syms)\u001b[0m\n\u001b[0;32m    158\u001b[0m     \u001b[1;32mfor\u001b[0m \u001b[0meq\u001b[0m \u001b[1;32min\u001b[0m \u001b[0meqs\u001b[0m\u001b[1;33m:\u001b[0m\u001b[1;33m\u001b[0m\u001b[1;33m\u001b[0m\u001b[0m\n\u001b[1;32m--> 159\u001b[1;33m         \u001b[0mrhs\u001b[0m\u001b[1;33m,\u001b[0m \u001b[0meqdict\u001b[0m \u001b[1;33m=\u001b[0m \u001b[0m_lin_eq2dict\u001b[0m\u001b[1;33m(\u001b[0m\u001b[0meq\u001b[0m\u001b[1;33m,\u001b[0m \u001b[0msyms\u001b[0m\u001b[1;33m)\u001b[0m\u001b[1;33m\u001b[0m\u001b[1;33m\u001b[0m\u001b[0m\n\u001b[0m\u001b[0;32m    160\u001b[0m         \u001b[0meqsdict\u001b[0m\u001b[1;33m.\u001b[0m\u001b[0mappend\u001b[0m\u001b[1;33m(\u001b[0m\u001b[0meqdict\u001b[0m\u001b[1;33m)\u001b[0m\u001b[1;33m\u001b[0m\u001b[1;33m\u001b[0m\u001b[0m\n",
      "\u001b[1;32mE:\\Anaconda\\lib\\site-packages\\sympy\\polys\\matrices\\linsolve.py\u001b[0m in \u001b[0;36m_lin_eq2dict\u001b[1;34m(a, symset)\u001b[0m\n\u001b[0;32m    172\u001b[0m         \u001b[1;32mfor\u001b[0m \u001b[0mai\u001b[0m \u001b[1;32min\u001b[0m \u001b[0ma\u001b[0m\u001b[1;33m.\u001b[0m\u001b[0margs\u001b[0m\u001b[1;33m:\u001b[0m\u001b[1;33m\u001b[0m\u001b[1;33m\u001b[0m\u001b[0m\n\u001b[1;32m--> 173\u001b[1;33m             \u001b[0mci\u001b[0m\u001b[1;33m,\u001b[0m \u001b[0mti\u001b[0m \u001b[1;33m=\u001b[0m \u001b[0m_lin_eq2dict\u001b[0m\u001b[1;33m(\u001b[0m\u001b[0mai\u001b[0m\u001b[1;33m,\u001b[0m \u001b[0msymset\u001b[0m\u001b[1;33m)\u001b[0m\u001b[1;33m\u001b[0m\u001b[1;33m\u001b[0m\u001b[0m\n\u001b[0m\u001b[0;32m    174\u001b[0m             \u001b[0mcoeff_list\u001b[0m\u001b[1;33m.\u001b[0m\u001b[0mappend\u001b[0m\u001b[1;33m(\u001b[0m\u001b[0mci\u001b[0m\u001b[1;33m)\u001b[0m\u001b[1;33m\u001b[0m\u001b[1;33m\u001b[0m\u001b[0m\n",
      "\u001b[1;32mE:\\Anaconda\\lib\\site-packages\\sympy\\polys\\matrices\\linsolve.py\u001b[0m in \u001b[0;36m_lin_eq2dict\u001b[1;34m(a, symset)\u001b[0m\n\u001b[0;32m    190\u001b[0m             \u001b[1;32melse\u001b[0m\u001b[1;33m:\u001b[0m\u001b[1;33m\u001b[0m\u001b[1;33m\u001b[0m\u001b[0m\n\u001b[1;32m--> 191\u001b[1;33m                 \u001b[1;32mraise\u001b[0m \u001b[0mPolyNonlinearError\u001b[0m\u001b[1;33m\u001b[0m\u001b[1;33m\u001b[0m\u001b[0m\n\u001b[0m\u001b[0;32m    192\u001b[0m         \u001b[0mcoeff\u001b[0m \u001b[1;33m=\u001b[0m \u001b[0mMul\u001b[0m\u001b[1;33m(\u001b[0m\u001b[1;33m*\u001b[0m\u001b[0mcoeff_list\u001b[0m\u001b[1;33m)\u001b[0m\u001b[1;33m\u001b[0m\u001b[1;33m\u001b[0m\u001b[0m\n",
      "\u001b[1;31mPolyNonlinearError\u001b[0m: ",
      "\nDuring handling of the above exception, another exception occurred:\n",
      "\u001b[1;31mPolyNonlinearError\u001b[0m                        Traceback (most recent call last)",
      "\u001b[1;32mE:\\Anaconda\\lib\\site-packages\\sympy\\solvers\\solveset.py\u001b[0m in \u001b[0;36mlinsolve\u001b[1;34m(system, *symbols)\u001b[0m\n\u001b[0;32m   2776\u001b[0m             \u001b[1;32mtry\u001b[0m\u001b[1;33m:\u001b[0m\u001b[1;33m\u001b[0m\u001b[1;33m\u001b[0m\u001b[0m\n\u001b[1;32m-> 2777\u001b[1;33m                 \u001b[0msol\u001b[0m \u001b[1;33m=\u001b[0m \u001b[0m_linsolve\u001b[0m\u001b[1;33m(\u001b[0m\u001b[0meqs\u001b[0m\u001b[1;33m,\u001b[0m \u001b[0msymbols\u001b[0m\u001b[1;33m)\u001b[0m\u001b[1;33m\u001b[0m\u001b[1;33m\u001b[0m\u001b[0m\n\u001b[0m\u001b[0;32m   2778\u001b[0m             \u001b[1;32mexcept\u001b[0m \u001b[0mPolyNonlinearError\u001b[0m \u001b[1;32mas\u001b[0m \u001b[0mexc\u001b[0m\u001b[1;33m:\u001b[0m\u001b[1;33m\u001b[0m\u001b[1;33m\u001b[0m\u001b[0m\n",
      "\u001b[1;32mE:\\Anaconda\\lib\\site-packages\\sympy\\polys\\matrices\\linsolve.py\u001b[0m in \u001b[0;36m_linsolve\u001b[1;34m(eqs, syms)\u001b[0m\n\u001b[0;32m     71\u001b[0m     \u001b[1;31m# Convert to sparse augmented matrix (len(eqs) x (nsyms+1))\u001b[0m\u001b[1;33m\u001b[0m\u001b[1;33m\u001b[0m\u001b[1;33m\u001b[0m\u001b[0m\n\u001b[1;32m---> 72\u001b[1;33m     \u001b[0meqsdict\u001b[0m\u001b[1;33m,\u001b[0m \u001b[0mrhs\u001b[0m \u001b[1;33m=\u001b[0m \u001b[0m_linear_eq_to_dict\u001b[0m\u001b[1;33m(\u001b[0m\u001b[0meqs\u001b[0m\u001b[1;33m,\u001b[0m \u001b[0msyms\u001b[0m\u001b[1;33m)\u001b[0m\u001b[1;33m\u001b[0m\u001b[1;33m\u001b[0m\u001b[0m\n\u001b[0m\u001b[0;32m     73\u001b[0m     \u001b[0mAaug\u001b[0m \u001b[1;33m=\u001b[0m \u001b[0msympy_dict_to_dm\u001b[0m\u001b[1;33m(\u001b[0m\u001b[0meqsdict\u001b[0m\u001b[1;33m,\u001b[0m \u001b[0mrhs\u001b[0m\u001b[1;33m,\u001b[0m \u001b[0msyms\u001b[0m\u001b[1;33m)\u001b[0m\u001b[1;33m\u001b[0m\u001b[1;33m\u001b[0m\u001b[0m\n",
      "\u001b[1;32mE:\\Anaconda\\lib\\site-packages\\sympy\\polys\\matrices\\linsolve.py\u001b[0m in \u001b[0;36m_linear_eq_to_dict\u001b[1;34m(eqs, syms)\u001b[0m\n\u001b[0;32m    150\u001b[0m         \u001b[0meqs\u001b[0m \u001b[1;33m=\u001b[0m \u001b[0m_expand_eqs_deprecated\u001b[0m\u001b[1;33m(\u001b[0m\u001b[0meqs\u001b[0m\u001b[1;33m)\u001b[0m\u001b[1;33m\u001b[0m\u001b[1;33m\u001b[0m\u001b[0m\n\u001b[1;32m--> 151\u001b[1;33m         \u001b[1;32mreturn\u001b[0m \u001b[0m_linear_eq_to_dict_inner\u001b[0m\u001b[1;33m(\u001b[0m\u001b[0meqs\u001b[0m\u001b[1;33m,\u001b[0m \u001b[0msyms\u001b[0m\u001b[1;33m)\u001b[0m\u001b[1;33m\u001b[0m\u001b[1;33m\u001b[0m\u001b[0m\n\u001b[0m\u001b[0;32m    152\u001b[0m \u001b[1;33m\u001b[0m\u001b[0m\n",
      "\u001b[1;32mE:\\Anaconda\\lib\\site-packages\\sympy\\polys\\matrices\\linsolve.py\u001b[0m in \u001b[0;36m_linear_eq_to_dict_inner\u001b[1;34m(eqs, syms)\u001b[0m\n\u001b[0;32m    158\u001b[0m     \u001b[1;32mfor\u001b[0m \u001b[0meq\u001b[0m \u001b[1;32min\u001b[0m \u001b[0meqs\u001b[0m\u001b[1;33m:\u001b[0m\u001b[1;33m\u001b[0m\u001b[1;33m\u001b[0m\u001b[0m\n\u001b[1;32m--> 159\u001b[1;33m         \u001b[0mrhs\u001b[0m\u001b[1;33m,\u001b[0m \u001b[0meqdict\u001b[0m \u001b[1;33m=\u001b[0m \u001b[0m_lin_eq2dict\u001b[0m\u001b[1;33m(\u001b[0m\u001b[0meq\u001b[0m\u001b[1;33m,\u001b[0m \u001b[0msyms\u001b[0m\u001b[1;33m)\u001b[0m\u001b[1;33m\u001b[0m\u001b[1;33m\u001b[0m\u001b[0m\n\u001b[0m\u001b[0;32m    160\u001b[0m         \u001b[0meqsdict\u001b[0m\u001b[1;33m.\u001b[0m\u001b[0mappend\u001b[0m\u001b[1;33m(\u001b[0m\u001b[0meqdict\u001b[0m\u001b[1;33m)\u001b[0m\u001b[1;33m\u001b[0m\u001b[1;33m\u001b[0m\u001b[0m\n",
      "\u001b[1;32mE:\\Anaconda\\lib\\site-packages\\sympy\\polys\\matrices\\linsolve.py\u001b[0m in \u001b[0;36m_lin_eq2dict\u001b[1;34m(a, symset)\u001b[0m\n\u001b[0;32m    172\u001b[0m         \u001b[1;32mfor\u001b[0m \u001b[0mai\u001b[0m \u001b[1;32min\u001b[0m \u001b[0ma\u001b[0m\u001b[1;33m.\u001b[0m\u001b[0margs\u001b[0m\u001b[1;33m:\u001b[0m\u001b[1;33m\u001b[0m\u001b[1;33m\u001b[0m\u001b[0m\n\u001b[1;32m--> 173\u001b[1;33m             \u001b[0mci\u001b[0m\u001b[1;33m,\u001b[0m \u001b[0mti\u001b[0m \u001b[1;33m=\u001b[0m \u001b[0m_lin_eq2dict\u001b[0m\u001b[1;33m(\u001b[0m\u001b[0mai\u001b[0m\u001b[1;33m,\u001b[0m \u001b[0msymset\u001b[0m\u001b[1;33m)\u001b[0m\u001b[1;33m\u001b[0m\u001b[1;33m\u001b[0m\u001b[0m\n\u001b[0m\u001b[0;32m    174\u001b[0m             \u001b[0mcoeff_list\u001b[0m\u001b[1;33m.\u001b[0m\u001b[0mappend\u001b[0m\u001b[1;33m(\u001b[0m\u001b[0mci\u001b[0m\u001b[1;33m)\u001b[0m\u001b[1;33m\u001b[0m\u001b[1;33m\u001b[0m\u001b[0m\n",
      "\u001b[1;32mE:\\Anaconda\\lib\\site-packages\\sympy\\polys\\matrices\\linsolve.py\u001b[0m in \u001b[0;36m_lin_eq2dict\u001b[1;34m(a, symset)\u001b[0m\n\u001b[0;32m    190\u001b[0m             \u001b[1;32melse\u001b[0m\u001b[1;33m:\u001b[0m\u001b[1;33m\u001b[0m\u001b[1;33m\u001b[0m\u001b[0m\n\u001b[1;32m--> 191\u001b[1;33m                 \u001b[1;32mraise\u001b[0m \u001b[0mPolyNonlinearError\u001b[0m\u001b[1;33m\u001b[0m\u001b[1;33m\u001b[0m\u001b[0m\n\u001b[0m\u001b[0;32m    192\u001b[0m         \u001b[0mcoeff\u001b[0m \u001b[1;33m=\u001b[0m \u001b[0mMul\u001b[0m\u001b[1;33m(\u001b[0m\u001b[1;33m*\u001b[0m\u001b[0mcoeff_list\u001b[0m\u001b[1;33m)\u001b[0m\u001b[1;33m\u001b[0m\u001b[1;33m\u001b[0m\u001b[0m\n",
      "\u001b[1;31mPolyNonlinearError\u001b[0m: ",
      "\nDuring handling of the above exception, another exception occurred:\n",
      "\u001b[1;31mNonlinearError\u001b[0m                            Traceback (most recent call last)",
      "\u001b[1;32m<ipython-input-9-7d7c4fe49ce5>\u001b[0m in \u001b[0;36m<module>\u001b[1;34m\u001b[0m\n\u001b[1;32m----> 1\u001b[1;33m \u001b[0mlinsolve\u001b[0m\u001b[1;33m(\u001b[0m\u001b[1;33m[\u001b[0m\u001b[1;36m2\u001b[0m \u001b[1;33m*\u001b[0m \u001b[1;33m(\u001b[0m\u001b[0ma1\u001b[0m \u001b[1;33m-\u001b[0m \u001b[0mb1\u001b[0m\u001b[1;33m)\u001b[0m \u001b[1;33m-\u001b[0m \u001b[1;33m(\u001b[0m\u001b[0mb0\u001b[0m \u001b[1;33m-\u001b[0m \u001b[0ma0\u001b[0m\u001b[1;33m)\u001b[0m\u001b[1;33m,\u001b[0m \u001b[1;36m3\u001b[0m \u001b[1;33m*\u001b[0m\u001b[1;33m(\u001b[0m\u001b[0ma1\u001b[0m \u001b[1;33m-\u001b[0m \u001b[0mb1\u001b[0m\u001b[1;33m)\u001b[0m \u001b[1;33m+\u001b[0m \u001b[0ma2\u001b[0m\u001b[1;33m,\u001b[0m \u001b[1;36m4\u001b[0m \u001b[1;33m*\u001b[0m\u001b[1;33m(\u001b[0m\u001b[0ma1\u001b[0m \u001b[1;33m-\u001b[0m \u001b[0mb1\u001b[0m\u001b[1;33m)\u001b[0m \u001b[1;33m-\u001b[0m \u001b[1;33m(\u001b[0m\u001b[0ma1\u001b[0m\u001b[1;33m*\u001b[0m\u001b[0mb0\u001b[0m \u001b[1;33m-\u001b[0m \u001b[0ma0\u001b[0m\u001b[1;33m*\u001b[0m\u001b[0mb1\u001b[0m\u001b[1;33m)\u001b[0m\u001b[1;33m,\u001b[0m \u001b[1;36m5\u001b[0m\u001b[1;33m*\u001b[0m\u001b[1;33m(\u001b[0m\u001b[0ma1\u001b[0m\u001b[1;33m-\u001b[0m\u001b[0mb1\u001b[0m\u001b[1;33m)\u001b[0m\u001b[1;33m+\u001b[0m\u001b[0ma2\u001b[0m\u001b[1;33m*\u001b[0m\u001b[0mb1\u001b[0m\u001b[1;33m]\u001b[0m\u001b[1;33m,\u001b[0m \u001b[1;33m(\u001b[0m\u001b[0ma0\u001b[0m\u001b[1;33m,\u001b[0m \u001b[0ma1\u001b[0m\u001b[1;33m,\u001b[0m \u001b[0ma2\u001b[0m\u001b[1;33m,\u001b[0m \u001b[0mb0\u001b[0m\u001b[1;33m,\u001b[0m \u001b[0mb1\u001b[0m\u001b[1;33m)\u001b[0m\u001b[1;33m)\u001b[0m\u001b[1;33m\u001b[0m\u001b[1;33m\u001b[0m\u001b[0m\n\u001b[0m",
      "\u001b[1;32mE:\\Anaconda\\lib\\site-packages\\sympy\\solvers\\solveset.py\u001b[0m in \u001b[0;36mlinsolve\u001b[1;34m(system, *symbols)\u001b[0m\n\u001b[0;32m   2778\u001b[0m             \u001b[1;32mexcept\u001b[0m \u001b[0mPolyNonlinearError\u001b[0m \u001b[1;32mas\u001b[0m \u001b[0mexc\u001b[0m\u001b[1;33m:\u001b[0m\u001b[1;33m\u001b[0m\u001b[1;33m\u001b[0m\u001b[0m\n\u001b[0;32m   2779\u001b[0m                 \u001b[1;31m# e.g. cos(x) contains an element of the set of generators\u001b[0m\u001b[1;33m\u001b[0m\u001b[1;33m\u001b[0m\u001b[1;33m\u001b[0m\u001b[0m\n\u001b[1;32m-> 2780\u001b[1;33m                 \u001b[1;32mraise\u001b[0m \u001b[0mNonlinearError\u001b[0m\u001b[1;33m(\u001b[0m\u001b[0mstr\u001b[0m\u001b[1;33m(\u001b[0m\u001b[0mexc\u001b[0m\u001b[1;33m)\u001b[0m\u001b[1;33m)\u001b[0m\u001b[1;33m\u001b[0m\u001b[1;33m\u001b[0m\u001b[0m\n\u001b[0m\u001b[0;32m   2781\u001b[0m \u001b[1;33m\u001b[0m\u001b[0m\n\u001b[0;32m   2782\u001b[0m             \u001b[1;32mif\u001b[0m \u001b[0msol\u001b[0m \u001b[1;32mis\u001b[0m \u001b[1;32mNone\u001b[0m\u001b[1;33m:\u001b[0m\u001b[1;33m\u001b[0m\u001b[1;33m\u001b[0m\u001b[0m\n",
      "\u001b[1;31mNonlinearError\u001b[0m: "
     ]
    }
   ],
   "source": [
    "linsolve([2 * (a1 - b1) - (b0 - a0), 3 *(a1 - b1) + a2, 4 *(a1 - b1) - (a1*b0 - a0*b1), 5*(a1-b1)+a2*b1], (a0, a1, a2, b0, b1))"
   ]
  },
  {
   "cell_type": "code",
   "execution_count": null,
   "id": "620f0d49-fd97-4fd7-b934-bdc9bfac60de",
   "metadata": {},
   "outputs": [],
   "source": []
  }
 ],
 "metadata": {
  "kernelspec": {
   "display_name": "Python 3",
   "language": "python",
   "name": "python3"
  },
  "language_info": {
   "codemirror_mode": {
    "name": "ipython",
    "version": 3
   },
   "file_extension": ".py",
   "mimetype": "text/x-python",
   "name": "python",
   "nbconvert_exporter": "python",
   "pygments_lexer": "ipython3",
   "version": "3.8.8"
  }
 },
 "nbformat": 4,
 "nbformat_minor": 5
}
