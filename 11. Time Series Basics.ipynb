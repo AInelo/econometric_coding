{
 "cells": [
  {
   "cell_type": "code",
   "execution_count": 42,
   "id": "29082b22-cfa5-4d24-bab1-7e3980ff085c",
   "metadata": {},
   "outputs": [],
   "source": [
    "import pandas as pd\n",
    "import numpy as np\n",
    "import matplotlib.pyplot as plt\n",
    "import pandas_datareader as pdr\n",
    "import datetime as dt\n",
    "import statsmodels.formula.api as smf"
   ]
  },
  {
   "cell_type": "markdown",
   "id": "2dd9a4c0-cb3c-46da-970c-02ba56eeb5f4",
   "metadata": {},
   "source": [
    "# <font face=\"gotham\" color=\"purple\"> Techniques For Handling Time Series Data </font>"
   ]
  },
  {
   "cell_type": "markdown",
   "id": "f535ef29-831f-40c0-8fbc-e4ccb62fa5f6",
   "metadata": {},
   "source": [
    "This section aims to introduce the most fundamental skills of wrangling time series data in Python, specifically with Pandas."
   ]
  },
  {
   "cell_type": "markdown",
   "id": "5cfd3d6f-7f91-4369-974f-68f2c0b2f9ed",
   "metadata": {},
   "source": [
    "## <font face=\"gotham\" color=\"purple\"> Why Taking Logs?</font>"
   ]
  },
  {
   "cell_type": "markdown",
   "id": "1b3d9abc-6b8b-4694-8dac-b8ff93d3dd50",
   "metadata": {},
   "source": [
    "If the time series that exhibit any traces of growth or decline, i.e. nonstationary, a useful transformation is to take natural logarithm of it. Suppose if $y_t$ is an observation of the time series in period $t$, the growth rate from period $t-1$ is\n",
    "$$\n",
    "g_t = \\frac{y_t}{y_{t-1}}-1\n",
    "$$\n",
    "where $g_t$ is the growth rate. Rearrange and take natural log\n",
    "$$\n",
    "\\ln{(1+g_t)}=\\ln{\\bigg(\\frac{y_t}{y_{t-1}}\\bigg)}=\\ln{y_t}-\\ln{y_{t-1}}\n",
    "$$\n",
    "So the question is what is $\\ln{(1+g_t)}$?"
   ]
  },
  {
   "cell_type": "markdown",
   "id": "6defc978-4419-4dcd-8a38-d97e138eff60",
   "metadata": {},
   "source": [
    "In calculus class, we have learned **Taylor Expansion**, which is the ultimate weapon for approximate any functions. \n",
    "$$\n",
    "\\ln (1+x)=x-\\frac{1}{2} x^{2}+\\frac{1}{3} x^{3}-\\frac{1}{4} x^{4}+\\ldots=\\sum_{k=1}^\\infty(-1)^{k+1}\\frac{x^k}{k}\n",
    "$$"
   ]
  },
  {
   "cell_type": "markdown",
   "id": "a2db1256-a815-4ea9-b12d-cefbb8515b1a",
   "metadata": {},
   "source": [
    "Because the growth rate is usually small, we can use the linear term exclusively in Taylor expansion\n",
    "$$\n",
    "\\ln{(1+x)}\\approx x\n",
    "$$\n",
    "which means log difference approximates the growth rate\n",
    "$$\n",
    "\\ln{y_t}-\\ln{y_{t-1}} \\approx g_t\n",
    "$$"
   ]
  },
  {
   "cell_type": "markdown",
   "id": "11f4c8ba-3c5a-460e-b555-0e24ded735d7",
   "metadata": {},
   "source": [
    "Let's take a look at real GDP per capita from US."
   ]
  },
  {
   "cell_type": "code",
   "execution_count": 213,
   "id": "f8aea0c3-1328-43b0-b723-7e99b65a1e95",
   "metadata": {},
   "outputs": [
    {
     "data": {
      "text/html": [
       "<div>\n",
       "<style scoped>\n",
       "    .dataframe tbody tr th:only-of-type {\n",
       "        vertical-align: middle;\n",
       "    }\n",
       "\n",
       "    .dataframe tbody tr th {\n",
       "        vertical-align: top;\n",
       "    }\n",
       "\n",
       "    .dataframe thead th {\n",
       "        text-align: right;\n",
       "    }\n",
       "</style>\n",
       "<table border=\"1\" class=\"dataframe\">\n",
       "  <thead>\n",
       "    <tr style=\"text-align: right;\">\n",
       "      <th></th>\n",
       "      <th>R_GDP_PerCap</th>\n",
       "      <th>R_GDP_PerCap_tm1</th>\n",
       "    </tr>\n",
       "    <tr>\n",
       "      <th>DATE</th>\n",
       "      <th></th>\n",
       "      <th></th>\n",
       "    </tr>\n",
       "  </thead>\n",
       "  <tbody>\n",
       "    <tr>\n",
       "      <th>1950-04-01</th>\n",
       "      <td>14889.0</td>\n",
       "      <td>14500.0</td>\n",
       "    </tr>\n",
       "    <tr>\n",
       "      <th>1950-07-01</th>\n",
       "      <td>15398.0</td>\n",
       "      <td>14889.0</td>\n",
       "    </tr>\n",
       "    <tr>\n",
       "      <th>1950-10-01</th>\n",
       "      <td>15623.0</td>\n",
       "      <td>15398.0</td>\n",
       "    </tr>\n",
       "    <tr>\n",
       "      <th>1951-01-01</th>\n",
       "      <td>15769.0</td>\n",
       "      <td>15623.0</td>\n",
       "    </tr>\n",
       "    <tr>\n",
       "      <th>1951-04-01</th>\n",
       "      <td>15979.0</td>\n",
       "      <td>15769.0</td>\n",
       "    </tr>\n",
       "  </tbody>\n",
       "</table>\n",
       "</div>"
      ],
      "text/plain": [
       "            R_GDP_PerCap  R_GDP_PerCap_tm1\n",
       "DATE                                      \n",
       "1950-04-01       14889.0           14500.0\n",
       "1950-07-01       15398.0           14889.0\n",
       "1950-10-01       15623.0           15398.0\n",
       "1951-01-01       15769.0           15623.0\n",
       "1951-04-01       15979.0           15769.0"
      ]
     },
     "execution_count": 213,
     "metadata": {},
     "output_type": "execute_result"
    }
   ],
   "source": [
    "start = dt.datetime(1950, 1, 1)\n",
    "end = dt.datetime(2021,10, 1)\n",
    "df = pdr.data.DataReader(['A939RX0Q048SBEA'], 'fred' , start, end)\n",
    "df.columns = ['R_GDP_PerCap']\n",
    "df['R_GDP_PerCap_tm1'] = df['R_GDP_PerCap'].shift(1)\n",
    "df = df.dropna()\n",
    "df.head()"
   ]
  },
  {
   "cell_type": "code",
   "execution_count": 190,
   "id": "8c558f33-0bcd-4e0e-9163-bb9cb8684857",
   "metadata": {},
   "outputs": [
    {
     "data": {
      "text/plain": [
       "[<matplotlib.lines.Line2D at 0x181f75e0>]"
      ]
     },
     "execution_count": 190,
     "metadata": {},
     "output_type": "execute_result"
    },
    {
     "data": {
      "image/png": "[encoded data removed]",
      "text/plain": [
       "<Figure size 864x576 with 1 Axes>"
      ]
     },
     "metadata": {
      "needs_background": "light"
     },
     "output_type": "display_data"
    }
   ],
   "source": [
    "fig, ax = plt.subplots(figsize = (12, 8))\n",
    "ax.plot(np.log(df['R_GDP_PerCap']))"
   ]
  },
  {
   "cell_type": "code",
   "execution_count": 187,
   "id": "8196acc0-c0ef-4698-965a-82eb8692b000",
   "metadata": {},
   "outputs": [
    {
     "data": {
      "text/html": [
       "<div>\n",
       "<style scoped>\n",
       "    .dataframe tbody tr th:only-of-type {\n",
       "        vertical-align: middle;\n",
       "    }\n",
       "\n",
       "    .dataframe tbody tr th {\n",
       "        vertical-align: top;\n",
       "    }\n",
       "\n",
       "    .dataframe thead th {\n",
       "        text-align: right;\n",
       "    }\n",
       "</style>\n",
       "<table border=\"1\" class=\"dataframe\">\n",
       "  <thead>\n",
       "    <tr style=\"text-align: right;\">\n",
       "      <th></th>\n",
       "      <th>R_GDP_PerCap</th>\n",
       "      <th>R_GDP_PerCap_tm1</th>\n",
       "      <th>Gr_rate</th>\n",
       "    </tr>\n",
       "    <tr>\n",
       "      <th>DATE</th>\n",
       "      <th></th>\n",
       "      <th></th>\n",
       "      <th></th>\n",
       "    </tr>\n",
       "  </thead>\n",
       "  <tbody>\n",
       "    <tr>\n",
       "      <th>1950-04-01</th>\n",
       "      <td>14889.0</td>\n",
       "      <td>14500.0</td>\n",
       "      <td>0.026828</td>\n",
       "    </tr>\n",
       "    <tr>\n",
       "      <th>1950-07-01</th>\n",
       "      <td>15398.0</td>\n",
       "      <td>14889.0</td>\n",
       "      <td>0.034186</td>\n",
       "    </tr>\n",
       "    <tr>\n",
       "      <th>1950-10-01</th>\n",
       "      <td>15623.0</td>\n",
       "      <td>15398.0</td>\n",
       "      <td>0.014612</td>\n",
       "    </tr>\n",
       "    <tr>\n",
       "      <th>1951-01-01</th>\n",
       "      <td>15769.0</td>\n",
       "      <td>15623.0</td>\n",
       "      <td>0.009345</td>\n",
       "    </tr>\n",
       "    <tr>\n",
       "      <th>1951-04-01</th>\n",
       "      <td>15979.0</td>\n",
       "      <td>15769.0</td>\n",
       "      <td>0.013317</td>\n",
       "    </tr>\n",
       "  </tbody>\n",
       "</table>\n",
       "</div>"
      ],
      "text/plain": [
       "            R_GDP_PerCap  R_GDP_PerCap_tm1   Gr_rate\n",
       "DATE                                                \n",
       "1950-04-01       14889.0           14500.0  0.026828\n",
       "1950-07-01       15398.0           14889.0  0.034186\n",
       "1950-10-01       15623.0           15398.0  0.014612\n",
       "1951-01-01       15769.0           15623.0  0.009345\n",
       "1951-04-01       15979.0           15769.0  0.013317"
      ]
     },
     "execution_count": 187,
     "metadata": {},
     "output_type": "execute_result"
    }
   ],
   "source": [
    "pd.options.mode.chained_assignment = None # without this, there will be error msg 'A value is trying to be set on a copy of a slice from a DataFrame.'\n",
    "df['Gr_rate'] = df['R_GDP_PerCap']/df['R_GDP_PerCap_tm1']\n",
    "df['Gr_rate'] = df['Gr_rate']-1\n",
    "df.head()"
   ]
  },
  {
   "cell_type": "code",
   "execution_count": 188,
   "id": "18045557-43a9-457f-b475-bce5ec1e3c2a",
   "metadata": {},
   "outputs": [
    {
     "data": {
      "text/html": [
       "<div>\n",
       "<style scoped>\n",
       "    .dataframe tbody tr th:only-of-type {\n",
       "        vertical-align: middle;\n",
       "    }\n",
       "\n",
       "    .dataframe tbody tr th {\n",
       "        vertical-align: top;\n",
       "    }\n",
       "\n",
       "    .dataframe thead th {\n",
       "        text-align: right;\n",
       "    }\n",
       "</style>\n",
       "<table border=\"1\" class=\"dataframe\">\n",
       "  <thead>\n",
       "    <tr style=\"text-align: right;\">\n",
       "      <th></th>\n",
       "      <th>R_GDP_PerCap</th>\n",
       "      <th>R_GDP_PerCap_tm1</th>\n",
       "      <th>Gr_rate</th>\n",
       "      <th>Gr_rate_log_approx</th>\n",
       "    </tr>\n",
       "    <tr>\n",
       "      <th>DATE</th>\n",
       "      <th></th>\n",
       "      <th></th>\n",
       "      <th></th>\n",
       "      <th></th>\n",
       "    </tr>\n",
       "  </thead>\n",
       "  <tbody>\n",
       "    <tr>\n",
       "      <th>1950-04-01</th>\n",
       "      <td>14889.0</td>\n",
       "      <td>14500.0</td>\n",
       "      <td>0.026828</td>\n",
       "      <td>0.026474</td>\n",
       "    </tr>\n",
       "    <tr>\n",
       "      <th>1950-07-01</th>\n",
       "      <td>15398.0</td>\n",
       "      <td>14889.0</td>\n",
       "      <td>0.034186</td>\n",
       "      <td>0.033615</td>\n",
       "    </tr>\n",
       "    <tr>\n",
       "      <th>1950-10-01</th>\n",
       "      <td>15623.0</td>\n",
       "      <td>15398.0</td>\n",
       "      <td>0.014612</td>\n",
       "      <td>0.014507</td>\n",
       "    </tr>\n",
       "    <tr>\n",
       "      <th>1951-01-01</th>\n",
       "      <td>15769.0</td>\n",
       "      <td>15623.0</td>\n",
       "      <td>0.009345</td>\n",
       "      <td>0.009302</td>\n",
       "    </tr>\n",
       "    <tr>\n",
       "      <th>1951-04-01</th>\n",
       "      <td>15979.0</td>\n",
       "      <td>15769.0</td>\n",
       "      <td>0.013317</td>\n",
       "      <td>0.013229</td>\n",
       "    </tr>\n",
       "  </tbody>\n",
       "</table>\n",
       "</div>"
      ],
      "text/plain": [
       "            R_GDP_PerCap  R_GDP_PerCap_tm1   Gr_rate  Gr_rate_log_approx\n",
       "DATE                                                                    \n",
       "1950-04-01       14889.0           14500.0  0.026828            0.026474\n",
       "1950-07-01       15398.0           14889.0  0.034186            0.033615\n",
       "1950-10-01       15623.0           15398.0  0.014612            0.014507\n",
       "1951-01-01       15769.0           15623.0  0.009345            0.009302\n",
       "1951-04-01       15979.0           15769.0  0.013317            0.013229"
      ]
     },
     "execution_count": 188,
     "metadata": {},
     "output_type": "execute_result"
    }
   ],
   "source": [
    "df['Gr_rate_log_approx'] = np.log(df['R_GDP_PerCap']) - np.log(df['R_GDP_PerCap_tm1'])\n",
    "df.head()"
   ]
  },
  {
   "cell_type": "markdown",
   "id": "b2e73d47-562a-42c7-be19-eec79867d405",
   "metadata": {},
   "source": [
    "This charts shows the difference between division growth rate $g_t = \\frac{y_t}{y_{t-1}}-1$ and log difference growth rate $g_t\\approx \\ln{y_t}-\\ln{y_{t-1}} $"
   ]
  },
  {
   "cell_type": "code",
   "execution_count": 195,
   "id": "a5c73206-be84-4a65-8f02-a96da3af0500",
   "metadata": {},
   "outputs": [
    {
     "data": {
      "image/png": "[encoded data removed]",
      "text/plain": [
       "<Figure size 864x864 with 2 Axes>"
      ]
     },
     "metadata": {
      "needs_background": "light"
     },
     "output_type": "display_data"
    }
   ],
   "source": [
    "fig, ax = plt.subplots(nrows = 2, ncols = 1, figsize = (12, 12))\n",
    "ax[0].plot(df['Gr_rate'])\n",
    "ax[0].grid()\n",
    "ax[0].set_title('US GDP per Capita Growth Rate By Division Approach')\n",
    "ax[1].plot(df['Gr_rate']- df['Gr_rate_log_approx'])\n",
    "ax[1].grid()\n",
    "ax[1].set_title('Difference Between Division And Natural Log Approach')\n",
    "plt.show()"
   ]
  },
  {
   "cell_type": "code",
   "execution_count": 201,
   "id": "4377c32a-04a6-4dbd-938a-c8285782ff89",
   "metadata": {},
   "outputs": [
    {
     "data": {
      "text/plain": [
       "0.07393814275337385"
      ]
     },
     "execution_count": 201,
     "metadata": {},
     "output_type": "execute_result"
    }
   ],
   "source": [
    "max(df['Gr_rate'])"
   ]
  },
  {
   "cell_type": "code",
   "execution_count": 200,
   "id": "1124f7cf-9f3d-4b90-b2a6-47b5b08ef417",
   "metadata": {},
   "outputs": [
    {
     "data": {
      "text/plain": [
       "0.0713323992263053"
      ]
     },
     "execution_count": 200,
     "metadata": {},
     "output_type": "execute_result"
    }
   ],
   "source": [
    "max(df['Gr_rate_log_approx'])"
   ]
  },
  {
   "cell_type": "markdown",
   "id": "572649fa-4293-4860-a494-41feb7c6a7b7",
   "metadata": {},
   "source": [
    "As you can see from log difference growth rate will consistently underestimate the growth rate, however the differences are negligible, mostly difference are under $5$ basis points, especially post 1980s period, the log difference grow rate approximate real growth rate considerably well. The only exception is the rebound during Covid pandemic, more than $40$ basis points ($0.04\\%$)."
   ]
  },
  {
   "cell_type": "markdown",
   "id": "6426290d-ac4a-425c-92ab-b7bce64873aa",
   "metadata": {},
   "source": [
    "## <font face=\"gotham\" color=\"purple\"> How Reliable Is The Natural Log Transformation?</font>"
   ]
  },
  {
   "cell_type": "markdown",
   "id": "a4852c87-6460-4c7f-b980-c4fe85d09c90",
   "metadata": {},
   "source": [
    "We create a series from $0$ to $.8$ with step of $.01$, which means the growth rate ranging from $0\\%$ to $80\n",
    "\\%$ with step of $1\\%$. The first plot is the comparison of division and natural log approach, as they increase the discrepancy grow bigger too, the second plot is the difference of two approaches, if the growth rate is less than $20\\%$, the error of natural log approach is acceptable."
   ]
  },
  {
   "cell_type": "code",
   "execution_count": 192,
   "id": "17f36a87-a13e-4db3-ad17-ee8d5d05075d",
   "metadata": {},
   "outputs": [
    {
     "data": {
      "image/png": "[encoded data removed]",
      "text/plain": [
       "<Figure size 1152x576 with 2 Axes>"
      ]
     },
     "metadata": {
      "needs_background": "light"
     },
     "output_type": "display_data"
    }
   ],
   "source": [
    "g = np.arange(0, .8, .01)\n",
    "log_g = np.log(1+g)\n",
    "\n",
    "fig, ax = plt.subplots(nrows = 1, ncols = 2, figsize = (16, 8))\n",
    "ax[0].plot(g, g, label = 'Division Approach')\n",
    "ax[0].plot(g, log_g, label = 'Natural Log Approach')\n",
    "ax[0].set_xlabel('Real Growth Rate')\n",
    "ax[0].set_ylabel('Approximated Growth Rate')\n",
    "ax[0].grid()\n",
    "ax[0].legend()\n",
    "\n",
    "ax[1].plot(g, g - log_g, ls = '--', lw = 3, label = 'Difference Between Two Approaches')\n",
    "ax[1].grid()\n",
    "ax[1].legend()\n",
    "plt.show()"
   ]
  },
  {
   "cell_type": "markdown",
   "id": "4cff2e11-2e7d-4d6b-a7aa-9f1ab3ba83db",
   "metadata": {},
   "source": [
    "## <font face=\"gotham\" color=\"purple\"> How To Calculate YoY growth rate? </font>"
   ]
  },
  {
   "cell_type": "markdown",
   "id": "3f50e2e6-06f7-4e27-835d-b25f822eecb8",
   "metadata": {},
   "source": [
    "What we have seen above is **Quarter on Quarter** (QoQ) growth rate, another common way of measuring growth is **Year over Year**. \n",
    "\n",
    "If you still using quarterly data, it's simply \n",
    "$$\n",
    "g_{YoY, 2021}=\\frac{y_{3Q2021}}{y_{3Q2020}}-1\n",
    "$$\n",
    "where $y_{3Q2021}$ is the observation on the $3$rd quarter of $2021$, similarly $y_{3Q2020}$ is from the $3$rd quarter of $2020$."
   ]
  },
  {
   "cell_type": "code",
   "execution_count": 207,
   "id": "7b19058c-ac91-46d0-b099-be9014b71ff8",
   "metadata": {},
   "outputs": [
    {
     "data": {
      "text/html": [
       "<div>\n",
       "<style scoped>\n",
       "    .dataframe tbody tr th:only-of-type {\n",
       "        vertical-align: middle;\n",
       "    }\n",
       "\n",
       "    .dataframe tbody tr th {\n",
       "        vertical-align: top;\n",
       "    }\n",
       "\n",
       "    .dataframe thead th {\n",
       "        text-align: right;\n",
       "    }\n",
       "</style>\n",
       "<table border=\"1\" class=\"dataframe\">\n",
       "  <thead>\n",
       "    <tr style=\"text-align: right;\">\n",
       "      <th></th>\n",
       "      <th>R_GDP_PerCap</th>\n",
       "      <th>R_GDP_PerCap_tm1</th>\n",
       "      <th>Gr_rate</th>\n",
       "      <th>Gr_rate_log_approx</th>\n",
       "      <th>R_GDP_PerCap_tm4</th>\n",
       "    </tr>\n",
       "    <tr>\n",
       "      <th>DATE</th>\n",
       "      <th></th>\n",
       "      <th></th>\n",
       "      <th></th>\n",
       "      <th></th>\n",
       "      <th></th>\n",
       "    </tr>\n",
       "  </thead>\n",
       "  <tbody>\n",
       "    <tr>\n",
       "      <th>1951-04-01</th>\n",
       "      <td>15979.0</td>\n",
       "      <td>15769.0</td>\n",
       "      <td>0.013317</td>\n",
       "      <td>0.013229</td>\n",
       "      <td>14889.0</td>\n",
       "    </tr>\n",
       "    <tr>\n",
       "      <th>1951-07-01</th>\n",
       "      <td>16234.0</td>\n",
       "      <td>15979.0</td>\n",
       "      <td>0.015958</td>\n",
       "      <td>0.015832</td>\n",
       "      <td>15398.0</td>\n",
       "    </tr>\n",
       "    <tr>\n",
       "      <th>1951-10-01</th>\n",
       "      <td>16192.0</td>\n",
       "      <td>16234.0</td>\n",
       "      <td>-0.002587</td>\n",
       "      <td>-0.002591</td>\n",
       "      <td>15623.0</td>\n",
       "    </tr>\n",
       "    <tr>\n",
       "      <th>1952-01-01</th>\n",
       "      <td>16299.0</td>\n",
       "      <td>16192.0</td>\n",
       "      <td>0.006608</td>\n",
       "      <td>0.006586</td>\n",
       "      <td>15769.0</td>\n",
       "    </tr>\n",
       "    <tr>\n",
       "      <th>1952-04-01</th>\n",
       "      <td>16271.0</td>\n",
       "      <td>16299.0</td>\n",
       "      <td>-0.001718</td>\n",
       "      <td>-0.001719</td>\n",
       "      <td>15979.0</td>\n",
       "    </tr>\n",
       "    <tr>\n",
       "      <th>...</th>\n",
       "      <td>...</td>\n",
       "      <td>...</td>\n",
       "      <td>...</td>\n",
       "      <td>...</td>\n",
       "      <td>...</td>\n",
       "    </tr>\n",
       "    <tr>\n",
       "      <th>2020-07-01</th>\n",
       "      <td>56182.0</td>\n",
       "      <td>52314.0</td>\n",
       "      <td>0.073938</td>\n",
       "      <td>0.071332</td>\n",
       "      <td>58141.0</td>\n",
       "    </tr>\n",
       "    <tr>\n",
       "      <th>2020-10-01</th>\n",
       "      <td>56732.0</td>\n",
       "      <td>56182.0</td>\n",
       "      <td>0.009790</td>\n",
       "      <td>0.009742</td>\n",
       "      <td>58333.0</td>\n",
       "    </tr>\n",
       "    <tr>\n",
       "      <th>2021-01-01</th>\n",
       "      <td>57568.0</td>\n",
       "      <td>56732.0</td>\n",
       "      <td>0.014736</td>\n",
       "      <td>0.014628</td>\n",
       "      <td>57512.0</td>\n",
       "    </tr>\n",
       "    <tr>\n",
       "      <th>2021-04-01</th>\n",
       "      <td>58478.0</td>\n",
       "      <td>57568.0</td>\n",
       "      <td>0.015807</td>\n",
       "      <td>0.015684</td>\n",
       "      <td>52314.0</td>\n",
       "    </tr>\n",
       "    <tr>\n",
       "      <th>2021-07-01</th>\n",
       "      <td>58717.0</td>\n",
       "      <td>58478.0</td>\n",
       "      <td>0.004087</td>\n",
       "      <td>0.004079</td>\n",
       "      <td>56182.0</td>\n",
       "    </tr>\n",
       "  </tbody>\n",
       "</table>\n",
       "<p>282 rows × 5 columns</p>\n",
       "</div>"
      ],
      "text/plain": [
       "            R_GDP_PerCap  R_GDP_PerCap_tm1   Gr_rate  Gr_rate_log_approx  \\\n",
       "DATE                                                                       \n",
       "1951-04-01       15979.0           15769.0  0.013317            0.013229   \n",
       "1951-07-01       16234.0           15979.0  0.015958            0.015832   \n",
       "1951-10-01       16192.0           16234.0 -0.002587           -0.002591   \n",
       "1952-01-01       16299.0           16192.0  0.006608            0.006586   \n",
       "1952-04-01       16271.0           16299.0 -0.001718           -0.001719   \n",
       "...                  ...               ...       ...                 ...   \n",
       "2020-07-01       56182.0           52314.0  0.073938            0.071332   \n",
       "2020-10-01       56732.0           56182.0  0.009790            0.009742   \n",
       "2021-01-01       57568.0           56732.0  0.014736            0.014628   \n",
       "2021-04-01       58478.0           57568.0  0.015807            0.015684   \n",
       "2021-07-01       58717.0           58478.0  0.004087            0.004079   \n",
       "\n",
       "            R_GDP_PerCap_tm4  \n",
       "DATE                          \n",
       "1951-04-01           14889.0  \n",
       "1951-07-01           15398.0  \n",
       "1951-10-01           15623.0  \n",
       "1952-01-01           15769.0  \n",
       "1952-04-01           15979.0  \n",
       "...                      ...  \n",
       "2020-07-01           58141.0  \n",
       "2020-10-01           58333.0  \n",
       "2021-01-01           57512.0  \n",
       "2021-04-01           52314.0  \n",
       "2021-07-01           56182.0  \n",
       "\n",
       "[282 rows x 5 columns]"
      ]
     },
     "execution_count": 207,
     "metadata": {},
     "output_type": "execute_result"
    }
   ],
   "source": [
    "df['R_GDP_PerCap_tm4'] = df['R_GDP_PerCap'].shift(4)\n",
    "df = df.dropna()\n",
    "df"
   ]
  },
  {
   "cell_type": "code",
   "execution_count": 208,
   "id": "4a3208a8-11f6-4bea-b49c-3c1ac20c9f31",
   "metadata": {
    "tags": []
   },
   "outputs": [
    {
     "data": {
      "text/html": [
       "<div>\n",
       "<style scoped>\n",
       "    .dataframe tbody tr th:only-of-type {\n",
       "        vertical-align: middle;\n",
       "    }\n",
       "\n",
       "    .dataframe tbody tr th {\n",
       "        vertical-align: top;\n",
       "    }\n",
       "\n",
       "    .dataframe thead th {\n",
       "        text-align: right;\n",
       "    }\n",
       "</style>\n",
       "<table border=\"1\" class=\"dataframe\">\n",
       "  <thead>\n",
       "    <tr style=\"text-align: right;\">\n",
       "      <th></th>\n",
       "      <th>R_GDP_PerCap</th>\n",
       "      <th>R_GDP_PerCap_tm1</th>\n",
       "      <th>Gr_rate</th>\n",
       "      <th>Gr_rate_log_approx</th>\n",
       "      <th>R_GDP_PerCap_tm4</th>\n",
       "      <th>Gr_rate_log_approx_YoY</th>\n",
       "    </tr>\n",
       "    <tr>\n",
       "      <th>DATE</th>\n",
       "      <th></th>\n",
       "      <th></th>\n",
       "      <th></th>\n",
       "      <th></th>\n",
       "      <th></th>\n",
       "      <th></th>\n",
       "    </tr>\n",
       "  </thead>\n",
       "  <tbody>\n",
       "    <tr>\n",
       "      <th>1951-04-01</th>\n",
       "      <td>15979.0</td>\n",
       "      <td>15769.0</td>\n",
       "      <td>0.013317</td>\n",
       "      <td>0.013229</td>\n",
       "      <td>14889.0</td>\n",
       "      <td>0.070653</td>\n",
       "    </tr>\n",
       "    <tr>\n",
       "      <th>1951-07-01</th>\n",
       "      <td>16234.0</td>\n",
       "      <td>15979.0</td>\n",
       "      <td>0.015958</td>\n",
       "      <td>0.015832</td>\n",
       "      <td>15398.0</td>\n",
       "      <td>0.052870</td>\n",
       "    </tr>\n",
       "    <tr>\n",
       "      <th>1951-10-01</th>\n",
       "      <td>16192.0</td>\n",
       "      <td>16234.0</td>\n",
       "      <td>-0.002587</td>\n",
       "      <td>-0.002591</td>\n",
       "      <td>15623.0</td>\n",
       "      <td>0.035773</td>\n",
       "    </tr>\n",
       "    <tr>\n",
       "      <th>1952-01-01</th>\n",
       "      <td>16299.0</td>\n",
       "      <td>16192.0</td>\n",
       "      <td>0.006608</td>\n",
       "      <td>0.006586</td>\n",
       "      <td>15769.0</td>\n",
       "      <td>0.033058</td>\n",
       "    </tr>\n",
       "    <tr>\n",
       "      <th>1952-04-01</th>\n",
       "      <td>16271.0</td>\n",
       "      <td>16299.0</td>\n",
       "      <td>-0.001718</td>\n",
       "      <td>-0.001719</td>\n",
       "      <td>15979.0</td>\n",
       "      <td>0.018109</td>\n",
       "    </tr>\n",
       "  </tbody>\n",
       "</table>\n",
       "</div>"
      ],
      "text/plain": [
       "            R_GDP_PerCap  R_GDP_PerCap_tm1   Gr_rate  Gr_rate_log_approx  \\\n",
       "DATE                                                                       \n",
       "1951-04-01       15979.0           15769.0  0.013317            0.013229   \n",
       "1951-07-01       16234.0           15979.0  0.015958            0.015832   \n",
       "1951-10-01       16192.0           16234.0 -0.002587           -0.002591   \n",
       "1952-01-01       16299.0           16192.0  0.006608            0.006586   \n",
       "1952-04-01       16271.0           16299.0 -0.001718           -0.001719   \n",
       "\n",
       "            R_GDP_PerCap_tm4  Gr_rate_log_approx_YoY  \n",
       "DATE                                                  \n",
       "1951-04-01           14889.0                0.070653  \n",
       "1951-07-01           15398.0                0.052870  \n",
       "1951-10-01           15623.0                0.035773  \n",
       "1952-01-01           15769.0                0.033058  \n",
       "1952-04-01           15979.0                0.018109  "
      ]
     },
     "execution_count": 208,
     "metadata": {},
     "output_type": "execute_result"
    }
   ],
   "source": [
    "df['Gr_rate_log_approx_YoY'] = np.log(df['R_GDP_PerCap']) - np.log(df['R_GDP_PerCap_tm4'])\n",
    "df.head()"
   ]
  },
  {
   "cell_type": "code",
   "execution_count": 212,
   "id": "f336b347-590f-4c13-95bd-1ee5ceb99726",
   "metadata": {},
   "outputs": [
    {
     "data": {
      "image/png": "[encoded data removed]",
      "text/plain": [
       "<Figure size 864x432 with 1 Axes>"
      ]
     },
     "metadata": {
      "needs_background": "light"
     },
     "output_type": "display_data"
    }
   ],
   "source": [
    "fig, ax = plt.subplots(figsize = (12, 6))\n",
    "ax.plot(df['Gr_rate_log_approx_YoY'])\n",
    "ax.grid()\n",
    "ax.set_title('US GDP per Capita YoY Growth Rate By Division Approach')\n",
    "plt.show()"
   ]
  },
  {
   "cell_type": "markdown",
   "id": "4f0fba7f-a26c-45a1-8733-29ccfe4759ea",
   "metadata": {},
   "source": [
    "## <font face=\"gotham\" color=\"purple\"> How to Resample Time Series? </font>"
   ]
  },
  {
   "cell_type": "markdown",
   "id": "cdba84e2-3dec-45c8-90e9-d0666c33ac61",
   "metadata": {},
   "source": [
    "By **resampling**, we can **upsample** the series, i.e. convert to higher frequency series, or we can **downsample** the series, i.e. convert to lower frequency series.\n",
    "\n",
    "For example, you have one series of lower frequency, say annually, but the rest of series are quarterly, in order to incorporate this annual series into the whole dataset, we have to upsample it to quarterly data."
   ]
  },
  {
   "cell_type": "markdown",
   "id": "2b64128d-6ca1-4b4a-bdc4-ca88eb17f7b6",
   "metadata": {},
   "source": [
    "Now we import nominal annual GDP per capita."
   ]
  },
  {
   "cell_type": "code",
   "execution_count": 215,
   "id": "d75a2d7c-1a75-4143-bdec-a718685fe010",
   "metadata": {},
   "outputs": [
    {
     "data": {
      "text/html": [
       "<div>\n",
       "<style scoped>\n",
       "    .dataframe tbody tr th:only-of-type {\n",
       "        vertical-align: middle;\n",
       "    }\n",
       "\n",
       "    .dataframe tbody tr th {\n",
       "        vertical-align: top;\n",
       "    }\n",
       "\n",
       "    .dataframe thead th {\n",
       "        text-align: right;\n",
       "    }\n",
       "</style>\n",
       "<table border=\"1\" class=\"dataframe\">\n",
       "  <thead>\n",
       "    <tr style=\"text-align: right;\">\n",
       "      <th></th>\n",
       "      <th>Nom_GDP_PerCap_Annual</th>\n",
       "    </tr>\n",
       "    <tr>\n",
       "      <th>DATE</th>\n",
       "      <th></th>\n",
       "    </tr>\n",
       "  </thead>\n",
       "  <tbody>\n",
       "    <tr>\n",
       "      <th>1950-01-01</th>\n",
       "      <td>1977.0</td>\n",
       "    </tr>\n",
       "    <tr>\n",
       "      <th>1951-01-01</th>\n",
       "      <td>2248.0</td>\n",
       "    </tr>\n",
       "    <tr>\n",
       "      <th>1952-01-01</th>\n",
       "      <td>2340.0</td>\n",
       "    </tr>\n",
       "    <tr>\n",
       "      <th>1953-01-01</th>\n",
       "      <td>2439.0</td>\n",
       "    </tr>\n",
       "    <tr>\n",
       "      <th>1954-01-01</th>\n",
       "      <td>2405.0</td>\n",
       "    </tr>\n",
       "  </tbody>\n",
       "</table>\n",
       "</div>"
      ],
      "text/plain": [
       "            Nom_GDP_PerCap_Annual\n",
       "DATE                             \n",
       "1950-01-01                 1977.0\n",
       "1951-01-01                 2248.0\n",
       "1952-01-01                 2340.0\n",
       "1953-01-01                 2439.0\n",
       "1954-01-01                 2405.0"
      ]
     },
     "execution_count": 215,
     "metadata": {},
     "output_type": "execute_result"
    }
   ],
   "source": [
    "start = dt.datetime(1950, 1, 1)\n",
    "end = dt.datetime(2021,10, 1)\n",
    "df = pdr.data.DataReader(['A939RC0A052NBEA'], 'fred' , start, end)\n",
    "df.columns = ['Nom_GDP_PerCap_Annual']\n",
    "df = df.dropna()\n",
    "df.head()"
   ]
  },
  {
   "cell_type": "code",
   "execution_count": 227,
   "id": "68ecd4c0-97e4-4b3a-8b4a-83f45f821d5d",
   "metadata": {
    "tags": []
   },
   "outputs": [
    {
     "data": {
      "text/html": [
       "<div>\n",
       "<style scoped>\n",
       "    .dataframe tbody tr th:only-of-type {\n",
       "        vertical-align: middle;\n",
       "    }\n",
       "\n",
       "    .dataframe tbody tr th {\n",
       "        vertical-align: top;\n",
       "    }\n",
       "\n",
       "    .dataframe thead th {\n",
       "        text-align: right;\n",
       "    }\n",
       "</style>\n",
       "<table border=\"1\" class=\"dataframe\">\n",
       "  <thead>\n",
       "    <tr style=\"text-align: right;\">\n",
       "      <th></th>\n",
       "      <th>Nom_GDP_PerCap_Annual</th>\n",
       "    </tr>\n",
       "    <tr>\n",
       "      <th>DATE</th>\n",
       "      <th></th>\n",
       "    </tr>\n",
       "  </thead>\n",
       "  <tbody>\n",
       "    <tr>\n",
       "      <th>1950-01-01</th>\n",
       "      <td>1977.0</td>\n",
       "    </tr>\n",
       "    <tr>\n",
       "      <th>1950-04-01</th>\n",
       "      <td>bfill</td>\n",
       "    </tr>\n",
       "    <tr>\n",
       "      <th>1950-07-01</th>\n",
       "      <td>bfill</td>\n",
       "    </tr>\n",
       "    <tr>\n",
       "      <th>1950-10-01</th>\n",
       "      <td>bfill</td>\n",
       "    </tr>\n",
       "    <tr>\n",
       "      <th>1951-01-01</th>\n",
       "      <td>2248.0</td>\n",
       "    </tr>\n",
       "    <tr>\n",
       "      <th>...</th>\n",
       "      <td>...</td>\n",
       "    </tr>\n",
       "    <tr>\n",
       "      <th>2019-01-01</th>\n",
       "      <td>65056.0</td>\n",
       "    </tr>\n",
       "    <tr>\n",
       "      <th>2019-04-01</th>\n",
       "      <td>bfill</td>\n",
       "    </tr>\n",
       "    <tr>\n",
       "      <th>2019-07-01</th>\n",
       "      <td>bfill</td>\n",
       "    </tr>\n",
       "    <tr>\n",
       "      <th>2019-10-01</th>\n",
       "      <td>bfill</td>\n",
       "    </tr>\n",
       "    <tr>\n",
       "      <th>2020-01-01</th>\n",
       "      <td>63285.0</td>\n",
       "    </tr>\n",
       "  </tbody>\n",
       "</table>\n",
       "<p>281 rows × 1 columns</p>\n",
       "</div>"
      ],
      "text/plain": [
       "           Nom_GDP_PerCap_Annual\n",
       "DATE                            \n",
       "1950-01-01                1977.0\n",
       "1950-04-01                 bfill\n",
       "1950-07-01                 bfill\n",
       "1950-10-01                 bfill\n",
       "1951-01-01                2248.0\n",
       "...                          ...\n",
       "2019-01-01               65056.0\n",
       "2019-04-01                 bfill\n",
       "2019-07-01                 bfill\n",
       "2019-10-01                 bfill\n",
       "2020-01-01               63285.0\n",
       "\n",
       "[281 rows x 1 columns]"
      ]
     },
     "execution_count": 227,
     "metadata": {},
     "output_type": "execute_result"
    }
   ],
   "source": [
    "df.resample('QS').mean().fillna('bfill') # QS mean quarter start freq"
   ]
  },
  {
   "cell_type": "code",
   "execution_count": 222,
   "id": "e3ef18d4-2407-4545-8315-9b365d87f989",
   "metadata": {},
   "outputs": [
    {
     "data": {
      "text/plain": [
       "\u001b[1;31mSignature:\u001b[0m\n",
       "\u001b[0mdf\u001b[0m\u001b[1;33m.\u001b[0m\u001b[0mresample\u001b[0m\u001b[1;33m(\u001b[0m\u001b[1;33m\n",
       "\u001b[0m    \u001b[0mrule\u001b[0m\u001b[1;33m,\u001b[0m\u001b[1;33m\n",
       "\u001b[0m    \u001b[0maxis\u001b[0m\u001b[1;33m=\u001b[0m\u001b[1;36m0\u001b[0m\u001b[1;33m,\u001b[0m\u001b[1;33m\n",
       "\u001b[0m    \u001b[0mclosed\u001b[0m\u001b[1;33m:\u001b[0m \u001b[1;34m'Optional[str]'\u001b[0m \u001b[1;33m=\u001b[0m \u001b[1;32mNone\u001b[0m\u001b[1;33m,\u001b[0m\u001b[1;33m\n",
       "\u001b[0m    \u001b[0mlabel\u001b[0m\u001b[1;33m:\u001b[0m \u001b[1;34m'Optional[str]'\u001b[0m \u001b[1;33m=\u001b[0m \u001b[1;32mNone\u001b[0m\u001b[1;33m,\u001b[0m\u001b[1;33m\n",
       "\u001b[0m    \u001b[0mconvention\u001b[0m\u001b[1;33m:\u001b[0m \u001b[1;34m'str'\u001b[0m \u001b[1;33m=\u001b[0m \u001b[1;34m'start'\u001b[0m\u001b[1;33m,\u001b[0m\u001b[1;33m\n",
       "\u001b[0m    \u001b[0mkind\u001b[0m\u001b[1;33m:\u001b[0m \u001b[1;34m'Optional[str]'\u001b[0m \u001b[1;33m=\u001b[0m \u001b[1;32mNone\u001b[0m\u001b[1;33m,\u001b[0m\u001b[1;33m\n",
       "\u001b[0m    \u001b[0mloffset\u001b[0m\u001b[1;33m=\u001b[0m\u001b[1;32mNone\u001b[0m\u001b[1;33m,\u001b[0m\u001b[1;33m\n",
       "\u001b[0m    \u001b[0mbase\u001b[0m\u001b[1;33m:\u001b[0m \u001b[1;34m'Optional[int]'\u001b[0m \u001b[1;33m=\u001b[0m \u001b[1;32mNone\u001b[0m\u001b[1;33m,\u001b[0m\u001b[1;33m\n",
       "\u001b[0m    \u001b[0mon\u001b[0m\u001b[1;33m=\u001b[0m\u001b[1;32mNone\u001b[0m\u001b[1;33m,\u001b[0m\u001b[1;33m\n",
       "\u001b[0m    \u001b[0mlevel\u001b[0m\u001b[1;33m=\u001b[0m\u001b[1;32mNone\u001b[0m\u001b[1;33m,\u001b[0m\u001b[1;33m\n",
       "\u001b[0m    \u001b[0morigin\u001b[0m\u001b[1;33m:\u001b[0m \u001b[1;34m'Union[str, TimestampConvertibleTypes]'\u001b[0m \u001b[1;33m=\u001b[0m \u001b[1;34m'start_day'\u001b[0m\u001b[1;33m,\u001b[0m\u001b[1;33m\n",
       "\u001b[0m    \u001b[0moffset\u001b[0m\u001b[1;33m:\u001b[0m \u001b[1;34m'Optional[TimedeltaConvertibleTypes]'\u001b[0m \u001b[1;33m=\u001b[0m \u001b[1;32mNone\u001b[0m\u001b[1;33m,\u001b[0m\u001b[1;33m\n",
       "\u001b[0m\u001b[1;33m)\u001b[0m \u001b[1;33m->\u001b[0m \u001b[1;34m'Resampler'\u001b[0m\u001b[1;33m\u001b[0m\u001b[1;33m\u001b[0m\u001b[0m\n",
       "\u001b[1;31mDocstring:\u001b[0m\n",
       "Resample time-series data.\n",
       "\n",
       "Convenience method for frequency conversion and resampling of time\n",
       "series. Object must have a datetime-like index (`DatetimeIndex`,\n",
       "`PeriodIndex`, or `TimedeltaIndex`), or pass datetime-like values\n",
       "to the `on` or `level` keyword.\n",
       "\n",
       "Parameters\n",
       "----------\n",
       "rule : DateOffset, Timedelta or str\n",
       "    The offset string or object representing target conversion.\n",
       "axis : {0 or 'index', 1 or 'columns'}, default 0\n",
       "    Which axis to use for up- or down-sampling. For `Series` this\n",
       "    will default to 0, i.e. along the rows. Must be\n",
       "    `DatetimeIndex`, `TimedeltaIndex` or `PeriodIndex`.\n",
       "closed : {'right', 'left'}, default None\n",
       "    Which side of bin interval is closed. The default is 'left'\n",
       "    for all frequency offsets except for 'M', 'A', 'Q', 'BM',\n",
       "    'BA', 'BQ', and 'W' which all have a default of 'right'.\n",
       "label : {'right', 'left'}, default None\n",
       "    Which bin edge label to label bucket with. The default is 'left'\n",
       "    for all frequency offsets except for 'M', 'A', 'Q', 'BM',\n",
       "    'BA', 'BQ', and 'W' which all have a default of 'right'.\n",
       "convention : {'start', 'end', 's', 'e'}, default 'start'\n",
       "    For `PeriodIndex` only, controls whether to use the start or\n",
       "    end of `rule`.\n",
       "kind : {'timestamp', 'period'}, optional, default None\n",
       "    Pass 'timestamp' to convert the resulting index to a\n",
       "    `DateTimeIndex` or 'period' to convert it to a `PeriodIndex`.\n",
       "    By default the input representation is retained.\n",
       "loffset : timedelta, default None\n",
       "    Adjust the resampled time labels.\n",
       "\n",
       "    .. deprecated:: 1.1.0\n",
       "        You should add the loffset to the `df.index` after the resample.\n",
       "        See below.\n",
       "\n",
       "base : int, default 0\n",
       "    For frequencies that evenly subdivide 1 day, the \"origin\" of the\n",
       "    aggregated intervals. For example, for '5min' frequency, base could\n",
       "    range from 0 through 4. Defaults to 0.\n",
       "\n",
       "    .. deprecated:: 1.1.0\n",
       "        The new arguments that you should use are 'offset' or 'origin'.\n",
       "\n",
       "on : str, optional\n",
       "    For a DataFrame, column to use instead of index for resampling.\n",
       "    Column must be datetime-like.\n",
       "level : str or int, optional\n",
       "    For a MultiIndex, level (name or number) to use for\n",
       "    resampling. `level` must be datetime-like.\n",
       "origin : {'epoch', 'start', 'start_day'}, Timestamp or str, default 'start_day'\n",
       "    The timestamp on which to adjust the grouping. The timezone of origin\n",
       "    must match the timezone of the index.\n",
       "    If a timestamp is not used, these values are also supported:\n",
       "\n",
       "    - 'epoch': `origin` is 1970-01-01\n",
       "    - 'start': `origin` is the first value of the timeseries\n",
       "    - 'start_day': `origin` is the first day at midnight of the timeseries\n",
       "\n",
       "    .. versionadded:: 1.1.0\n",
       "\n",
       "offset : Timedelta or str, default is None\n",
       "    An offset timedelta added to the origin.\n",
       "\n",
       "    .. versionadded:: 1.1.0\n",
       "\n",
       "Returns\n",
       "-------\n",
       "Resampler object\n",
       "\n",
       "See Also\n",
       "--------\n",
       "groupby : Group by mapping, function, label, or list of labels.\n",
       "Series.resample : Resample a Series.\n",
       "DataFrame.resample: Resample a DataFrame.\n",
       "\n",
       "Notes\n",
       "-----\n",
       "See the `user guide\n",
       "<https://pandas.pydata.org/pandas-docs/stable/user_guide/timeseries.html#resampling>`_\n",
       "for more.\n",
       "\n",
       "To learn more about the offset strings, please see `this link\n",
       "<https://pandas.pydata.org/pandas-docs/stable/user_guide/timeseries.html#dateoffset-objects>`__.\n",
       "\n",
       "Examples\n",
       "--------\n",
       "Start by creating a series with 9 one minute timestamps.\n",
       "\n",
       ">>> index = pd.date_range('1/1/2000', periods=9, freq='T')\n",
       ">>> series = pd.Series(range(9), index=index)\n",
       ">>> series\n",
       "2000-01-01 00:00:00    0\n",
       "2000-01-01 00:01:00    1\n",
       "2000-01-01 00:02:00    2\n",
       "2000-01-01 00:03:00    3\n",
       "2000-01-01 00:04:00    4\n",
       "2000-01-01 00:05:00    5\n",
       "2000-01-01 00:06:00    6\n",
       "2000-01-01 00:07:00    7\n",
       "2000-01-01 00:08:00    8\n",
       "Freq: T, dtype: int64\n",
       "\n",
       "Downsample the series into 3 minute bins and sum the values\n",
       "of the timestamps falling into a bin.\n",
       "\n",
       ">>> series.resample('3T').sum()\n",
       "2000-01-01 00:00:00     3\n",
       "2000-01-01 00:03:00    12\n",
       "2000-01-01 00:06:00    21\n",
       "Freq: 3T, dtype: int64\n",
       "\n",
       "Downsample the series into 3 minute bins as above, but label each\n",
       "bin using the right edge instead of the left. Please note that the\n",
       "value in the bucket used as the label is not included in the bucket,\n",
       "which it labels. For example, in the original series the\n",
       "bucket ``2000-01-01 00:03:00`` contains the value 3, but the summed\n",
       "value in the resampled bucket with the label ``2000-01-01 00:03:00``\n",
       "does not include 3 (if it did, the summed value would be 6, not 3).\n",
       "To include this value close the right side of the bin interval as\n",
       "illustrated in the example below this one.\n",
       "\n",
       ">>> series.resample('3T', label='right').sum()\n",
       "2000-01-01 00:03:00     3\n",
       "2000-01-01 00:06:00    12\n",
       "2000-01-01 00:09:00    21\n",
       "Freq: 3T, dtype: int64\n",
       "\n",
       "Downsample the series into 3 minute bins as above, but close the right\n",
       "side of the bin interval.\n",
       "\n",
       ">>> series.resample('3T', label='right', closed='right').sum()\n",
       "2000-01-01 00:00:00     0\n",
       "2000-01-01 00:03:00     6\n",
       "2000-01-01 00:06:00    15\n",
       "2000-01-01 00:09:00    15\n",
       "Freq: 3T, dtype: int64\n",
       "\n",
       "Upsample the series into 30 second bins.\n",
       "\n",
       ">>> series.resample('30S').asfreq()[0:5]   # Select first 5 rows\n",
       "2000-01-01 00:00:00   0.0\n",
       "2000-01-01 00:00:30   NaN\n",
       "2000-01-01 00:01:00   1.0\n",
       "2000-01-01 00:01:30   NaN\n",
       "2000-01-01 00:02:00   2.0\n",
       "Freq: 30S, dtype: float64\n",
       "\n",
       "Upsample the series into 30 second bins and fill the ``NaN``\n",
       "values using the ``pad`` method.\n",
       "\n",
       ">>> series.resample('30S').pad()[0:5]\n",
       "2000-01-01 00:00:00    0\n",
       "2000-01-01 00:00:30    0\n",
       "2000-01-01 00:01:00    1\n",
       "2000-01-01 00:01:30    1\n",
       "2000-01-01 00:02:00    2\n",
       "Freq: 30S, dtype: int64\n",
       "\n",
       "Upsample the series into 30 second bins and fill the\n",
       "``NaN`` values using the ``bfill`` method.\n",
       "\n",
       ">>> series.resample('30S').bfill()[0:5]\n",
       "2000-01-01 00:00:00    0\n",
       "2000-01-01 00:00:30    1\n",
       "2000-01-01 00:01:00    1\n",
       "2000-01-01 00:01:30    2\n",
       "2000-01-01 00:02:00    2\n",
       "Freq: 30S, dtype: int64\n",
       "\n",
       "Pass a custom function via ``apply``\n",
       "\n",
       ">>> def custom_resampler(array_like):\n",
       "...     return np.sum(array_like) + 5\n",
       "...\n",
       ">>> series.resample('3T').apply(custom_resampler)\n",
       "2000-01-01 00:00:00     8\n",
       "2000-01-01 00:03:00    17\n",
       "2000-01-01 00:06:00    26\n",
       "Freq: 3T, dtype: int64\n",
       "\n",
       "For a Series with a PeriodIndex, the keyword `convention` can be\n",
       "used to control whether to use the start or end of `rule`.\n",
       "\n",
       "Resample a year by quarter using 'start' `convention`. Values are\n",
       "assigned to the first quarter of the period.\n",
       "\n",
       ">>> s = pd.Series([1, 2], index=pd.period_range('2012-01-01',\n",
       "...                                             freq='A',\n",
       "...                                             periods=2))\n",
       ">>> s\n",
       "2012    1\n",
       "2013    2\n",
       "Freq: A-DEC, dtype: int64\n",
       ">>> s.resample('Q', convention='start').asfreq()\n",
       "2012Q1    1.0\n",
       "2012Q2    NaN\n",
       "2012Q3    NaN\n",
       "2012Q4    NaN\n",
       "2013Q1    2.0\n",
       "2013Q2    NaN\n",
       "2013Q3    NaN\n",
       "2013Q4    NaN\n",
       "Freq: Q-DEC, dtype: float64\n",
       "\n",
       "Resample quarters by month using 'end' `convention`. Values are\n",
       "assigned to the last month of the period.\n",
       "\n",
       ">>> q = pd.Series([1, 2, 3, 4], index=pd.period_range('2018-01-01',\n",
       "...                                                   freq='Q',\n",
       "...                                                   periods=4))\n",
       ">>> q\n",
       "2018Q1    1\n",
       "2018Q2    2\n",
       "2018Q3    3\n",
       "2018Q4    4\n",
       "Freq: Q-DEC, dtype: int64\n",
       ">>> q.resample('M', convention='end').asfreq()\n",
       "2018-03    1.0\n",
       "2018-04    NaN\n",
       "2018-05    NaN\n",
       "2018-06    2.0\n",
       "2018-07    NaN\n",
       "2018-08    NaN\n",
       "2018-09    3.0\n",
       "2018-10    NaN\n",
       "2018-11    NaN\n",
       "2018-12    4.0\n",
       "Freq: M, dtype: float64\n",
       "\n",
       "For DataFrame objects, the keyword `on` can be used to specify the\n",
       "column instead of the index for resampling.\n",
       "\n",
       ">>> d = {'price': [10, 11, 9, 13, 14, 18, 17, 19],\n",
       "...      'volume': [50, 60, 40, 100, 50, 100, 40, 50]}\n",
       ">>> df = pd.DataFrame(d)\n",
       ">>> df['week_starting'] = pd.date_range('01/01/2018',\n",
       "...                                     periods=8,\n",
       "...                                     freq='W')\n",
       ">>> df\n",
       "   price  volume week_starting\n",
       "0     10      50    2018-01-07\n",
       "1     11      60    2018-01-14\n",
       "2      9      40    2018-01-21\n",
       "3     13     100    2018-01-28\n",
       "4     14      50    2018-02-04\n",
       "5     18     100    2018-02-11\n",
       "6     17      40    2018-02-18\n",
       "7     19      50    2018-02-25\n",
       ">>> df.resample('M', on='week_starting').mean()\n",
       "               price  volume\n",
       "week_starting\n",
       "2018-01-31     10.75    62.5\n",
       "2018-02-28     17.00    60.0\n",
       "\n",
       "For a DataFrame with MultiIndex, the keyword `level` can be used to\n",
       "specify on which level the resampling needs to take place.\n",
       "\n",
       ">>> days = pd.date_range('1/1/2000', periods=4, freq='D')\n",
       ">>> d2 = {'price': [10, 11, 9, 13, 14, 18, 17, 19],\n",
       "...       'volume': [50, 60, 40, 100, 50, 100, 40, 50]}\n",
       ">>> df2 = pd.DataFrame(d2,\n",
       "...                    index=pd.MultiIndex.from_product([days,\n",
       "...                                                     ['morning',\n",
       "...                                                      'afternoon']]\n",
       "...                                                     ))\n",
       ">>> df2\n",
       "                      price  volume\n",
       "2000-01-01 morning       10      50\n",
       "           afternoon     11      60\n",
       "2000-01-02 morning        9      40\n",
       "           afternoon     13     100\n",
       "2000-01-03 morning       14      50\n",
       "           afternoon     18     100\n",
       "2000-01-04 morning       17      40\n",
       "           afternoon     19      50\n",
       ">>> df2.resample('D', level=0).sum()\n",
       "            price  volume\n",
       "2000-01-01     21     110\n",
       "2000-01-02     22     140\n",
       "2000-01-03     32     150\n",
       "2000-01-04     36      90\n",
       "\n",
       "If you want to adjust the start of the bins based on a fixed timestamp:\n",
       "\n",
       ">>> start, end = '2000-10-01 23:30:00', '2000-10-02 00:30:00'\n",
       ">>> rng = pd.date_range(start, end, freq='7min')\n",
       ">>> ts = pd.Series(np.arange(len(rng)) * 3, index=rng)\n",
       ">>> ts\n",
       "2000-10-01 23:30:00     0\n",
       "2000-10-01 23:37:00     3\n",
       "2000-10-01 23:44:00     6\n",
       "2000-10-01 23:51:00     9\n",
       "2000-10-01 23:58:00    12\n",
       "2000-10-02 00:05:00    15\n",
       "2000-10-02 00:12:00    18\n",
       "2000-10-02 00:19:00    21\n",
       "2000-10-02 00:26:00    24\n",
       "Freq: 7T, dtype: int64\n",
       "\n",
       ">>> ts.resample('17min').sum()\n",
       "2000-10-01 23:14:00     0\n",
       "2000-10-01 23:31:00     9\n",
       "2000-10-01 23:48:00    21\n",
       "2000-10-02 00:05:00    54\n",
       "2000-10-02 00:22:00    24\n",
       "Freq: 17T, dtype: int64\n",
       "\n",
       ">>> ts.resample('17min', origin='epoch').sum()\n",
       "2000-10-01 23:18:00     0\n",
       "2000-10-01 23:35:00    18\n",
       "2000-10-01 23:52:00    27\n",
       "2000-10-02 00:09:00    39\n",
       "2000-10-02 00:26:00    24\n",
       "Freq: 17T, dtype: int64\n",
       "\n",
       ">>> ts.resample('17min', origin='2000-01-01').sum()\n",
       "2000-10-01 23:24:00     3\n",
       "2000-10-01 23:41:00    15\n",
       "2000-10-01 23:58:00    45\n",
       "2000-10-02 00:15:00    45\n",
       "Freq: 17T, dtype: int64\n",
       "\n",
       "If you want to adjust the start of the bins with an `offset` Timedelta, the two\n",
       "following lines are equivalent:\n",
       "\n",
       ">>> ts.resample('17min', origin='start').sum()\n",
       "2000-10-01 23:30:00     9\n",
       "2000-10-01 23:47:00    21\n",
       "2000-10-02 00:04:00    54\n",
       "2000-10-02 00:21:00    24\n",
       "Freq: 17T, dtype: int64\n",
       "\n",
       ">>> ts.resample('17min', offset='23h30min').sum()\n",
       "2000-10-01 23:30:00     9\n",
       "2000-10-01 23:47:00    21\n",
       "2000-10-02 00:04:00    54\n",
       "2000-10-02 00:21:00    24\n",
       "Freq: 17T, dtype: int64\n",
       "\n",
       "To replace the use of the deprecated `base` argument, you can now use `offset`,\n",
       "in this example it is equivalent to have `base=2`:\n",
       "\n",
       ">>> ts.resample('17min', offset='2min').sum()\n",
       "2000-10-01 23:16:00     0\n",
       "2000-10-01 23:33:00     9\n",
       "2000-10-01 23:50:00    36\n",
       "2000-10-02 00:07:00    39\n",
       "2000-10-02 00:24:00    24\n",
       "Freq: 17T, dtype: int64\n",
       "\n",
       "To replace the use of the deprecated `loffset` argument:\n",
       "\n",
       ">>> from pandas.tseries.frequencies import to_offset\n",
       ">>> loffset = '19min'\n",
       ">>> ts_out = ts.resample('17min').sum()\n",
       ">>> ts_out.index = ts_out.index + to_offset(loffset)\n",
       ">>> ts_out\n",
       "2000-10-01 23:33:00     0\n",
       "2000-10-01 23:50:00     9\n",
       "2000-10-02 00:07:00    21\n",
       "2000-10-02 00:24:00    54\n",
       "2000-10-02 00:41:00    24\n",
       "Freq: 17T, dtype: int64\n",
       "\u001b[1;31mFile:\u001b[0m      c:\\users\\administrator\\appdata\\roaming\\python\\python38\\site-packages\\pandas\\core\\generic.py\n",
       "\u001b[1;31mType:\u001b[0m      method\n"
      ]
     },
     "metadata": {},
     "output_type": "display_data"
    }
   ],
   "source": [
    "df.resample?"
   ]
  },
  {
   "cell_type": "code",
   "execution_count": null,
   "id": "95b854bf-54ee-445c-8df5-a81e6f90769c",
   "metadata": {},
   "outputs": [],
   "source": []
  },
  {
   "cell_type": "markdown",
   "id": "f0c95791-f845-4ae4-aa20-f09043ae4d68",
   "metadata": {},
   "source": [
    "# <font face=\"gotham\" color=\"purple\"> Dynamic Econometric Models </font>"
   ]
  },
  {
   "cell_type": "markdown",
   "id": "7ca210ad-9367-4c13-ad24-a15f5d31f196",
   "metadata": {},
   "source": [
    "After discussions of autocorrelation, we are officially entering the realm of time series econometrics. For starter, we will discuss dynamic econometric models: **distributed-lag model** and **autogressive model**. \n",
    "\n",
    "In economics and finance, dependent variables and explanatory (independent) variables are rarely instantaneous, i.e. $Y$ responds to $X$'s with a lapse of time."
   ]
  },
  {
   "cell_type": "markdown",
   "id": "44bd55de-8785-4c4f-8dae-03eba33ddfd1",
   "metadata": {},
   "source": [
    "## <font face=\"gotham\" color=\"purple\"> Distributed-Lag Model (DLM) </font>"
   ]
  },
  {
   "cell_type": "markdown",
   "id": "327de2d9-4916-4c8a-be09-926b01ff99b4",
   "metadata": {},
   "source": [
    "Here is a DLM with one explanatory variable $X$\n",
    "$$\n",
    "Y_{t}=\\alpha+\\beta_{0} X_{t}+\\beta_{1} X_{t-1}+\\beta_{2} X_{t-2}+\\cdots+u_{t}\n",
    "$$"
   ]
  },
  {
   "cell_type": "markdown",
   "id": "a5c34546-e60d-4319-92fb-9d683c074fdd",
   "metadata": {},
   "source": [
    "### <font face=\"gotham\" color=\"purple\"> Ad Hoc Estimation Of DLM </font>"
   ]
  },
  {
   "cell_type": "markdown",
   "id": "b2488b37-64ed-47cb-917b-361578f90566",
   "metadata": {},
   "source": [
    "If you are estimating variables which have no clear economic relationship or no well-founded theoretical support, go with ad hoc estimation method. \n",
    "\n",
    "So you start regressing $X_t$ onto $Y_t$, then adding $X_{t-i}$ where $i \\geq 1$ in each round of regression, until $t$-statistic starting to be insignificant or signs of coefficients start to be unstable.\n",
    "\n",
    "\\begin{align}\n",
    "\\hat{Y}_t &= a + b_0X_t\\\\\n",
    "\\hat{Y}_t &= a + b_0X_t+b_1X_{t-1}\\\\\n",
    "\\hat{Y}_t &= a + b_0X_t+b_1X_{t-1}+b_2X_{t-2}\\\\\n",
    "\\hat{Y}_t &= a + b_0X_t+b_1X_{t-1}+b_1X_{t-1}+b_3X_{t-3}\\\\\n",
    "\\end{align}"
   ]
  },
  {
   "cell_type": "markdown",
   "id": "30aa7ae5-a423-468e-8e15-6bafab8e8413",
   "metadata": {},
   "source": [
    "But be aware that ad hoc method is bring significant problem of multicollinearity. "
   ]
  },
  {
   "cell_type": "markdown",
   "id": "80172a69-5df8-4795-ac7e-a7efae9ca2ff",
   "metadata": {},
   "source": [
    "### <font face=\"gotham\" color=\"purple\"> Koyck Approach To DLM </font>"
   ]
  },
  {
   "cell_type": "markdown",
   "id": "c6f32bbf-9838-4d20-8606-7ec07abf57d5",
   "metadata": {},
   "source": [
    "Koyck approach assumes that all $\\beta$'s are of the same sign, furthermore\n",
    "$$\n",
    "\\beta_{k}=\\beta_{0} \\lambda^{k} \\quad k=0,1, \\ldots\n",
    "$$\n",
    "where $\\lambda$ is the _rate of decay_, $0<\\lambda<1$."
   ]
  },
  {
   "cell_type": "code",
   "execution_count": 41,
   "id": "b2d7ebb0-70f3-47f4-8336-8c312d62e2d7",
   "metadata": {},
   "outputs": [
    {
     "data": {
      "image/png": "[encoded data removed]",
      "text/plain": [
       "<Figure size 864x576 with 1 Axes>"
      ]
     },
     "metadata": {
      "needs_background": "light"
     },
     "output_type": "display_data"
    }
   ],
   "source": [
    "lamda = np.linspace(0.3, .9, 6)\n",
    "beta_0 = 1\n",
    "k = np.linspace(0, 4)\n",
    "fig, ax = plt.subplots(figsize = (12, 8))\n",
    "for i in lamda:\n",
    "    beta_k = beta_0*i**k\n",
    "    ax.plot(k, beta_k, label = '$\\lambda$ = %.2f'%i)\n",
    "ax.legend()\n",
    "ax.axhline(y = 0.5, zorder = -10, color = 'k')\n",
    "plt.show()"
   ]
  },
  {
   "cell_type": "markdown",
   "id": "87239b58-34d5-40c7-9461-38aaf179824e",
   "metadata": {},
   "source": [
    "There are three perks of Koyck approach:\n",
    "\n",
    "1. By assuming nonnegative values for $λ$, $\\beta$'s sign are stable; \n",
    "2. by assuming $λ < 1$, lesser weight is given to the distant $β$'s than the current ones; \n",
    "3. The sum of the $β$'s, which gives the long-run multiplier, is finite, i.e.\n",
    "$$\n",
    "\\sum_{k=0}^{\\infty} \\beta_{k}=\\beta_{0}\\left(\\frac{1}{1-\\lambda}\\right)\n",
    "$$"
   ]
  },
  {
   "cell_type": "markdown",
   "id": "4b656729-12ca-4f0b-a5a8-9329d7f71429",
   "metadata": {},
   "source": [
    "Naturally, the infinite distributed lag  model can be rewritten as\n",
    "$$\n",
    "Y_{t}=\\alpha+\\beta_{0} X_{t}+\\beta_{0} \\lambda X_{t-1}+\\beta_{0} \\lambda^{2} X_{t-2}+\\cdots+u_{t}\n",
    "$$"
   ]
  },
  {
   "cell_type": "markdown",
   "id": "5903df82-32dc-4b54-b990-cb1979a32d29",
   "metadata": {},
   "source": [
    "Lag both sides one period\n",
    "$$\n",
    "Y_{t-1}=\\alpha+\\beta_{0} X_{t-1}+\\beta_{0} \\lambda X_{t-2}+\\beta_{0} \\lambda^{2} X_{t-3}+\\cdots+u_{t-1}\n",
    "$$"
   ]
  },
  {
   "cell_type": "markdown",
   "id": "dc566416-ac65-4b30-a0cd-2fcdfa731d0f",
   "metadata": {},
   "source": [
    "Multiply by $\\lambda$\n",
    "$$\n",
    "\\lambda Y_{t-1}=\\lambda \\alpha+\\lambda \\beta_{0} X_{t-1}+\\beta_{0} \\lambda^{2} X_{t-2}+\\beta_{0} \\lambda^{3} X_{t-3}+\\cdots+\\lambda u_{t-1}\n",
    "$$\n",
    "Join with original equation\n",
    "$$\n",
    "Y_{t}-\\lambda Y_{t-1}=\\alpha(1-\\lambda)+\\beta_{0} X_{t}+\\left(u_{t}-\\lambda u_{t-1}\\right)\n",
    "$$"
   ]
  },
  {
   "cell_type": "markdown",
   "id": "282daf07-3720-4f64-94e3-e35f0e20f76e",
   "metadata": {},
   "source": [
    "Rearrange, we obtain\n",
    "$$\n",
    "Y_{t}=\\alpha(1-\\lambda)+\\beta_{0} X_{t}+\\lambda Y_{t-1}+v_{t}\n",
    "$$\n",
    "where $v_t = (u_t − λu_{t−1})$."
   ]
  },
  {
   "cell_type": "markdown",
   "id": "0986ff64-7344-4298-93bc-e98cc85d57d8",
   "metadata": {},
   "source": [
    "This is called **Koyck transformation** which simplifies original infinite DLM into an $AR(1)$."
   ]
  },
  {
   "cell_type": "markdown",
   "id": "5ad950a0-dd02-41eb-91c0-b5f276d92dc8",
   "metadata": {},
   "source": [
    "### <font face=\"gotham\" color=\"purple\"> An Example Of Consumption And Income </font>"
   ]
  },
  {
   "cell_type": "markdown",
   "id": "7d93f9f2-14ff-40e9-b4fb-383aa2cb0e67",
   "metadata": {},
   "source": [
    "We import macro data from FRED, $PCE$ is _real personal consumption expenditure_ and $DI$ is _real disposable income per capita_. "
   ]
  },
  {
   "cell_type": "code",
   "execution_count": 105,
   "id": "acd5d166-a77d-4fa7-b97d-48d185f365b0",
   "metadata": {},
   "outputs": [
    {
     "data": {
      "text/html": [
       "<div>\n",
       "<style scoped>\n",
       "    .dataframe tbody tr th:only-of-type {\n",
       "        vertical-align: middle;\n",
       "    }\n",
       "\n",
       "    .dataframe tbody tr th {\n",
       "        vertical-align: top;\n",
       "    }\n",
       "\n",
       "    .dataframe thead th {\n",
       "        text-align: right;\n",
       "    }\n",
       "</style>\n",
       "<table border=\"1\" class=\"dataframe\">\n",
       "  <thead>\n",
       "    <tr style=\"text-align: right;\">\n",
       "      <th></th>\n",
       "      <th>PCE</th>\n",
       "      <th>DI</th>\n",
       "    </tr>\n",
       "    <tr>\n",
       "      <th>DATE</th>\n",
       "      <th></th>\n",
       "      <th></th>\n",
       "    </tr>\n",
       "  </thead>\n",
       "  <tbody>\n",
       "    <tr>\n",
       "      <th>2002-01-01</th>\n",
       "      <td>9004.4</td>\n",
       "      <td>34707.0</td>\n",
       "    </tr>\n",
       "    <tr>\n",
       "      <th>2002-02-01</th>\n",
       "      <td>9040.1</td>\n",
       "      <td>34735.0</td>\n",
       "    </tr>\n",
       "    <tr>\n",
       "      <th>2002-03-01</th>\n",
       "      <td>9038.2</td>\n",
       "      <td>34734.0</td>\n",
       "    </tr>\n",
       "    <tr>\n",
       "      <th>2002-04-01</th>\n",
       "      <td>9086.5</td>\n",
       "      <td>34827.0</td>\n",
       "    </tr>\n",
       "    <tr>\n",
       "      <th>2002-05-01</th>\n",
       "      <td>9051.4</td>\n",
       "      <td>34941.0</td>\n",
       "    </tr>\n",
       "  </tbody>\n",
       "</table>\n",
       "</div>"
      ],
      "text/plain": [
       "               PCE       DI\n",
       "DATE                       \n",
       "2002-01-01  9004.4  34707.0\n",
       "2002-02-01  9040.1  34735.0\n",
       "2002-03-01  9038.2  34734.0\n",
       "2002-04-01  9086.5  34827.0\n",
       "2002-05-01  9051.4  34941.0"
      ]
     },
     "execution_count": 105,
     "metadata": {},
     "output_type": "execute_result"
    }
   ],
   "source": [
    "start = dt.datetime(2002, 1, 1)\n",
    "end = dt.datetime(2021,10, 1)\n",
    "df_exp = pdr.data.DataReader(['PCEC96','A229RX0'], 'fred' , start, end)\n",
    "df_exp.columns = ['PCE', 'DI']\n",
    "df_exp = df_exp.dropna()\n",
    "df_exp.head()"
   ]
  },
  {
   "cell_type": "markdown",
   "id": "f8f3a808-2568-4286-ae22-8232a0bf58cf",
   "metadata": {},
   "source": [
    "Define a function for lagging, which is handy in $R$-style formula."
   ]
  },
  {
   "cell_type": "code",
   "execution_count": 106,
   "id": "b0626a76-2ae0-4af2-9b76-5bd62f17ffed",
   "metadata": {},
   "outputs": [],
   "source": [
    "def lag(x, n):\n",
    "    if n == 0:\n",
    "        return x\n",
    "    if isinstance(x, pd.Series):\n",
    "        return x.shift(n) \n",
    "    else:\n",
    "        x = pd.Series(x)\n",
    "        return x.shift(n) \n",
    "    x = x.copy()\n",
    "    x[n:] = x[0:-n]\n",
    "    x[:n] = np.nan\n",
    "    return x"
   ]
  },
  {
   "cell_type": "markdown",
   "id": "ec67aafe-8d0f-4b77-9726-e34cc55fcd01",
   "metadata": {},
   "source": [
    "The model is \n",
    "$$\n",
    "PCE_t = \\alpha(1-\\lambda) + \\beta_0 DI_t + \\lambda PCE_{t-1}+ v_t\n",
    "$$"
   ]
  },
  {
   "cell_type": "code",
   "execution_count": 107,
   "id": "a80f6f54-7ee6-42f6-9046-1281ca36e796",
   "metadata": {},
   "outputs": [
    {
     "name": "stdout",
     "output_type": "stream",
     "text": [
      "                            OLS Regression Results                            \n",
      "==============================================================================\n",
      "Dep. Variable:                    PCE   R-squared:                       0.985\n",
      "Model:                            OLS   Adj. R-squared:                  0.985\n",
      "Method:                 Least Squares   F-statistic:                     7861.\n",
      "Date:                Thu, 28 Oct 2021   Prob (F-statistic):          7.29e-214\n",
      "Time:                        10:52:27   Log-Likelihood:                -1503.8\n",
      "No. Observations:                 235   AIC:                             3014.\n",
      "Df Residuals:                     232   BIC:                             3024.\n",
      "Df Model:                           2                                         \n",
      "Covariance Type:            nonrobust                                         \n",
      "===============================================================================\n",
      "                  coef    std err          t      P>|t|      [0.025      0.975]\n",
      "-------------------------------------------------------------------------------\n",
      "Intercept    -109.1320    103.256     -1.057      0.292    -312.571      94.307\n",
      "lag(DI, 0)      0.0229      0.006      3.687      0.000       0.011       0.035\n",
      "lag(PCE, 1)     0.9295      0.019     48.126      0.000       0.891       0.968\n",
      "==============================================================================\n",
      "Omnibus:                      364.351   Durbin-Watson:                   1.746\n",
      "Prob(Omnibus):                  0.000   Jarque-Bera (JB):            78775.963\n",
      "Skew:                          -7.328   Prob(JB):                         0.00\n",
      "Kurtosis:                      91.490   Cond. No.                     4.51e+05\n",
      "==============================================================================\n",
      "\n",
      "Notes:\n",
      "[1] Standard Errors assume that the covariance matrix of the errors is correctly specified.\n",
      "[2] The condition number is large, 4.51e+05. This might indicate that there are\n",
      "strong multicollinearity or other numerical problems.\n"
     ]
    }
   ],
   "source": [
    "DLM = smf.ols(formula = 'PCE ~ 1 + lag(DI, 0) + lag(PCE, 1)', data = df_exp)\n",
    "DLM_results = DLM.fit()\n",
    "print(DLM_results.summary())"
   ]
  },
  {
   "cell_type": "markdown",
   "id": "430e6477-1f52-47c9-8704-6cc0d39a8b8f",
   "metadata": {},
   "source": [
    "The estimated results:"
   ]
  },
  {
   "cell_type": "code",
   "execution_count": 108,
   "id": "29cb038c-f3f5-494b-841d-9fcdbdd453a2",
   "metadata": {},
   "outputs": [
    {
     "name": "stdout",
     "output_type": "stream",
     "text": [
      "beta_0 = 0.02292255662377629\n",
      "lambda = 0.9294829077279697\n",
      "alpha = -1547.59673970508\n"
     ]
    }
   ],
   "source": [
    "beta_0 = DLM_results.params[1]\n",
    "lamda = DLM_results.params[2]\n",
    "alpha = DLM_results.params[0]/(1-DLM_results.params[2])\n",
    "\n",
    "print('beta_0 = {}'.format(beta_0))\n",
    "print('lambda = {}'.format(lamda))\n",
    "print('alpha = {}'.format(alpha))"
   ]
  },
  {
   "cell_type": "markdown",
   "id": "a7a117e7-fd08-4787-b5f8-edc7903f23f9",
   "metadata": {},
   "source": [
    "Any $\\beta_k$ is given by $\\beta_{k}=\\beta_{0} \\lambda^{k}$"
   ]
  },
  {
   "cell_type": "code",
   "execution_count": 109,
   "id": "85ddc4bd-5b19-4062-85d5-01553b51b212",
   "metadata": {},
   "outputs": [],
   "source": [
    "def beta_k(lamda, k, beta_0):\n",
    "    return beta_0 * lamda**k"
   ]
  },
  {
   "cell_type": "code",
   "execution_count": 110,
   "id": "97ec02a6-74e7-476c-aad2-d24f5a4aa691",
   "metadata": {},
   "outputs": [
    {
     "data": {
      "text/plain": [
       "0.02130612458322662"
      ]
     },
     "execution_count": 110,
     "metadata": {},
     "output_type": "execute_result"
    }
   ],
   "source": [
    "beta_k(lamda, 1, beta_0)"
   ]
  },
  {
   "cell_type": "markdown",
   "id": "06566bb3-490f-4787-9f7f-5907fdaa09df",
   "metadata": {},
   "source": [
    "The long run multiplier given by $\\sum_{k=0}^{\\infty} \\beta_{k}=\\beta_{0}\\left(\\frac{1}{1-\\lambda}\\right)$"
   ]
  },
  {
   "cell_type": "code",
   "execution_count": 111,
   "id": "89c45542-b298-4fa5-b011-0276b94f3048",
   "metadata": {},
   "outputs": [
    {
     "data": {
      "text/plain": [
       "0.32506383750692786"
      ]
     },
     "execution_count": 111,
     "metadata": {},
     "output_type": "execute_result"
    }
   ],
   "source": [
    "beta_0*(1/(1-lamda))"
   ]
  },
  {
   "cell_type": "code",
   "execution_count": 90,
   "id": "be6588e3-536f-450d-915b-fc1722bfc66b",
   "metadata": {},
   "outputs": [
    {
     "data": {
      "text/plain": [
       "14.180959080705563"
      ]
     },
     "execution_count": 90,
     "metadata": {},
     "output_type": "execute_result"
    }
   ],
   "source": [
    "1/(1-lamda)"
   ]
  },
  {
   "cell_type": "markdown",
   "id": "01731826-39a8-4fee-9d57-db7f0e450c75",
   "metadata": {},
   "source": [
    "Median lag, the lags that it takes to decay the first half. From our example, that $PCE$ adjusts to $DI$ with substantial lag, around $9$ month to have half impact."
   ]
  },
  {
   "cell_type": "code",
   "execution_count": 112,
   "id": "7e883b63-197e-490f-a46d-d57453749542",
   "metadata": {},
   "outputs": [
    {
     "data": {
      "text/plain": [
       "9.478694617455716"
      ]
     },
     "execution_count": 112,
     "metadata": {},
     "output_type": "execute_result"
    }
   ],
   "source": [
    "-np.log(2)/np.log(lamda)"
   ]
  },
  {
   "cell_type": "markdown",
   "id": "46bcb7fa-6d4d-42f5-88b2-c6cc797e5542",
   "metadata": {},
   "source": [
    "Mean lag"
   ]
  },
  {
   "cell_type": "code",
   "execution_count": 113,
   "id": "f22cfdd1-fa26-45ea-987b-72e7d9971767",
   "metadata": {},
   "outputs": [
    {
     "data": {
      "text/plain": [
       "13.180959080705563"
      ]
     },
     "execution_count": 113,
     "metadata": {},
     "output_type": "execute_result"
    }
   ],
   "source": [
    "lamda/(1-lamda)"
   ]
  },
  {
   "cell_type": "markdown",
   "id": "5c1e6a4f-8f11-410f-933b-87fd0b363cb5",
   "metadata": {},
   "source": [
    "# <font face=\"gotham\" color=\"purple\"> Stochastic Processes </font>"
   ]
  },
  {
   "cell_type": "markdown",
   "id": "96fcc7f3-d644-4145-81aa-3c259f5e318c",
   "metadata": {},
   "source": [
    "Unstrictly speaking, **stochastic processes** is a subject of mathematics that studies a family of random variables which are indexed by time. Since time series data is a series of **realization** of a stochastic process, before investigating further, we will introduce some basic concepts of stochastic processes.\n",
    "\n",
    "For instance, we denote $GDP$ as $Y_t$ which is a stochastic process, therefore $Y_1$ and $Y_2$ are two different random variables, if $Y_1 = 12345$, then it is a realization of $t_1$. You can think of stochastic process as population and realization as sample as in cross-sectional data."
   ]
  },
  {
   "cell_type": "markdown",
   "id": "55f6509d-09b3-4f99-a69d-a3daf3cfbd85",
   "metadata": {},
   "source": [
    "## <font face=\"gotham\" color=\"purple\"> Stationary Stochastic Processes </font>"
   ]
  },
  {
   "cell_type": "markdown",
   "id": "a6e1e639-5058-49e2-a1bd-4d5274c8d5a1",
   "metadata": {},
   "source": [
    "A stochastic process is said to be **stationary** if its mean and variance are constant over time and the value of the covariance between the two time periods depends only on the distance $k$ between the two time periods and not the actual time at which the covariance is computed. Mathematically, a **weak stationary process** should satisfy three conditions:"
   ]
  },
  {
   "cell_type": "markdown",
   "id": "06514592-7ef5-4847-ae0e-27ad992e0cd5",
   "metadata": {},
   "source": [
    "\\begin{align}\n",
    "Mean:& \\quad E\\left(Y_{t}\\right)=\\mu\\\\\n",
    "Variance:&\\quad E\\left(Y_{t}-\\mu\\right)^{2}=\\sigma^{2}\\\\\n",
    "Covariance:&\\quad E\\left[\\left(Y_{t}-\\mu\\right)\\left(Y_{t+k}-\\mu\\right)\\right] = \\gamma_{k}\n",
    "\\end{align}"
   ]
  },
  {
   "cell_type": "markdown",
   "id": "9c60efe6-f449-4929-9b64-27aaee832cb2",
   "metadata": {},
   "source": [
    "Most of time weak stationary process will suffice, rarely we require a process to be **strong stationary** which means all moments are **time-invariant**. "
   ]
  },
  {
   "cell_type": "markdown",
   "id": "e3477356-6d6a-432e-b7e1-90422c7cbdfb",
   "metadata": {},
   "source": []
  }
 ],
 "metadata": {
  "kernelspec": {
   "display_name": "Python 3",
   "language": "python",
   "name": "python3"
  },
  "language_info": {
   "codemirror_mode": {
    "name": "ipython",
    "version": 3
   },
   "file_extension": ".py",
   "mimetype": "text/x-python",
   "name": "python",
   "nbconvert_exporter": "python",
   "pygments_lexer": "ipython3",
   "version": "3.8.8"
  }
 },
 "nbformat": 4,
 "nbformat_minor": 5
}
