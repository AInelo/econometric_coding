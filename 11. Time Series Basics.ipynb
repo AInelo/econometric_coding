{
 "cells": [
  {
   "cell_type": "code",
   "execution_count": 42,
   "id": "29082b22-cfa5-4d24-bab1-7e3980ff085c",
   "metadata": {},
   "outputs": [],
   "source": [
    "import pandas as pd\n",
    "import numpy as np\n",
    "import matplotlib.pyplot as plt\n",
    "import pandas_datareader as pdr\n",
    "import datetime as dt\n",
    "import statsmodels.formula.api as smf"
   ]
  },
  {
   "cell_type": "markdown",
   "id": "2dd9a4c0-cb3c-46da-970c-02ba56eeb5f4",
   "metadata": {},
   "source": [
    "# <font face=\"gotham\" color=\"purple\"> Techniques For Handling Time Series Data </font>"
   ]
  },
  {
   "cell_type": "markdown",
   "id": "f535ef29-831f-40c0-8fbc-e4ccb62fa5f6",
   "metadata": {},
   "source": [
    "This section aims to introduce the most fundamental skills of wrangling time series data in Python, specifically with Pandas."
   ]
  },
  {
   "cell_type": "markdown",
   "id": "5cfd3d6f-7f91-4369-974f-68f2c0b2f9ed",
   "metadata": {},
   "source": [
    "## <font face=\"gotham\" color=\"purple\"> Why Taking Logs?</font>"
   ]
  },
  {
   "cell_type": "markdown",
   "id": "1b3d9abc-6b8b-4694-8dac-b8ff93d3dd50",
   "metadata": {},
   "source": [
    "If the time series that exhibit any traces of growth, a useful transformation is to take natural logarithm of it. Suppose if $y_t$ is an observation of the time series in period $t$, the growth rate from period $t-1$ is\n",
    "$$\n",
    "g_t = \\frac{y_t}{y_{t-1}}-1\n",
    "$$\n",
    "where $g_t$ is the growth rate. Rearrange and take natural log\n",
    "$$\n",
    "\\ln{(1+g_t)}=\\ln{\\bigg(\\frac{y_t}{y_{t-1}}\\bigg)}=\\ln{y_t}-\\ln{y_{t-1}}\n",
    "$$\n",
    "So the question is what is $\\ln{(1+g_t)}$?"
   ]
  },
  {
   "cell_type": "markdown",
   "id": "6defc978-4419-4dcd-8a38-d97e138eff60",
   "metadata": {},
   "source": [
    "In calculus class, we have learned **Taylor Expansion**, which is the ultimate weapon for approximate any functions. \n",
    "$$\n",
    "\\ln (1+x)=x-\\frac{1}{2} x^{2}+\\frac{1}{3} x^{3}-\\frac{1}{4} x^{4}+\\ldots=\\sum_{k=1}^\\infty(-1)^{k+1}\\frac{x^k}{k}\n",
    "$$"
   ]
  },
  {
   "cell_type": "markdown",
   "id": "a2db1256-a815-4ea9-b12d-cefbb8515b1a",
   "metadata": {},
   "source": [
    "Because the growth rate is usually small, we can use the linear term exclusively in Taylor expansion\n",
    "$$\n",
    "\\ln{(1+x)}\\approx x\n",
    "$$\n",
    "which means log difference approximates the growth rate\n",
    "$$\n",
    "\\ln{y_t}-\\ln{y_{t-1}} \\approx g_t\n",
    "$$"
   ]
  },
  {
   "cell_type": "markdown",
   "id": "11f4c8ba-3c5a-460e-b555-0e24ded735d7",
   "metadata": {},
   "source": [
    "Let's take a look at real GDP per capita from US."
   ]
  },
  {
   "cell_type": "code",
   "execution_count": 139,
   "id": "f8aea0c3-1328-43b0-b723-7e99b65a1e95",
   "metadata": {},
   "outputs": [
    {
     "data": {
      "text/html": [
       "<div>\n",
       "<style scoped>\n",
       "    .dataframe tbody tr th:only-of-type {\n",
       "        vertical-align: middle;\n",
       "    }\n",
       "\n",
       "    .dataframe tbody tr th {\n",
       "        vertical-align: top;\n",
       "    }\n",
       "\n",
       "    .dataframe thead th {\n",
       "        text-align: right;\n",
       "    }\n",
       "</style>\n",
       "<table border=\"1\" class=\"dataframe\">\n",
       "  <thead>\n",
       "    <tr style=\"text-align: right;\">\n",
       "      <th></th>\n",
       "      <th>R_GDP_PerCap</th>\n",
       "      <th>R_GDP_PerCap_tm1</th>\n",
       "    </tr>\n",
       "    <tr>\n",
       "      <th>DATE</th>\n",
       "      <th></th>\n",
       "      <th></th>\n",
       "    </tr>\n",
       "  </thead>\n",
       "  <tbody>\n",
       "    <tr>\n",
       "      <th>1950-04-01</th>\n",
       "      <td>14889.0</td>\n",
       "      <td>14500.0</td>\n",
       "    </tr>\n",
       "    <tr>\n",
       "      <th>1950-07-01</th>\n",
       "      <td>15398.0</td>\n",
       "      <td>14889.0</td>\n",
       "    </tr>\n",
       "    <tr>\n",
       "      <th>1950-10-01</th>\n",
       "      <td>15623.0</td>\n",
       "      <td>15398.0</td>\n",
       "    </tr>\n",
       "    <tr>\n",
       "      <th>1951-01-01</th>\n",
       "      <td>15769.0</td>\n",
       "      <td>15623.0</td>\n",
       "    </tr>\n",
       "    <tr>\n",
       "      <th>1951-04-01</th>\n",
       "      <td>15979.0</td>\n",
       "      <td>15769.0</td>\n",
       "    </tr>\n",
       "  </tbody>\n",
       "</table>\n",
       "</div>"
      ],
      "text/plain": [
       "            R_GDP_PerCap  R_GDP_PerCap_tm1\n",
       "DATE                                      \n",
       "1950-04-01       14889.0           14500.0\n",
       "1950-07-01       15398.0           14889.0\n",
       "1950-10-01       15623.0           15398.0\n",
       "1951-01-01       15769.0           15623.0\n",
       "1951-04-01       15979.0           15769.0"
      ]
     },
     "execution_count": 139,
     "metadata": {},
     "output_type": "execute_result"
    }
   ],
   "source": [
    "start = dt.datetime(1950, 1, 1)\n",
    "end = dt.datetime(2021,10, 1)\n",
    "df = pdr.data.DataReader(['A939RX0Q048SBEA'], 'fred' , start, end)\n",
    "df.columns = ['R_GDP_PerCap']\n",
    "df['R_GDP_PerCap_tm1'] = df['R_GDP_PerCap'].shift(1)\n",
    "df = df.dropna()\n",
    "df.head()"
   ]
  },
  {
   "cell_type": "code",
   "execution_count": 140,
   "id": "8196acc0-c0ef-4698-965a-82eb8692b000",
   "metadata": {},
   "outputs": [
    {
     "data": {
      "text/html": [
       "<div>\n",
       "<style scoped>\n",
       "    .dataframe tbody tr th:only-of-type {\n",
       "        vertical-align: middle;\n",
       "    }\n",
       "\n",
       "    .dataframe tbody tr th {\n",
       "        vertical-align: top;\n",
       "    }\n",
       "\n",
       "    .dataframe thead th {\n",
       "        text-align: right;\n",
       "    }\n",
       "</style>\n",
       "<table border=\"1\" class=\"dataframe\">\n",
       "  <thead>\n",
       "    <tr style=\"text-align: right;\">\n",
       "      <th></th>\n",
       "      <th>R_GDP_PerCap</th>\n",
       "      <th>R_GDP_PerCap_tm1</th>\n",
       "      <th>Gr_rate</th>\n",
       "    </tr>\n",
       "    <tr>\n",
       "      <th>DATE</th>\n",
       "      <th></th>\n",
       "      <th></th>\n",
       "      <th></th>\n",
       "    </tr>\n",
       "  </thead>\n",
       "  <tbody>\n",
       "    <tr>\n",
       "      <th>1950-04-01</th>\n",
       "      <td>14889.0</td>\n",
       "      <td>14500.0</td>\n",
       "      <td>0.026828</td>\n",
       "    </tr>\n",
       "    <tr>\n",
       "      <th>1950-07-01</th>\n",
       "      <td>15398.0</td>\n",
       "      <td>14889.0</td>\n",
       "      <td>0.034186</td>\n",
       "    </tr>\n",
       "    <tr>\n",
       "      <th>1950-10-01</th>\n",
       "      <td>15623.0</td>\n",
       "      <td>15398.0</td>\n",
       "      <td>0.014612</td>\n",
       "    </tr>\n",
       "    <tr>\n",
       "      <th>1951-01-01</th>\n",
       "      <td>15769.0</td>\n",
       "      <td>15623.0</td>\n",
       "      <td>0.009345</td>\n",
       "    </tr>\n",
       "    <tr>\n",
       "      <th>1951-04-01</th>\n",
       "      <td>15979.0</td>\n",
       "      <td>15769.0</td>\n",
       "      <td>0.013317</td>\n",
       "    </tr>\n",
       "  </tbody>\n",
       "</table>\n",
       "</div>"
      ],
      "text/plain": [
       "            R_GDP_PerCap  R_GDP_PerCap_tm1   Gr_rate\n",
       "DATE                                                \n",
       "1950-04-01       14889.0           14500.0  0.026828\n",
       "1950-07-01       15398.0           14889.0  0.034186\n",
       "1950-10-01       15623.0           15398.0  0.014612\n",
       "1951-01-01       15769.0           15623.0  0.009345\n",
       "1951-04-01       15979.0           15769.0  0.013317"
      ]
     },
     "execution_count": 140,
     "metadata": {},
     "output_type": "execute_result"
    }
   ],
   "source": [
    "pd.options.mode.chained_assignment = None # without this, there will be error msg 'A value is trying to be set on a copy of a slice from a DataFrame.'\n",
    "df['Gr_rate'] = df['R_GDP_PerCap']/df['R_GDP_PerCap_tm1']\n",
    "df['Gr_rate'] = df['Gr_rate']-1\n",
    "df.head()"
   ]
  },
  {
   "cell_type": "code",
   "execution_count": 142,
   "id": "18045557-43a9-457f-b475-bce5ec1e3c2a",
   "metadata": {},
   "outputs": [],
   "source": [
    "df['Gr_rate_log_approx'] = np.log(df['R_GDP_PerCap']) - np.log(df['R_GDP_PerCap_tm1'])"
   ]
  },
  {
   "cell_type": "markdown",
   "id": "b2e73d47-562a-42c7-be19-eec79867d405",
   "metadata": {},
   "source": [
    "This charts shows the difference between division growth rate $g_t = \\frac{y_t}{y_{t-1}}-1$ and log difference growth rate $g_t\\approx \\ln{y_t}-\\ln{y_{t-1}} $"
   ]
  },
  {
   "cell_type": "code",
   "execution_count": 151,
   "id": "a5c73206-be84-4a65-8f02-a96da3af0500",
   "metadata": {},
   "outputs": [
    {
     "data": {
      "image/png": "[encoded data removed]",
      "text/plain": [
       "<Figure size 864x576 with 1 Axes>"
      ]
     },
     "metadata": {
      "needs_background": "light"
     },
     "output_type": "display_data"
    }
   ],
   "source": [
    "fig, ax = plt.subplots(figsize = (12, 8))\n",
    "ax.plot(df['Gr_rate']- df['Gr_rate_log_approx'])\n",
    "ax.grid()\n",
    "plt.show()"
   ]
  },
  {
   "cell_type": "markdown",
   "id": "572649fa-4293-4860-a494-41feb7c6a7b7",
   "metadata": {},
   "source": [
    "As you can see from log difference growth rate will consistently underestimate the growth rate, however the differences are negligible, mostly difference are under $5$ basis points, especially post 1980s period, the log difference grow rate approximate real growth rate considerably well. The only exception is the rebound during Covid pandemic, more than $40$ basis points ($0.04\\%$)."
   ]
  },
  {
   "cell_type": "code",
   "execution_count": 167,
   "id": "e7481269-04e6-4f1f-a19d-928cc4353017",
   "metadata": {},
   "outputs": [],
   "source": [
    "g = np.arange(0, .8, .01)"
   ]
  },
  {
   "cell_type": "code",
   "execution_count": 168,
   "id": "2bb1391b-35cd-4e70-8630-2c412d34cd04",
   "metadata": {},
   "outputs": [],
   "source": [
    "log_g = np.log(1+g)"
   ]
  },
  {
   "cell_type": "code",
   "execution_count": 169,
   "id": "17f36a87-a13e-4db3-ad17-ee8d5d05075d",
   "metadata": {},
   "outputs": [
    {
     "data": {
      "image/png": "[encoded data removed]",
      "text/plain": [
       "<Figure size 864x576 with 1 Axes>"
      ]
     },
     "metadata": {
      "needs_background": "light"
     },
     "output_type": "display_data"
    }
   ],
   "source": [
    "fig, ax = plt.subplots(figsize = (12, 8))\n",
    "ax.plot(g)\n",
    "ax.plot(log_g)\n",
    "ax.grid()\n",
    "plt.show()"
   ]
  },
  {
   "cell_type": "markdown",
   "id": "f0c95791-f845-4ae4-aa20-f09043ae4d68",
   "metadata": {},
   "source": [
    "# <font face=\"gotham\" color=\"purple\"> Dynamic Econometric Models </font>"
   ]
  },
  {
   "cell_type": "markdown",
   "id": "7ca210ad-9367-4c13-ad24-a15f5d31f196",
   "metadata": {},
   "source": [
    "After discussions of autocorrelation, we are officially entering the realm of time series econometrics. For starter, we will discuss dynamic econometric models: **distributed-lag model** and **autogressive model**. \n",
    "\n",
    "In economics and finance, dependent variables and explanatory (independent) variables are rarely instantaneous, i.e. $Y$ responds to $X$'s with a lapse of time."
   ]
  },
  {
   "cell_type": "markdown",
   "id": "44bd55de-8785-4c4f-8dae-03eba33ddfd1",
   "metadata": {},
   "source": [
    "## <font face=\"gotham\" color=\"purple\"> Distributed-Lag Model (DLM) </font>"
   ]
  },
  {
   "cell_type": "markdown",
   "id": "327de2d9-4916-4c8a-be09-926b01ff99b4",
   "metadata": {},
   "source": [
    "Here is a DLM with one explanatory variable $X$\n",
    "$$\n",
    "Y_{t}=\\alpha+\\beta_{0} X_{t}+\\beta_{1} X_{t-1}+\\beta_{2} X_{t-2}+\\cdots+u_{t}\n",
    "$$"
   ]
  },
  {
   "cell_type": "markdown",
   "id": "a5c34546-e60d-4319-92fb-9d683c074fdd",
   "metadata": {},
   "source": [
    "### <font face=\"gotham\" color=\"purple\"> Ad Hoc Estimation Of DLM </font>"
   ]
  },
  {
   "cell_type": "markdown",
   "id": "b2488b37-64ed-47cb-917b-361578f90566",
   "metadata": {},
   "source": [
    "If you are estimating variables which have no clear economic relationship or no well-founded theoretical support, go with ad hoc estimation method. \n",
    "\n",
    "So you start regressing $X_t$ onto $Y_t$, then adding $X_{t-i}$ where $i \\geq 1$ in each round of regression, until $t$-statistic starting to be insignificant or signs of coefficients start to be unstable.\n",
    "\n",
    "\\begin{align}\n",
    "\\hat{Y}_t &= a + b_0X_t\\\\\n",
    "\\hat{Y}_t &= a + b_0X_t+b_1X_{t-1}\\\\\n",
    "\\hat{Y}_t &= a + b_0X_t+b_1X_{t-1}+b_2X_{t-2}\\\\\n",
    "\\hat{Y}_t &= a + b_0X_t+b_1X_{t-1}+b_1X_{t-1}+b_3X_{t-3}\\\\\n",
    "\\end{align}"
   ]
  },
  {
   "cell_type": "markdown",
   "id": "30aa7ae5-a423-468e-8e15-6bafab8e8413",
   "metadata": {},
   "source": [
    "But be aware that ad hoc method is bring significant problem of multicollinearity. "
   ]
  },
  {
   "cell_type": "markdown",
   "id": "80172a69-5df8-4795-ac7e-a7efae9ca2ff",
   "metadata": {},
   "source": [
    "### <font face=\"gotham\" color=\"purple\"> Koyck Approach To DLM </font>"
   ]
  },
  {
   "cell_type": "markdown",
   "id": "c6f32bbf-9838-4d20-8606-7ec07abf57d5",
   "metadata": {},
   "source": [
    "Koyck approach assumes that all $\\beta$'s are of the same sign, furthermore\n",
    "$$\n",
    "\\beta_{k}=\\beta_{0} \\lambda^{k} \\quad k=0,1, \\ldots\n",
    "$$\n",
    "where $\\lambda$ is the _rate of decay_, $0<\\lambda<1$."
   ]
  },
  {
   "cell_type": "code",
   "execution_count": 41,
   "id": "b2d7ebb0-70f3-47f4-8336-8c312d62e2d7",
   "metadata": {},
   "outputs": [
    {
     "data": {
      "image/png": "[encoded data removed]",
      "text/plain": [
       "<Figure size 864x576 with 1 Axes>"
      ]
     },
     "metadata": {
      "needs_background": "light"
     },
     "output_type": "display_data"
    }
   ],
   "source": [
    "lamda = np.linspace(0.3, .9, 6)\n",
    "beta_0 = 1\n",
    "k = np.linspace(0, 4)\n",
    "fig, ax = plt.subplots(figsize = (12, 8))\n",
    "for i in lamda:\n",
    "    beta_k = beta_0*i**k\n",
    "    ax.plot(k, beta_k, label = '$\\lambda$ = %.2f'%i)\n",
    "ax.legend()\n",
    "ax.axhline(y = 0.5, zorder = -10, color = 'k')\n",
    "plt.show()"
   ]
  },
  {
   "cell_type": "markdown",
   "id": "87239b58-34d5-40c7-9461-38aaf179824e",
   "metadata": {},
   "source": [
    "There are three perks of Koyck approach:\n",
    "\n",
    "1. By assuming nonnegative values for $λ$, $\\beta$'s sign are stable; \n",
    "2. by assuming $λ < 1$, lesser weight is given to the distant $β$'s than the current ones; \n",
    "3. The sum of the $β$'s, which gives the long-run multiplier, is finite, i.e.\n",
    "$$\n",
    "\\sum_{k=0}^{\\infty} \\beta_{k}=\\beta_{0}\\left(\\frac{1}{1-\\lambda}\\right)\n",
    "$$"
   ]
  },
  {
   "cell_type": "markdown",
   "id": "4b656729-12ca-4f0b-a5a8-9329d7f71429",
   "metadata": {},
   "source": [
    "Naturally, the infinite distributed lag  model can be rewritten as\n",
    "$$\n",
    "Y_{t}=\\alpha+\\beta_{0} X_{t}+\\beta_{0} \\lambda X_{t-1}+\\beta_{0} \\lambda^{2} X_{t-2}+\\cdots+u_{t}\n",
    "$$"
   ]
  },
  {
   "cell_type": "markdown",
   "id": "5903df82-32dc-4b54-b990-cb1979a32d29",
   "metadata": {},
   "source": [
    "Lag both sides one period\n",
    "$$\n",
    "Y_{t-1}=\\alpha+\\beta_{0} X_{t-1}+\\beta_{0} \\lambda X_{t-2}+\\beta_{0} \\lambda^{2} X_{t-3}+\\cdots+u_{t-1}\n",
    "$$"
   ]
  },
  {
   "cell_type": "markdown",
   "id": "dc566416-ac65-4b30-a0cd-2fcdfa731d0f",
   "metadata": {},
   "source": [
    "Multiply by $\\lambda$\n",
    "$$\n",
    "\\lambda Y_{t-1}=\\lambda \\alpha+\\lambda \\beta_{0} X_{t-1}+\\beta_{0} \\lambda^{2} X_{t-2}+\\beta_{0} \\lambda^{3} X_{t-3}+\\cdots+\\lambda u_{t-1}\n",
    "$$\n",
    "Join with original equation\n",
    "$$\n",
    "Y_{t}-\\lambda Y_{t-1}=\\alpha(1-\\lambda)+\\beta_{0} X_{t}+\\left(u_{t}-\\lambda u_{t-1}\\right)\n",
    "$$"
   ]
  },
  {
   "cell_type": "markdown",
   "id": "282daf07-3720-4f64-94e3-e35f0e20f76e",
   "metadata": {},
   "source": [
    "Rearrange, we obtain\n",
    "$$\n",
    "Y_{t}=\\alpha(1-\\lambda)+\\beta_{0} X_{t}+\\lambda Y_{t-1}+v_{t}\n",
    "$$\n",
    "where $v_t = (u_t − λu_{t−1})$."
   ]
  },
  {
   "cell_type": "markdown",
   "id": "0986ff64-7344-4298-93bc-e98cc85d57d8",
   "metadata": {},
   "source": [
    "This is called **Koyck transformation** which simplifies original infinite DLM into an $AR(1)$."
   ]
  },
  {
   "cell_type": "markdown",
   "id": "5ad950a0-dd02-41eb-91c0-b5f276d92dc8",
   "metadata": {},
   "source": [
    "### <font face=\"gotham\" color=\"purple\"> An Example Of Consumption And Income </font>"
   ]
  },
  {
   "cell_type": "markdown",
   "id": "7d93f9f2-14ff-40e9-b4fb-383aa2cb0e67",
   "metadata": {},
   "source": [
    "We import macro data from FRED, $PCE$ is _real personal consumption expenditure_ and $DI$ is _real disposable income per capita_. "
   ]
  },
  {
   "cell_type": "code",
   "execution_count": 105,
   "id": "acd5d166-a77d-4fa7-b97d-48d185f365b0",
   "metadata": {},
   "outputs": [
    {
     "data": {
      "text/html": [
       "<div>\n",
       "<style scoped>\n",
       "    .dataframe tbody tr th:only-of-type {\n",
       "        vertical-align: middle;\n",
       "    }\n",
       "\n",
       "    .dataframe tbody tr th {\n",
       "        vertical-align: top;\n",
       "    }\n",
       "\n",
       "    .dataframe thead th {\n",
       "        text-align: right;\n",
       "    }\n",
       "</style>\n",
       "<table border=\"1\" class=\"dataframe\">\n",
       "  <thead>\n",
       "    <tr style=\"text-align: right;\">\n",
       "      <th></th>\n",
       "      <th>PCE</th>\n",
       "      <th>DI</th>\n",
       "    </tr>\n",
       "    <tr>\n",
       "      <th>DATE</th>\n",
       "      <th></th>\n",
       "      <th></th>\n",
       "    </tr>\n",
       "  </thead>\n",
       "  <tbody>\n",
       "    <tr>\n",
       "      <th>2002-01-01</th>\n",
       "      <td>9004.4</td>\n",
       "      <td>34707.0</td>\n",
       "    </tr>\n",
       "    <tr>\n",
       "      <th>2002-02-01</th>\n",
       "      <td>9040.1</td>\n",
       "      <td>34735.0</td>\n",
       "    </tr>\n",
       "    <tr>\n",
       "      <th>2002-03-01</th>\n",
       "      <td>9038.2</td>\n",
       "      <td>34734.0</td>\n",
       "    </tr>\n",
       "    <tr>\n",
       "      <th>2002-04-01</th>\n",
       "      <td>9086.5</td>\n",
       "      <td>34827.0</td>\n",
       "    </tr>\n",
       "    <tr>\n",
       "      <th>2002-05-01</th>\n",
       "      <td>9051.4</td>\n",
       "      <td>34941.0</td>\n",
       "    </tr>\n",
       "  </tbody>\n",
       "</table>\n",
       "</div>"
      ],
      "text/plain": [
       "               PCE       DI\n",
       "DATE                       \n",
       "2002-01-01  9004.4  34707.0\n",
       "2002-02-01  9040.1  34735.0\n",
       "2002-03-01  9038.2  34734.0\n",
       "2002-04-01  9086.5  34827.0\n",
       "2002-05-01  9051.4  34941.0"
      ]
     },
     "execution_count": 105,
     "metadata": {},
     "output_type": "execute_result"
    }
   ],
   "source": [
    "start = dt.datetime(2002, 1, 1)\n",
    "end = dt.datetime(2021,10, 1)\n",
    "df_exp = pdr.data.DataReader(['PCEC96','A229RX0'], 'fred' , start, end)\n",
    "df_exp.columns = ['PCE', 'DI']\n",
    "df_exp = df_exp.dropna()\n",
    "df_exp.head()"
   ]
  },
  {
   "cell_type": "markdown",
   "id": "f8f3a808-2568-4286-ae22-8232a0bf58cf",
   "metadata": {},
   "source": [
    "Define a function for lagging, which is handy in $R$-style formula."
   ]
  },
  {
   "cell_type": "code",
   "execution_count": 106,
   "id": "b0626a76-2ae0-4af2-9b76-5bd62f17ffed",
   "metadata": {},
   "outputs": [],
   "source": [
    "def lag(x, n):\n",
    "    if n == 0:\n",
    "        return x\n",
    "    if isinstance(x, pd.Series):\n",
    "        return x.shift(n) \n",
    "    else:\n",
    "        x = pd.Series(x)\n",
    "        return x.shift(n) \n",
    "    x = x.copy()\n",
    "    x[n:] = x[0:-n]\n",
    "    x[:n] = np.nan\n",
    "    return x"
   ]
  },
  {
   "cell_type": "markdown",
   "id": "ec67aafe-8d0f-4b77-9726-e34cc55fcd01",
   "metadata": {},
   "source": [
    "The model is \n",
    "$$\n",
    "PCE_t = \\alpha(1-\\lambda) + \\beta_0 DI_t + \\lambda PCE_{t-1}+ v_t\n",
    "$$"
   ]
  },
  {
   "cell_type": "code",
   "execution_count": 107,
   "id": "a80f6f54-7ee6-42f6-9046-1281ca36e796",
   "metadata": {},
   "outputs": [
    {
     "name": "stdout",
     "output_type": "stream",
     "text": [
      "                            OLS Regression Results                            \n",
      "==============================================================================\n",
      "Dep. Variable:                    PCE   R-squared:                       0.985\n",
      "Model:                            OLS   Adj. R-squared:                  0.985\n",
      "Method:                 Least Squares   F-statistic:                     7861.\n",
      "Date:                Thu, 28 Oct 2021   Prob (F-statistic):          7.29e-214\n",
      "Time:                        10:52:27   Log-Likelihood:                -1503.8\n",
      "No. Observations:                 235   AIC:                             3014.\n",
      "Df Residuals:                     232   BIC:                             3024.\n",
      "Df Model:                           2                                         \n",
      "Covariance Type:            nonrobust                                         \n",
      "===============================================================================\n",
      "                  coef    std err          t      P>|t|      [0.025      0.975]\n",
      "-------------------------------------------------------------------------------\n",
      "Intercept    -109.1320    103.256     -1.057      0.292    -312.571      94.307\n",
      "lag(DI, 0)      0.0229      0.006      3.687      0.000       0.011       0.035\n",
      "lag(PCE, 1)     0.9295      0.019     48.126      0.000       0.891       0.968\n",
      "==============================================================================\n",
      "Omnibus:                      364.351   Durbin-Watson:                   1.746\n",
      "Prob(Omnibus):                  0.000   Jarque-Bera (JB):            78775.963\n",
      "Skew:                          -7.328   Prob(JB):                         0.00\n",
      "Kurtosis:                      91.490   Cond. No.                     4.51e+05\n",
      "==============================================================================\n",
      "\n",
      "Notes:\n",
      "[1] Standard Errors assume that the covariance matrix of the errors is correctly specified.\n",
      "[2] The condition number is large, 4.51e+05. This might indicate that there are\n",
      "strong multicollinearity or other numerical problems.\n"
     ]
    }
   ],
   "source": [
    "DLM = smf.ols(formula = 'PCE ~ 1 + lag(DI, 0) + lag(PCE, 1)', data = df_exp)\n",
    "DLM_results = DLM.fit()\n",
    "print(DLM_results.summary())"
   ]
  },
  {
   "cell_type": "markdown",
   "id": "430e6477-1f52-47c9-8704-6cc0d39a8b8f",
   "metadata": {},
   "source": [
    "The estimated results:"
   ]
  },
  {
   "cell_type": "code",
   "execution_count": 108,
   "id": "29cb038c-f3f5-494b-841d-9fcdbdd453a2",
   "metadata": {},
   "outputs": [
    {
     "name": "stdout",
     "output_type": "stream",
     "text": [
      "beta_0 = 0.02292255662377629\n",
      "lambda = 0.9294829077279697\n",
      "alpha = -1547.59673970508\n"
     ]
    }
   ],
   "source": [
    "beta_0 = DLM_results.params[1]\n",
    "lamda = DLM_results.params[2]\n",
    "alpha = DLM_results.params[0]/(1-DLM_results.params[2])\n",
    "\n",
    "print('beta_0 = {}'.format(beta_0))\n",
    "print('lambda = {}'.format(lamda))\n",
    "print('alpha = {}'.format(alpha))"
   ]
  },
  {
   "cell_type": "markdown",
   "id": "a7a117e7-fd08-4787-b5f8-edc7903f23f9",
   "metadata": {},
   "source": [
    "Any $\\beta_k$ is given by $\\beta_{k}=\\beta_{0} \\lambda^{k}$"
   ]
  },
  {
   "cell_type": "code",
   "execution_count": 109,
   "id": "85ddc4bd-5b19-4062-85d5-01553b51b212",
   "metadata": {},
   "outputs": [],
   "source": [
    "def beta_k(lamda, k, beta_0):\n",
    "    return beta_0 * lamda**k"
   ]
  },
  {
   "cell_type": "code",
   "execution_count": 110,
   "id": "97ec02a6-74e7-476c-aad2-d24f5a4aa691",
   "metadata": {},
   "outputs": [
    {
     "data": {
      "text/plain": [
       "0.02130612458322662"
      ]
     },
     "execution_count": 110,
     "metadata": {},
     "output_type": "execute_result"
    }
   ],
   "source": [
    "beta_k(lamda, 1, beta_0)"
   ]
  },
  {
   "cell_type": "markdown",
   "id": "06566bb3-490f-4787-9f7f-5907fdaa09df",
   "metadata": {},
   "source": [
    "The long run multiplier given by $\\sum_{k=0}^{\\infty} \\beta_{k}=\\beta_{0}\\left(\\frac{1}{1-\\lambda}\\right)$"
   ]
  },
  {
   "cell_type": "code",
   "execution_count": 111,
   "id": "89c45542-b298-4fa5-b011-0276b94f3048",
   "metadata": {},
   "outputs": [
    {
     "data": {
      "text/plain": [
       "0.32506383750692786"
      ]
     },
     "execution_count": 111,
     "metadata": {},
     "output_type": "execute_result"
    }
   ],
   "source": [
    "beta_0*(1/(1-lamda))"
   ]
  },
  {
   "cell_type": "code",
   "execution_count": 90,
   "id": "be6588e3-536f-450d-915b-fc1722bfc66b",
   "metadata": {},
   "outputs": [
    {
     "data": {
      "text/plain": [
       "14.180959080705563"
      ]
     },
     "execution_count": 90,
     "metadata": {},
     "output_type": "execute_result"
    }
   ],
   "source": [
    "1/(1-lamda)"
   ]
  },
  {
   "cell_type": "markdown",
   "id": "01731826-39a8-4fee-9d57-db7f0e450c75",
   "metadata": {},
   "source": [
    "Median lag, the lags that it takes to decay the first half. From our example, that $PCE$ adjusts to $DI$ with substantial lag, around $9$ month to have half impact."
   ]
  },
  {
   "cell_type": "code",
   "execution_count": 112,
   "id": "7e883b63-197e-490f-a46d-d57453749542",
   "metadata": {},
   "outputs": [
    {
     "data": {
      "text/plain": [
       "9.478694617455716"
      ]
     },
     "execution_count": 112,
     "metadata": {},
     "output_type": "execute_result"
    }
   ],
   "source": [
    "-np.log(2)/np.log(lamda)"
   ]
  },
  {
   "cell_type": "markdown",
   "id": "46bcb7fa-6d4d-42f5-88b2-c6cc797e5542",
   "metadata": {},
   "source": [
    "Mean lag"
   ]
  },
  {
   "cell_type": "code",
   "execution_count": 113,
   "id": "f22cfdd1-fa26-45ea-987b-72e7d9971767",
   "metadata": {},
   "outputs": [
    {
     "data": {
      "text/plain": [
       "13.180959080705563"
      ]
     },
     "execution_count": 113,
     "metadata": {},
     "output_type": "execute_result"
    }
   ],
   "source": [
    "lamda/(1-lamda)"
   ]
  },
  {
   "cell_type": "markdown",
   "id": "5c1e6a4f-8f11-410f-933b-87fd0b363cb5",
   "metadata": {},
   "source": [
    "# <font face=\"gotham\" color=\"purple\"> Stochastic Processes </font>"
   ]
  },
  {
   "cell_type": "markdown",
   "id": "96fcc7f3-d644-4145-81aa-3c259f5e318c",
   "metadata": {},
   "source": [
    "Unstrictly speaking, **stochastic processes** is a subject of mathematics that studies a family of random variables which are indexed by time. Since time series data is a series of **realization** of a stochastic process, before investigating further, we will introduce some basic concepts of stochastic processes.\n",
    "\n",
    "For instance, we denote $GDP$ as $Y_t$ which is a stochastic process, therefore $Y_1$ and $Y_2$ are two different random variables, if $Y_1 = 12345$, then it is a realization of $t_1$. You can think of stochastic process as population and realization as sample as in cross-sectional data."
   ]
  },
  {
   "cell_type": "markdown",
   "id": "55f6509d-09b3-4f99-a69d-a3daf3cfbd85",
   "metadata": {},
   "source": [
    "## <font face=\"gotham\" color=\"purple\"> Stationary Stochastic Processes </font>"
   ]
  },
  {
   "cell_type": "markdown",
   "id": "a6e1e639-5058-49e2-a1bd-4d5274c8d5a1",
   "metadata": {},
   "source": [
    "A stochastic process is said to be **stationary** if its mean and variance are constant over time and the value of the covariance between the two time periods depends only on the distance $k$ between the two time periods and not the actual time at which the covariance is computed. Mathematically, a **weak stationary process** should satisfy three conditions:"
   ]
  },
  {
   "cell_type": "markdown",
   "id": "06514592-7ef5-4847-ae0e-27ad992e0cd5",
   "metadata": {},
   "source": [
    "\\begin{align}\n",
    "Mean:& \\quad E\\left(Y_{t}\\right)=\\mu\\\\\n",
    "Variance:&\\quad E\\left(Y_{t}-\\mu\\right)^{2}=\\sigma^{2}\\\\\n",
    "Covariance:&\\quad E\\left[\\left(Y_{t}-\\mu\\right)\\left(Y_{t+k}-\\mu\\right)\\right] = \\gamma_{k}\n",
    "\\end{align}"
   ]
  },
  {
   "cell_type": "markdown",
   "id": "9c60efe6-f449-4929-9b64-27aaee832cb2",
   "metadata": {},
   "source": [
    "Most of time weak stationary process will suffice, rarely we require a process to be **strong stationary** which means all moments are **time-invariant**. "
   ]
  },
  {
   "cell_type": "markdown",
   "id": "e3477356-6d6a-432e-b7e1-90422c7cbdfb",
   "metadata": {},
   "source": []
  }
 ],
 "metadata": {
  "kernelspec": {
   "display_name": "Python 3",
   "language": "python",
   "name": "python3"
  },
  "language_info": {
   "codemirror_mode": {
    "name": "ipython",
    "version": 3
   },
   "file_extension": ".py",
   "mimetype": "text/x-python",
   "name": "python",
   "nbconvert_exporter": "python",
   "pygments_lexer": "ipython3",
   "version": "3.8.8"
  }
 },
 "nbformat": 4,
 "nbformat_minor": 5
}
