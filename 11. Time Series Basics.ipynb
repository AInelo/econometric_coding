{
 "cells": [
  {
   "cell_type": "markdown",
   "id": "e24e5d9e-790b-4d2a-845d-f9a90973d575",
   "metadata": {},
   "source": [
    "# <font face=\"gotham\" color=\"purple\"> Autocorrelation</font>"
   ]
  },
  {
   "cell_type": "markdown",
   "id": "c620f533-9c60-4f68-a3bb-be79bdf6ca80",
   "metadata": {},
   "source": [
    "In Gauss-Markov Theorem, we have seen the requirement of no autocorrelation for _classical linear regression model_\n",
    "$$\n",
    "\\text{Cov}(u_i, u_j)=E(u_i,u_j)=0, \\qquad i\\neq j\n",
    "$$"
   ]
  },
  {
   "cell_type": "code",
   "execution_count": null,
   "id": "67cd08d2-cf79-47df-9828-954d12e4a54c",
   "metadata": {},
   "outputs": [],
   "source": []
  }
 ],
 "metadata": {
  "kernelspec": {
   "display_name": "Python 3",
   "language": "python",
   "name": "python3"
  },
  "language_info": {
   "codemirror_mode": {
    "name": "ipython",
    "version": 3
   },
   "file_extension": ".py",
   "mimetype": "text/x-python",
   "name": "python",
   "nbconvert_exporter": "python",
   "pygments_lexer": "ipython3",
   "version": "3.8.8"
  }
 },
 "nbformat": 4,
 "nbformat_minor": 5
}
