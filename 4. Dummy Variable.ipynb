{
 "cells": [
  {
   "cell_type": "code",
   "execution_count": 5,
   "id": "a874f13f-0ff4-4557-a4f4-23430574fdbd",
   "metadata": {},
   "outputs": [],
   "source": [
    "import numpy as np\n",
    "import matplotlib.pyplot as plt\n",
    "import pandas as pd\n",
    "import scipy as sp\n",
    "import scipy.stats\n",
    "import statsmodels.api as sm"
   ]
  },
  {
   "cell_type": "markdown",
   "id": "4d4e1491-3b45-4ece-adc5-556d9cad947a",
   "metadata": {},
   "source": [
    "# <font face=\"gotham\" color=\"purple\"> ANOVA </font>"
   ]
  },
  {
   "cell_type": "markdown",
   "id": "f2419679-4234-44bc-a964-69adc25228d4",
   "metadata": {},
   "source": [
    "If you have studied statistics, you certainly know the famous **Analysis of Variance** (ANOVA), you can skip this section, but if you haven't, read on.\n",
    "\n",
    "Simply speaking, the **Analysis of Variance** (ANOVA) is a technique of comparing means of multiple$(\\geq 3)$ populations, the name derives from the way how calculations are performed. \n",
    "\n",
    "For example, a common hypotheses of ANOVA are \n",
    "$$\n",
    "H_0:\\quad \\mu_1=\\mu_2=\\mu_3=\\cdots=\\mu_n\\\\\n",
    "H_1:\\quad \\text{At least two means differ}\n",
    "$$\n",
    "In order to construct $F$-statistic, we need to introduce two more statistics, the first one is **Mean Square for Treatments** (MST), $\\bar{\\bar{x}}$ is the grand mean, $\\bar{x}_i$ is the sample mean of sample $x_i$, $n_i$ is the number of observable in sample $i$\n",
    "$$\n",
    "MST=\\frac{SST}{k-1},\\qquad\\text{where } SST=\\sum_{i=1}^kn_i(\\bar{x}_i-\\bar{\\bar{x}})^2\n",
    "$$\n",
    "And the second one is **Mean Square for Error** (MSE), $s_i$ is the sample variance of sample $i$\n",
    "$$\n",
    "MSE=\\frac{SSE}{n-k},\\qquad\\text{where } SSE =(n_1-1)s_1^2+(n_2-1)s_2^2+\\cdots+(n_k-1)s_k^2\n",
    "$$\n",
    "Join them together, an $F$-statistic is constructed\n",
    "$$\n",
    "F=\\frac{MST}{MSE}\n",
    "$$\n",
    "If the $F$-statistic is larger than critical value with its corresponding degree of freedom, we reject null hypothesis."
   ]
  },
  {
   "cell_type": "markdown",
   "id": "5d568075-51b2-4ab9-9540-70f0cef0621a",
   "metadata": {},
   "source": [
    "# <font face=\"gotham\" color=\"purple\"> Dummy Variable </font>"
   ]
  },
  {
   "cell_type": "markdown",
   "id": "17a5cf54-e1b4-4c65-ae80-3119d142b674",
   "metadata": {},
   "source": [
    "Here's dataset with dummy variables, which are either $1$ or $0$. "
   ]
  },
  {
   "cell_type": "code",
   "execution_count": 6,
   "id": "0f75636f-6e87-40ab-ba7d-181b2a268cf1",
   "metadata": {},
   "outputs": [],
   "source": [
    "df = pd.read_excel('Basic_Econometrics_practice_data.xlsx', sheet_name = 'Hight_ANOVA')"
   ]
  },
  {
   "cell_type": "code",
   "execution_count": 7,
   "id": "fc8abfee-6602-4779-b70c-b5600dd1494f",
   "metadata": {},
   "outputs": [
    {
     "data": {
      "text/html": [
       "<div>\n",
       "<style scoped>\n",
       "    .dataframe tbody tr th:only-of-type {\n",
       "        vertical-align: middle;\n",
       "    }\n",
       "\n",
       "    .dataframe tbody tr th {\n",
       "        vertical-align: top;\n",
       "    }\n",
       "\n",
       "    .dataframe thead th {\n",
       "        text-align: right;\n",
       "    }\n",
       "</style>\n",
       "<table border=\"1\" class=\"dataframe\">\n",
       "  <thead>\n",
       "    <tr style=\"text-align: right;\">\n",
       "      <th></th>\n",
       "      <th>Height</th>\n",
       "      <th>NL_dummpy</th>\n",
       "      <th>DM_dummpy</th>\n",
       "      <th>FI_dummy</th>\n",
       "    </tr>\n",
       "  </thead>\n",
       "  <tbody>\n",
       "    <tr>\n",
       "      <th>0</th>\n",
       "      <td>161.783130</td>\n",
       "      <td>0</td>\n",
       "      <td>0</td>\n",
       "      <td>0</td>\n",
       "    </tr>\n",
       "    <tr>\n",
       "      <th>1</th>\n",
       "      <td>145.329934</td>\n",
       "      <td>0</td>\n",
       "      <td>0</td>\n",
       "      <td>0</td>\n",
       "    </tr>\n",
       "    <tr>\n",
       "      <th>2</th>\n",
       "      <td>174.569597</td>\n",
       "      <td>0</td>\n",
       "      <td>0</td>\n",
       "      <td>0</td>\n",
       "    </tr>\n",
       "    <tr>\n",
       "      <th>3</th>\n",
       "      <td>160.003162</td>\n",
       "      <td>0</td>\n",
       "      <td>0</td>\n",
       "      <td>0</td>\n",
       "    </tr>\n",
       "    <tr>\n",
       "      <th>4</th>\n",
       "      <td>162.242898</td>\n",
       "      <td>0</td>\n",
       "      <td>0</td>\n",
       "      <td>0</td>\n",
       "    </tr>\n",
       "    <tr>\n",
       "      <th>...</th>\n",
       "      <td>...</td>\n",
       "      <td>...</td>\n",
       "      <td>...</td>\n",
       "      <td>...</td>\n",
       "    </tr>\n",
       "    <tr>\n",
       "      <th>83</th>\n",
       "      <td>180.962477</td>\n",
       "      <td>0</td>\n",
       "      <td>0</td>\n",
       "      <td>1</td>\n",
       "    </tr>\n",
       "    <tr>\n",
       "      <th>84</th>\n",
       "      <td>172.791579</td>\n",
       "      <td>0</td>\n",
       "      <td>0</td>\n",
       "      <td>1</td>\n",
       "    </tr>\n",
       "    <tr>\n",
       "      <th>85</th>\n",
       "      <td>174.951880</td>\n",
       "      <td>0</td>\n",
       "      <td>0</td>\n",
       "      <td>1</td>\n",
       "    </tr>\n",
       "    <tr>\n",
       "      <th>86</th>\n",
       "      <td>176.059861</td>\n",
       "      <td>0</td>\n",
       "      <td>0</td>\n",
       "      <td>1</td>\n",
       "    </tr>\n",
       "    <tr>\n",
       "      <th>87</th>\n",
       "      <td>182.802878</td>\n",
       "      <td>0</td>\n",
       "      <td>0</td>\n",
       "      <td>1</td>\n",
       "    </tr>\n",
       "  </tbody>\n",
       "</table>\n",
       "<p>88 rows × 4 columns</p>\n",
       "</div>"
      ],
      "text/plain": [
       "        Height  NL_dummpy  DM_dummpy  FI_dummy\n",
       "0   161.783130          0          0         0\n",
       "1   145.329934          0          0         0\n",
       "2   174.569597          0          0         0\n",
       "3   160.003162          0          0         0\n",
       "4   162.242898          0          0         0\n",
       "..         ...        ...        ...       ...\n",
       "83  180.962477          0          0         1\n",
       "84  172.791579          0          0         1\n",
       "85  174.951880          0          0         1\n",
       "86  176.059861          0          0         1\n",
       "87  182.802878          0          0         1\n",
       "\n",
       "[88 rows x 4 columns]"
      ]
     },
     "execution_count": 7,
     "metadata": {},
     "output_type": "execute_result"
    }
   ],
   "source": [
    "df"
   ]
  },
  {
   "cell_type": "markdown",
   "id": "8089e1ad-5a39-4e40-b42d-e6da17746ad2",
   "metadata": {},
   "source": [
    "The dataset has five columns, the first column $Height$ is a sample of $88$ male height, other columns are dummy variables indication its qualitative feature, here is the nationality.\n",
    "\n",
    "There are four countries in the sample, Japan, Netherlands, Denmark and Finland, however there are only $3$ dummies in the data set, this is to avoid _perfect multicollinearity_, because the height data is the perfect linear combination of four dummy variables. \n",
    "\n",
    "If we use the model with only dummy variables as independent variable, we basically regressing a ANOVA model, i.e.\n",
    "$$\n",
    "Y_{i}=\\beta_{1}+\\beta_{2} D_{2 i}+\\beta_{3 i} \\mathrm{D}_{3 i}+\\beta_{3 i} \\mathrm{D}_{3 i}+u_{i}\n",
    "$$"
   ]
  },
  {
   "cell_type": "markdown",
   "id": "9b66e97d-9307-43cb-8d2c-d638a7e9f5d9",
   "metadata": {},
   "source": [
    "where $Y_i =$ the male height, $D_{2i}=1$ if the male is from Netherlands,  $D_{3i}=1$ if the male is from Denmark and $D_{4i}=1$ if the male is from Finland. Japan doesn't have a dummy variable, so we are using it as reference, which will be clearer later.\n",
    "\n",
    "Now we run the regression and print the result. And how do we interpret the estimated coefficients?"
   ]
  },
  {
   "cell_type": "code",
   "execution_count": 13,
   "id": "38b441a8-c7f8-456d-bc56-4c1ebbb1253e",
   "metadata": {},
   "outputs": [
    {
     "name": "stdout",
     "output_type": "stream",
     "text": [
      "                            OLS Regression Results                            \n",
      "==============================================================================\n",
      "Dep. Variable:                 Height   R-squared:                       0.453\n",
      "Model:                            OLS   Adj. R-squared:                  0.434\n",
      "Method:                 Least Squares   F-statistic:                     23.20\n",
      "Date:                Tue, 24 Aug 2021   Prob (F-statistic):           4.93e-11\n",
      "Time:                        10:56:32   Log-Likelihood:                -300.08\n",
      "No. Observations:                  88   AIC:                             608.2\n",
      "Df Residuals:                      84   BIC:                             618.1\n",
      "Df Model:                           3                                         \n",
      "Covariance Type:            nonrobust                                         \n",
      "==============================================================================\n",
      "                 coef    std err          t      P>|t|      [0.025      0.975]\n",
      "------------------------------------------------------------------------------\n",
      "const        163.0300      1.416    115.096      0.000     160.213     165.847\n",
      "NL_dummpy     17.7116      2.453      7.219      0.000      12.833      22.590\n",
      "DM_dummpy     12.2196      2.194      5.569      0.000       7.856      16.583\n",
      "FI_dummy      12.8530      2.041      6.296      0.000       8.794      16.912\n",
      "==============================================================================\n",
      "Omnibus:                       20.323   Durbin-Watson:                   2.355\n",
      "Prob(Omnibus):                  0.000   Jarque-Bera (JB):              105.597\n",
      "Skew:                          -0.355   Prob(JB):                     1.17e-23\n",
      "Kurtosis:                       8.319   Cond. No.                         4.40\n",
      "==============================================================================\n",
      "\n",
      "Notes:\n",
      "[1] Standard Errors assume that the covariance matrix of the errors is correctly specified.\n"
     ]
    }
   ],
   "source": [
    "X = df[['NL_dummpy', 'DM_dummpy', 'FI_dummy']]\n",
    "Y = df['Height']\n",
    "\n",
    "X = sm.add_constant(X) # adding a constant\n",
    "\n",
    "model = sm.OLS(Y, X).fit() \n",
    "print_model = model.summary()\n",
    "print(print_model)"
   ]
  },
  {
   "cell_type": "markdown",
   "id": "145b609e-c406-499d-823b-aa846e1905ab",
   "metadata": {},
   "source": [
    "First, all the $p$-value are significantly small, so our estimation is valid. Then we examine the coefficients one by one. \n",
    "\n",
    "The estimated constant $b_1 = 163.03$ is the mean height of Japanese male. The mean of Dutch male height is $b_1+b_2 = 163.03+17.71=180.74$, the mean of Danish male height is $b_1+b_3=163.03+12.21=175.24$, the mean of Finnish male height is $b_1+b_4=163.03+12.85=175.88$. "
   ]
  },
  {
   "cell_type": "code",
   "execution_count": null,
   "id": "62743c12-e933-4a43-8d14-f2950c26d7ee",
   "metadata": {},
   "outputs": [],
   "source": []
  }
 ],
 "metadata": {
  "kernelspec": {
   "display_name": "Python 3",
   "language": "python",
   "name": "python3"
  },
  "language_info": {
   "codemirror_mode": {
    "name": "ipython",
    "version": 3
   },
   "file_extension": ".py",
   "mimetype": "text/x-python",
   "name": "python",
   "nbconvert_exporter": "python",
   "pygments_lexer": "ipython3",
   "version": "3.8.8"
  }
 },
 "nbformat": 4,
 "nbformat_minor": 5
}
