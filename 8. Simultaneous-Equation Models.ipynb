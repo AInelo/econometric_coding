{
 "cells": [
  {
   "cell_type": "markdown",
   "id": "896e1abc-97a6-43d5-b5a6-7fe361e70826",
   "metadata": {},
   "source": [
    "# <font face=\"gotham\" color=\"purple\"> Terminologies Of Identification </font>"
   ]
  },
  {
   "cell_type": "markdown",
   "id": "3ab2a93b-e85c-4d20-82ef-c1b42d63c705",
   "metadata": {},
   "source": [
    "Before discussing simultaneous-equation models, we should clarify some terminologies that are commonly seen in macroeconomic literature. \n",
    "\n",
    "The **identification** was originally a statistical term which describes a model with multiple sets of parameters, but generates the same distribution, therefore the parameters can't be identified by investigating the generated observations.\n",
    "\n",
    "In econometric research, identification concerns more about identifying the causality, especially in multiple equation models. For easy demonstration, below is a time series model of three equations. The subscript $t$ represents the time period.\n",
    "\n",
    "This is all called **structural model**, because they may portray the structure of economy or behaviors of an economic agent."
   ]
  },
  {
   "cell_type": "markdown",
   "id": "58042fff-4ced-450e-a8cd-618ef397d03c",
   "metadata": {},
   "source": [
    "\\begin{align}\n",
    "Y_{1t} &= \\quad\\qquad+\\beta_{12}Y_{2t}+\\beta_{13}Y_{3t} + \\gamma_{11} X_{1t}+ \\gamma_{12} X_{2t} +\\gamma_{13} X_{3t}+u_{1t}\\\\\n",
    "Y_{2t} &= \\beta_{11}Y_{1t}\\quad\\quad\\qquad+\\beta_{13}Y_{3t} + \\gamma_{11} X_{1t}+ \\gamma_{12} X_{2t} +\\gamma_{13} X_{3t}+u_{2t}\\\\\n",
    "Y_{2t} &= \\beta_{11}Y_{1t}+\\beta_{12}Y_{2t} +\\quad\\qquad+ \\gamma_{11} X_{1t}+ \\gamma_{12} X_{2t} +\\gamma_{13} X_{3t}+u_{2t}\\\\\n",
    "\\end{align}"
   ]
  },
  {
   "cell_type": "markdown",
   "id": "3b3939de-b48e-412e-a9cb-322711ed5017",
   "metadata": {},
   "source": [
    "$Y_1$, $Y_2$ and $Y_3$ are **endogenous** variables, i.e. values are determined within the model; $X_1$, $X_2$ and $X_3$  are the **predetermined** variables, which are treated as non-stochastic; $u_1$, $u_2$ and $u_3$ are disturbance terms. Note that we have ceased using terms such as _dependent_ or _independent_ variables as in single equation model any more.\n",
    "\n",
    "The _predetermined_ variables are divided into two categories: **exogenous** (such as $X_{1t}, X_{1, t-1}$) and **lagged endogenous** (such as $Y_{1, t-1}$), which are not determined by the model in the current time period. But in practice, the researchers themselves should classify variables based on theoretical grounds or experience."
   ]
  },
  {
   "cell_type": "markdown",
   "id": "0aeaaf8f-a85a-4191-9af7-0dc72dec8080",
   "metadata": {},
   "source": [
    "A common macroeconomic practice is to convert the structural form equations into the **reduced form equations**, which express endogenous variables solely in terms of the predetermined variables and disturbance terms."
   ]
  },
  {
   "cell_type": "code",
   "execution_count": null,
   "id": "701321ff-2594-4693-8c7e-c9088cfb0b95",
   "metadata": {},
   "outputs": [],
   "source": []
  }
 ],
 "metadata": {
  "kernelspec": {
   "display_name": "Python 3",
   "language": "python",
   "name": "python3"
  },
  "language_info": {
   "codemirror_mode": {
    "name": "ipython",
    "version": 3
   },
   "file_extension": ".py",
   "mimetype": "text/x-python",
   "name": "python",
   "nbconvert_exporter": "python",
   "pygments_lexer": "ipython3",
   "version": "3.8.8"
  }
 },
 "nbformat": 4,
 "nbformat_minor": 5
}
